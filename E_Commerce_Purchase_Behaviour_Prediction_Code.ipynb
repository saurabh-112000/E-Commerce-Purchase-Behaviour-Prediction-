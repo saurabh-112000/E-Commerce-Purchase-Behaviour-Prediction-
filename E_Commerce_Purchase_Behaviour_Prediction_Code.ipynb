{
  "cells": [
    {
      "cell_type": "markdown",
      "id": "b99e5ad9",
      "metadata": {
        "id": "b99e5ad9"
      },
      "source": [
        "### Import Packages"
      ]
    },
    {
      "cell_type": "code",
      "execution_count": null,
      "id": "c363badc-be08-4d01-a19b-83b2a4318e20",
      "metadata": {
        "id": "c363badc-be08-4d01-a19b-83b2a4318e20"
      },
      "outputs": [],
      "source": [
        "import os\n",
        "import pandas as pd\n",
        "import numpy as np\n",
        "from pathlib import Path"
      ]
    },
    {
      "cell_type": "code",
      "execution_count": null,
      "id": "d547e41b-be71-4e65-ad97-7d8fad7155a7",
      "metadata": {
        "id": "d547e41b-be71-4e65-ad97-7d8fad7155a7"
      },
      "outputs": [],
      "source": [
        "projectdir = Path(os.getcwd())\n",
        "datadir = projectdir.parent / 'Dataset'\n",
        "data = pd.read_csv('e-shop clothing 2008.csv', delimiter=';')"
      ]
    },
    {
      "cell_type": "code",
      "execution_count": null,
      "id": "KRREl5ALhsTx",
      "metadata": {
        "colab": {
          "base_uri": "https://localhost:8080/"
        },
        "id": "KRREl5ALhsTx",
        "outputId": "16a072ce-001f-4e53-b6b3-ab326d7e733f"
      },
      "outputs": [
        {
          "data": {
            "text/plain": [
              "(165464, 14)"
            ]
          },
          "execution_count": 197,
          "metadata": {},
          "output_type": "execute_result"
        }
      ],
      "source": [
        "data.shape"
      ]
    },
    {
      "cell_type": "code",
      "execution_count": null,
      "id": "5d4b5b73-d507-4107-995a-c69332324a7a",
      "metadata": {
        "colab": {
          "base_uri": "https://localhost:8080/",
          "height": 160
        },
        "id": "5d4b5b73-d507-4107-995a-c69332324a7a",
        "outputId": "c2f4f325-82a4-4c8a-c352-567f60c06796"
      },
      "outputs": [
        {
          "data": {
            "text/html": [
              "<div>\n",
              "<style scoped>\n",
              "    .dataframe tbody tr th:only-of-type {\n",
              "        vertical-align: middle;\n",
              "    }\n",
              "\n",
              "    .dataframe tbody tr th {\n",
              "        vertical-align: top;\n",
              "    }\n",
              "\n",
              "    .dataframe thead th {\n",
              "        text-align: right;\n",
              "    }\n",
              "</style>\n",
              "<table border=\"1\" class=\"dataframe\">\n",
              "  <thead>\n",
              "    <tr style=\"text-align: right;\">\n",
              "      <th></th>\n",
              "      <th>year</th>\n",
              "      <th>month</th>\n",
              "      <th>day</th>\n",
              "      <th>order</th>\n",
              "      <th>country</th>\n",
              "      <th>session ID</th>\n",
              "      <th>page 1 (main category)</th>\n",
              "      <th>page 2 (clothing model)</th>\n",
              "      <th>colour</th>\n",
              "      <th>location</th>\n",
              "      <th>model photography</th>\n",
              "      <th>price</th>\n",
              "      <th>price 2</th>\n",
              "      <th>page</th>\n",
              "    </tr>\n",
              "  </thead>\n",
              "  <tbody>\n",
              "    <tr>\n",
              "      <th>0</th>\n",
              "      <td>2008</td>\n",
              "      <td>4</td>\n",
              "      <td>1</td>\n",
              "      <td>1</td>\n",
              "      <td>29</td>\n",
              "      <td>1</td>\n",
              "      <td>1</td>\n",
              "      <td>A13</td>\n",
              "      <td>1</td>\n",
              "      <td>5</td>\n",
              "      <td>1</td>\n",
              "      <td>28</td>\n",
              "      <td>2</td>\n",
              "      <td>1</td>\n",
              "    </tr>\n",
              "    <tr>\n",
              "      <th>1</th>\n",
              "      <td>2008</td>\n",
              "      <td>4</td>\n",
              "      <td>1</td>\n",
              "      <td>2</td>\n",
              "      <td>29</td>\n",
              "      <td>1</td>\n",
              "      <td>1</td>\n",
              "      <td>A16</td>\n",
              "      <td>1</td>\n",
              "      <td>6</td>\n",
              "      <td>1</td>\n",
              "      <td>33</td>\n",
              "      <td>2</td>\n",
              "      <td>1</td>\n",
              "    </tr>\n",
              "    <tr>\n",
              "      <th>2</th>\n",
              "      <td>2008</td>\n",
              "      <td>4</td>\n",
              "      <td>1</td>\n",
              "      <td>3</td>\n",
              "      <td>29</td>\n",
              "      <td>1</td>\n",
              "      <td>2</td>\n",
              "      <td>B4</td>\n",
              "      <td>10</td>\n",
              "      <td>2</td>\n",
              "      <td>1</td>\n",
              "      <td>52</td>\n",
              "      <td>1</td>\n",
              "      <td>1</td>\n",
              "    </tr>\n",
              "  </tbody>\n",
              "</table>\n",
              "</div>"
            ],
            "text/plain": [
              "   year  month  day  order  country  session ID  page 1 (main category)  \\\n",
              "0  2008      4    1      1       29           1                       1   \n",
              "1  2008      4    1      2       29           1                       1   \n",
              "2  2008      4    1      3       29           1                       2   \n",
              "\n",
              "  page 2 (clothing model)  colour  location  model photography  price  \\\n",
              "0                     A13       1         5                  1     28   \n",
              "1                     A16       1         6                  1     33   \n",
              "2                      B4      10         2                  1     52   \n",
              "\n",
              "   price 2  page  \n",
              "0        2     1  \n",
              "1        2     1  \n",
              "2        1     1  "
            ]
          },
          "execution_count": 198,
          "metadata": {},
          "output_type": "execute_result"
        }
      ],
      "source": [
        "data.head(3)"
      ]
    },
    {
      "cell_type": "code",
      "execution_count": null,
      "id": "07f00531-7251-4665-ad2a-4169f25316e1",
      "metadata": {
        "colab": {
          "base_uri": "https://localhost:8080/"
        },
        "id": "07f00531-7251-4665-ad2a-4169f25316e1",
        "outputId": "922bad73-7836-4b62-e4df-51bc3d5bcd21"
      },
      "outputs": [
        {
          "name": "stdout",
          "output_type": "stream",
          "text": [
            "<class 'pandas.core.frame.DataFrame'>\n",
            "RangeIndex: 165464 entries, 0 to 165463\n",
            "Data columns (total 14 columns):\n",
            " #   Column                   Non-Null Count   Dtype \n",
            "---  ------                   --------------   ----- \n",
            " 0   year                     165464 non-null  int64 \n",
            " 1   month                    165464 non-null  int64 \n",
            " 2   day                      165464 non-null  int64 \n",
            " 3   order                    165464 non-null  int64 \n",
            " 4   country                  165464 non-null  int64 \n",
            " 5   session ID               165464 non-null  int64 \n",
            " 6   page 1 (main category)   165464 non-null  int64 \n",
            " 7   page 2 (clothing model)  165464 non-null  object\n",
            " 8   colour                   165464 non-null  int64 \n",
            " 9   location                 165464 non-null  int64 \n",
            " 10  model photography        165464 non-null  int64 \n",
            " 11  price                    165464 non-null  int64 \n",
            " 12  price 2                  165464 non-null  int64 \n",
            " 13  page                     165464 non-null  int64 \n",
            "dtypes: int64(13), object(1)\n",
            "memory usage: 17.7+ MB\n"
          ]
        }
      ],
      "source": [
        "data.info()"
      ]
    },
    {
      "cell_type": "markdown",
      "id": "fc6607fa",
      "metadata": {
        "id": "fc6607fa"
      },
      "source": [
        "#### Rename columns"
      ]
    },
    {
      "cell_type": "code",
      "execution_count": null,
      "id": "bb969596-97bf-46ab-a48d-d4823dad87a5",
      "metadata": {
        "id": "bb969596-97bf-46ab-a48d-d4823dad87a5"
      },
      "outputs": [],
      "source": [
        "data.rename(columns={\n",
        "    'session ID': 'session-id',\n",
        "    'price 2': 'price-higher-than-category',\n",
        "    'page 1 (main category)': 'category',\n",
        "    'page 2 (clothing model)': 'product-code',\n",
        "    'model photography': 'model-photography',\n",
        "    'page': 'page-no'\n",
        "}, inplace=True)"
      ]
    },
    {
      "cell_type": "markdown",
      "id": "b5eee703",
      "metadata": {
        "id": "b5eee703"
      },
      "source": [
        "#### Data Encoding"
      ]
    },
    {
      "cell_type": "code",
      "execution_count": null,
      "id": "ae76367c-fe48-4c65-83af-66b5c2dcee13",
      "metadata": {
        "id": "ae76367c-fe48-4c65-83af-66b5c2dcee13"
      },
      "outputs": [],
      "source": [
        "data['price-higher-than-category'] = data['price-higher-than-category'].apply(lambda x: 1 if x == 1 else 0)"
      ]
    },
    {
      "cell_type": "code",
      "execution_count": null,
      "id": "fc9d8b46-24e1-48fa-b601-649ac3fe5842",
      "metadata": {
        "id": "fc9d8b46-24e1-48fa-b601-649ac3fe5842"
      },
      "outputs": [],
      "source": [
        "class LabelEncoder:\n",
        "    def __init__(self) -> None:\n",
        "        self.str2idx = {}\n",
        "        self.idx2str = {}\n",
        "\n",
        "    def __str__(self) -> str:\n",
        "        return f'Number of encoded strings: {len(self.str2idx)}'\n",
        "\n",
        "    def __repr__(self) -> str:\n",
        "        return self.__str__()\n",
        "\n",
        "    def fit(self, col: np.array) -> None:\n",
        "        c = 0\n",
        "        for strItem in col:\n",
        "            if strItem not in self.str2idx:\n",
        "                self.str2idx[strItem] = c\n",
        "                self.idx2str[c] = strItem\n",
        "                c += 1\n",
        "\n",
        "    def transform(self, col: np.array) -> np.array:\n",
        "        return np.array([self.str2idx[ele] for ele in col])\n",
        "\n",
        "    def inverse_transform(self, col: np.array) -> np.array:\n",
        "        return np.array([self.idx2str[ele] for ele in col])\n",
        "\n",
        "    def fit_transform(self, col: np.array) -> np.array:\n",
        "        self.fit(col)\n",
        "        return self.transform(col)"
      ]
    },
    {
      "cell_type": "code",
      "execution_count": null,
      "id": "a5be9d44-590b-4146-bc6e-fb46eca7b0c0",
      "metadata": {
        "id": "a5be9d44-590b-4146-bc6e-fb46eca7b0c0"
      },
      "outputs": [],
      "source": [
        "product_encoder = LabelEncoder()\n",
        "data['product-code-en'] = product_encoder.fit_transform(data['product-code'])"
      ]
    },
    {
      "cell_type": "code",
      "execution_count": null,
      "id": "a9526ba2-5e56-46c8-a784-703d506149cb",
      "metadata": {
        "id": "a9526ba2-5e56-46c8-a784-703d506149cb"
      },
      "outputs": [],
      "source": [
        "def price_bucketing(price: int):\n",
        "    if price in range(0, 26):\n",
        "        return 'budget'\n",
        "    elif price in range(26, 36):\n",
        "        return 'value'\n",
        "    elif price in range(35, 66):\n",
        "        return 'average'\n",
        "    elif price in range(66, 101):\n",
        "        return 'premium'\n",
        "    else:\n",
        "        return None\n",
        "\n",
        "data['price-category'] = data['price'].apply(lambda price: price_bucketing(price))"
      ]
    },
    {
      "cell_type": "code",
      "execution_count": null,
      "id": "c44ff699-8e8e-47da-91fe-e93152e8161e",
      "metadata": {
        "id": "c44ff699-8e8e-47da-91fe-e93152e8161e"
      },
      "outputs": [],
      "source": [
        "price_category_encoder = LabelEncoder()\n",
        "data['price-category_en'] = price_category_encoder.fit_transform(data['price-category'])"
      ]
    },
    {
      "cell_type": "code",
      "execution_count": null,
      "id": "7b3f62d7-dca6-4dd0-aa3b-07afda6dd96d",
      "metadata": {
        "id": "7b3f62d7-dca6-4dd0-aa3b-07afda6dd96d"
      },
      "outputs": [],
      "source": [
        "data.drop(['price-category', 'product-code'], axis=1, inplace=True)"
      ]
    },
    {
      "cell_type": "code",
      "execution_count": null,
      "id": "279d7b84-3352-466b-a47f-dcfed73eca04",
      "metadata": {
        "colab": {
          "base_uri": "https://localhost:8080/"
        },
        "id": "279d7b84-3352-466b-a47f-dcfed73eca04",
        "outputId": "840705f9-e6e8-4011-83d5-6070f2884199"
      },
      "outputs": [
        {
          "name": "stdout",
          "output_type": "stream",
          "text": [
            "<class 'pandas.core.frame.DataFrame'>\n",
            "RangeIndex: 165464 entries, 0 to 165463\n",
            "Data columns (total 15 columns):\n",
            " #   Column                      Non-Null Count   Dtype\n",
            "---  ------                      --------------   -----\n",
            " 0   year                        165464 non-null  int64\n",
            " 1   month                       165464 non-null  int64\n",
            " 2   day                         165464 non-null  int64\n",
            " 3   order                       165464 non-null  int64\n",
            " 4   country                     165464 non-null  int64\n",
            " 5   session-id                  165464 non-null  int64\n",
            " 6   category                    165464 non-null  int64\n",
            " 7   colour                      165464 non-null  int64\n",
            " 8   location                    165464 non-null  int64\n",
            " 9   model-photography           165464 non-null  int64\n",
            " 10  price                       165464 non-null  int64\n",
            " 11  price-higher-than-category  165464 non-null  int64\n",
            " 12  page-no                     165464 non-null  int64\n",
            " 13  product-code-en             165464 non-null  int32\n",
            " 14  price-category_en           165464 non-null  int32\n",
            "dtypes: int32(2), int64(13)\n",
            "memory usage: 17.7 MB\n"
          ]
        }
      ],
      "source": [
        "data.info()"
      ]
    },
    {
      "cell_type": "markdown",
      "id": "9524025a-c221-4813-a45f-8bcabfd4a596",
      "metadata": {
        "id": "9524025a-c221-4813-a45f-8bcabfd4a596"
      },
      "source": [
        "#### Missing values"
      ]
    },
    {
      "cell_type": "code",
      "execution_count": null,
      "id": "8d252045-d4eb-4e22-a195-5c1fd16521e7",
      "metadata": {
        "colab": {
          "base_uri": "https://localhost:8080/"
        },
        "id": "8d252045-d4eb-4e22-a195-5c1fd16521e7",
        "outputId": "34a78c14-b4cc-46ae-a4c4-8c4d2cd765e5",
        "scrolled": true
      },
      "outputs": [
        {
          "data": {
            "text/plain": [
              "year                          0\n",
              "month                         0\n",
              "day                           0\n",
              "order                         0\n",
              "country                       0\n",
              "session-id                    0\n",
              "category                      0\n",
              "colour                        0\n",
              "location                      0\n",
              "model-photography             0\n",
              "price                         0\n",
              "price-higher-than-category    0\n",
              "page-no                       0\n",
              "product-code-en               0\n",
              "price-category_en             0\n",
              "dtype: int64"
            ]
          },
          "execution_count": 208,
          "metadata": {},
          "output_type": "execute_result"
        }
      ],
      "source": [
        "data.isna().sum()"
      ]
    },
    {
      "cell_type": "markdown",
      "id": "6f02401e-f065-48ec-93b8-f3b21fcb4913",
      "metadata": {
        "id": "6f02401e-f065-48ec-93b8-f3b21fcb4913"
      },
      "source": [
        "Retrieving from S3 public dataset bucket"
      ]
    },
    {
      "cell_type": "code",
      "execution_count": null,
      "id": "b1164aa7-85f4-48a1-9d86-ffe158e69f1e",
      "metadata": {
        "id": "b1164aa7-85f4-48a1-9d86-ffe158e69f1e"
      },
      "outputs": [],
      "source": [
        "comp_data = pd.read_csv('e-shop clothing 2008.csv', delimiter=';')"
      ]
    },
    {
      "cell_type": "code",
      "execution_count": null,
      "id": "3eadb4e2-d2f7-4350-b494-fcb96afcb09f",
      "metadata": {
        "colab": {
          "base_uri": "https://localhost:8080/",
          "height": 380
        },
        "id": "3eadb4e2-d2f7-4350-b494-fcb96afcb09f",
        "outputId": "a2b55125-a41c-4fea-ee36-643cecad1982"
      },
      "outputs": [
        {
          "data": {
            "text/html": [
              "<div>\n",
              "<style scoped>\n",
              "    .dataframe tbody tr th:only-of-type {\n",
              "        vertical-align: middle;\n",
              "    }\n",
              "\n",
              "    .dataframe tbody tr th {\n",
              "        vertical-align: top;\n",
              "    }\n",
              "\n",
              "    .dataframe thead th {\n",
              "        text-align: right;\n",
              "    }\n",
              "</style>\n",
              "<table border=\"1\" class=\"dataframe\">\n",
              "  <thead>\n",
              "    <tr style=\"text-align: right;\">\n",
              "      <th></th>\n",
              "      <th>year</th>\n",
              "      <th>month</th>\n",
              "      <th>day</th>\n",
              "      <th>order</th>\n",
              "      <th>country</th>\n",
              "      <th>session ID</th>\n",
              "      <th>page 1 (main category)</th>\n",
              "      <th>page 2 (clothing model)</th>\n",
              "      <th>colour</th>\n",
              "      <th>location</th>\n",
              "      <th>model photography</th>\n",
              "      <th>price</th>\n",
              "      <th>price 2</th>\n",
              "      <th>page</th>\n",
              "    </tr>\n",
              "  </thead>\n",
              "  <tbody>\n",
              "    <tr>\n",
              "      <th>0</th>\n",
              "      <td>2008</td>\n",
              "      <td>4</td>\n",
              "      <td>1</td>\n",
              "      <td>1</td>\n",
              "      <td>29</td>\n",
              "      <td>1</td>\n",
              "      <td>1</td>\n",
              "      <td>A13</td>\n",
              "      <td>1</td>\n",
              "      <td>5</td>\n",
              "      <td>1</td>\n",
              "      <td>28</td>\n",
              "      <td>2</td>\n",
              "      <td>1</td>\n",
              "    </tr>\n",
              "    <tr>\n",
              "      <th>1</th>\n",
              "      <td>2008</td>\n",
              "      <td>4</td>\n",
              "      <td>1</td>\n",
              "      <td>2</td>\n",
              "      <td>29</td>\n",
              "      <td>1</td>\n",
              "      <td>1</td>\n",
              "      <td>A16</td>\n",
              "      <td>1</td>\n",
              "      <td>6</td>\n",
              "      <td>1</td>\n",
              "      <td>33</td>\n",
              "      <td>2</td>\n",
              "      <td>1</td>\n",
              "    </tr>\n",
              "    <tr>\n",
              "      <th>2</th>\n",
              "      <td>2008</td>\n",
              "      <td>4</td>\n",
              "      <td>1</td>\n",
              "      <td>3</td>\n",
              "      <td>29</td>\n",
              "      <td>1</td>\n",
              "      <td>2</td>\n",
              "      <td>B4</td>\n",
              "      <td>10</td>\n",
              "      <td>2</td>\n",
              "      <td>1</td>\n",
              "      <td>52</td>\n",
              "      <td>1</td>\n",
              "      <td>1</td>\n",
              "    </tr>\n",
              "    <tr>\n",
              "      <th>3</th>\n",
              "      <td>2008</td>\n",
              "      <td>4</td>\n",
              "      <td>1</td>\n",
              "      <td>4</td>\n",
              "      <td>29</td>\n",
              "      <td>1</td>\n",
              "      <td>2</td>\n",
              "      <td>B17</td>\n",
              "      <td>6</td>\n",
              "      <td>6</td>\n",
              "      <td>2</td>\n",
              "      <td>38</td>\n",
              "      <td>2</td>\n",
              "      <td>1</td>\n",
              "    </tr>\n",
              "    <tr>\n",
              "      <th>4</th>\n",
              "      <td>2008</td>\n",
              "      <td>4</td>\n",
              "      <td>1</td>\n",
              "      <td>5</td>\n",
              "      <td>29</td>\n",
              "      <td>1</td>\n",
              "      <td>2</td>\n",
              "      <td>B8</td>\n",
              "      <td>4</td>\n",
              "      <td>3</td>\n",
              "      <td>2</td>\n",
              "      <td>52</td>\n",
              "      <td>1</td>\n",
              "      <td>1</td>\n",
              "    </tr>\n",
              "    <tr>\n",
              "      <th>5</th>\n",
              "      <td>2008</td>\n",
              "      <td>4</td>\n",
              "      <td>1</td>\n",
              "      <td>6</td>\n",
              "      <td>29</td>\n",
              "      <td>1</td>\n",
              "      <td>3</td>\n",
              "      <td>C56</td>\n",
              "      <td>6</td>\n",
              "      <td>1</td>\n",
              "      <td>2</td>\n",
              "      <td>57</td>\n",
              "      <td>1</td>\n",
              "      <td>4</td>\n",
              "    </tr>\n",
              "    <tr>\n",
              "      <th>6</th>\n",
              "      <td>2008</td>\n",
              "      <td>4</td>\n",
              "      <td>1</td>\n",
              "      <td>7</td>\n",
              "      <td>29</td>\n",
              "      <td>1</td>\n",
              "      <td>3</td>\n",
              "      <td>C57</td>\n",
              "      <td>5</td>\n",
              "      <td>1</td>\n",
              "      <td>2</td>\n",
              "      <td>33</td>\n",
              "      <td>2</td>\n",
              "      <td>4</td>\n",
              "    </tr>\n",
              "    <tr>\n",
              "      <th>7</th>\n",
              "      <td>2008</td>\n",
              "      <td>4</td>\n",
              "      <td>1</td>\n",
              "      <td>8</td>\n",
              "      <td>29</td>\n",
              "      <td>1</td>\n",
              "      <td>4</td>\n",
              "      <td>P67</td>\n",
              "      <td>9</td>\n",
              "      <td>5</td>\n",
              "      <td>1</td>\n",
              "      <td>38</td>\n",
              "      <td>1</td>\n",
              "      <td>4</td>\n",
              "    </tr>\n",
              "    <tr>\n",
              "      <th>8</th>\n",
              "      <td>2008</td>\n",
              "      <td>4</td>\n",
              "      <td>1</td>\n",
              "      <td>9</td>\n",
              "      <td>29</td>\n",
              "      <td>1</td>\n",
              "      <td>4</td>\n",
              "      <td>P82</td>\n",
              "      <td>6</td>\n",
              "      <td>4</td>\n",
              "      <td>2</td>\n",
              "      <td>48</td>\n",
              "      <td>1</td>\n",
              "      <td>5</td>\n",
              "    </tr>\n",
              "    <tr>\n",
              "      <th>9</th>\n",
              "      <td>2008</td>\n",
              "      <td>4</td>\n",
              "      <td>1</td>\n",
              "      <td>1</td>\n",
              "      <td>29</td>\n",
              "      <td>2</td>\n",
              "      <td>2</td>\n",
              "      <td>B31</td>\n",
              "      <td>9</td>\n",
              "      <td>5</td>\n",
              "      <td>1</td>\n",
              "      <td>57</td>\n",
              "      <td>1</td>\n",
              "      <td>2</td>\n",
              "    </tr>\n",
              "  </tbody>\n",
              "</table>\n",
              "</div>"
            ],
            "text/plain": [
              "   year  month  day  order  country  session ID  page 1 (main category)  \\\n",
              "0  2008      4    1      1       29           1                       1   \n",
              "1  2008      4    1      2       29           1                       1   \n",
              "2  2008      4    1      3       29           1                       2   \n",
              "3  2008      4    1      4       29           1                       2   \n",
              "4  2008      4    1      5       29           1                       2   \n",
              "5  2008      4    1      6       29           1                       3   \n",
              "6  2008      4    1      7       29           1                       3   \n",
              "7  2008      4    1      8       29           1                       4   \n",
              "8  2008      4    1      9       29           1                       4   \n",
              "9  2008      4    1      1       29           2                       2   \n",
              "\n",
              "  page 2 (clothing model)  colour  location  model photography  price  \\\n",
              "0                     A13       1         5                  1     28   \n",
              "1                     A16       1         6                  1     33   \n",
              "2                      B4      10         2                  1     52   \n",
              "3                     B17       6         6                  2     38   \n",
              "4                      B8       4         3                  2     52   \n",
              "5                     C56       6         1                  2     57   \n",
              "6                     C57       5         1                  2     33   \n",
              "7                     P67       9         5                  1     38   \n",
              "8                     P82       6         4                  2     48   \n",
              "9                     B31       9         5                  1     57   \n",
              "\n",
              "   price 2  page  \n",
              "0        2     1  \n",
              "1        2     1  \n",
              "2        1     1  \n",
              "3        2     1  \n",
              "4        1     1  \n",
              "5        1     4  \n",
              "6        2     4  \n",
              "7        1     4  \n",
              "8        1     5  \n",
              "9        1     2  "
            ]
          },
          "execution_count": 211,
          "metadata": {},
          "output_type": "execute_result"
        }
      ],
      "source": [
        "comp_data.head(10)"
      ]
    },
    {
      "cell_type": "markdown",
      "id": "e6f2b7fe",
      "metadata": {
        "id": "e6f2b7fe"
      },
      "source": [
        "### Get Data"
      ]
    },
    {
      "cell_type": "code",
      "execution_count": null,
      "id": "d892d30a",
      "metadata": {
        "id": "d892d30a"
      },
      "outputs": [],
      "source": [
        "!pip install calplot"
      ]
    },
    {
      "cell_type": "markdown",
      "id": "912e8cc2",
      "metadata": {
        "id": "912e8cc2"
      },
      "source": [
        "### Import Packages"
      ]
    },
    {
      "cell_type": "code",
      "execution_count": null,
      "id": "4480b116",
      "metadata": {
        "id": "4480b116"
      },
      "outputs": [],
      "source": [
        "import calplot\n",
        "import numpy as np\n",
        "import pandas as pd\n",
        "import seaborn as sns\n",
        "import matplotlib.pyplot as plt\n",
        "import statsmodels.api as sm\n",
        "import plotly.express as px\n",
        "from sklearn.model_selection import train_test_split"
      ]
    },
    {
      "cell_type": "code",
      "execution_count": null,
      "id": "30def856",
      "metadata": {
        "id": "30def856"
      },
      "outputs": [],
      "source": [
        "# data = pd.read_csv('e-shop clothing 2008.csv', delimiter=';')"
      ]
    },
    {
      "cell_type": "code",
      "execution_count": null,
      "id": "702dfbfe",
      "metadata": {
        "colab": {
          "base_uri": "https://localhost:8080/",
          "height": 226
        },
        "id": "702dfbfe",
        "outputId": "9b36b19f-a1a0-4b96-af1c-d07646b54c7d"
      },
      "outputs": [
        {
          "data": {
            "text/html": [
              "<div>\n",
              "<style scoped>\n",
              "    .dataframe tbody tr th:only-of-type {\n",
              "        vertical-align: middle;\n",
              "    }\n",
              "\n",
              "    .dataframe tbody tr th {\n",
              "        vertical-align: top;\n",
              "    }\n",
              "\n",
              "    .dataframe thead th {\n",
              "        text-align: right;\n",
              "    }\n",
              "</style>\n",
              "<table border=\"1\" class=\"dataframe\">\n",
              "  <thead>\n",
              "    <tr style=\"text-align: right;\">\n",
              "      <th></th>\n",
              "      <th>year</th>\n",
              "      <th>month</th>\n",
              "      <th>day</th>\n",
              "      <th>order</th>\n",
              "      <th>country</th>\n",
              "      <th>session-id</th>\n",
              "      <th>category</th>\n",
              "      <th>colour</th>\n",
              "      <th>location</th>\n",
              "      <th>model-photography</th>\n",
              "      <th>price</th>\n",
              "      <th>price-higher-than-category</th>\n",
              "      <th>page-no</th>\n",
              "      <th>product-code-en</th>\n",
              "      <th>price-category_en</th>\n",
              "    </tr>\n",
              "  </thead>\n",
              "  <tbody>\n",
              "    <tr>\n",
              "      <th>0</th>\n",
              "      <td>2008</td>\n",
              "      <td>4</td>\n",
              "      <td>1</td>\n",
              "      <td>1</td>\n",
              "      <td>29</td>\n",
              "      <td>1</td>\n",
              "      <td>1</td>\n",
              "      <td>1</td>\n",
              "      <td>5</td>\n",
              "      <td>1</td>\n",
              "      <td>28</td>\n",
              "      <td>0</td>\n",
              "      <td>1</td>\n",
              "      <td>0</td>\n",
              "      <td>0</td>\n",
              "    </tr>\n",
              "    <tr>\n",
              "      <th>1</th>\n",
              "      <td>2008</td>\n",
              "      <td>4</td>\n",
              "      <td>1</td>\n",
              "      <td>2</td>\n",
              "      <td>29</td>\n",
              "      <td>1</td>\n",
              "      <td>1</td>\n",
              "      <td>1</td>\n",
              "      <td>6</td>\n",
              "      <td>1</td>\n",
              "      <td>33</td>\n",
              "      <td>0</td>\n",
              "      <td>1</td>\n",
              "      <td>1</td>\n",
              "      <td>0</td>\n",
              "    </tr>\n",
              "    <tr>\n",
              "      <th>2</th>\n",
              "      <td>2008</td>\n",
              "      <td>4</td>\n",
              "      <td>1</td>\n",
              "      <td>3</td>\n",
              "      <td>29</td>\n",
              "      <td>1</td>\n",
              "      <td>2</td>\n",
              "      <td>10</td>\n",
              "      <td>2</td>\n",
              "      <td>1</td>\n",
              "      <td>52</td>\n",
              "      <td>1</td>\n",
              "      <td>1</td>\n",
              "      <td>2</td>\n",
              "      <td>1</td>\n",
              "    </tr>\n",
              "    <tr>\n",
              "      <th>3</th>\n",
              "      <td>2008</td>\n",
              "      <td>4</td>\n",
              "      <td>1</td>\n",
              "      <td>4</td>\n",
              "      <td>29</td>\n",
              "      <td>1</td>\n",
              "      <td>2</td>\n",
              "      <td>6</td>\n",
              "      <td>6</td>\n",
              "      <td>2</td>\n",
              "      <td>38</td>\n",
              "      <td>0</td>\n",
              "      <td>1</td>\n",
              "      <td>3</td>\n",
              "      <td>1</td>\n",
              "    </tr>\n",
              "  </tbody>\n",
              "</table>\n",
              "</div>"
            ],
            "text/plain": [
              "   year  month  day  order  country  session-id  category  colour  location  \\\n",
              "0  2008      4    1      1       29           1         1       1         5   \n",
              "1  2008      4    1      2       29           1         1       1         6   \n",
              "2  2008      4    1      3       29           1         2      10         2   \n",
              "3  2008      4    1      4       29           1         2       6         6   \n",
              "\n",
              "   model-photography  price  price-higher-than-category  page-no  \\\n",
              "0                  1     28                           0        1   \n",
              "1                  1     33                           0        1   \n",
              "2                  1     52                           1        1   \n",
              "3                  2     38                           0        1   \n",
              "\n",
              "   product-code-en  price-category_en  \n",
              "0                0                  0  \n",
              "1                1                  0  \n",
              "2                2                  1  \n",
              "3                3                  1  "
            ]
          },
          "execution_count": 216,
          "metadata": {},
          "output_type": "execute_result"
        }
      ],
      "source": [
        "data.head(4)"
      ]
    },
    {
      "cell_type": "code",
      "execution_count": null,
      "id": "04eaf118",
      "metadata": {
        "colab": {
          "base_uri": "https://localhost:8080/"
        },
        "id": "04eaf118",
        "outputId": "a8460fed-4258-4639-b8e9-e230d7af4dac"
      },
      "outputs": [
        {
          "name": "stdout",
          "output_type": "stream",
          "text": [
            "<class 'pandas.core.frame.DataFrame'>\n",
            "RangeIndex: 165464 entries, 0 to 165463\n",
            "Data columns (total 15 columns):\n",
            " #   Column                      Non-Null Count   Dtype\n",
            "---  ------                      --------------   -----\n",
            " 0   year                        165464 non-null  int64\n",
            " 1   month                       165464 non-null  int64\n",
            " 2   day                         165464 non-null  int64\n",
            " 3   order                       165464 non-null  int64\n",
            " 4   country                     165464 non-null  int64\n",
            " 5   session-id                  165464 non-null  int64\n",
            " 6   category                    165464 non-null  int64\n",
            " 7   colour                      165464 non-null  int64\n",
            " 8   location                    165464 non-null  int64\n",
            " 9   model-photography           165464 non-null  int64\n",
            " 10  price                       165464 non-null  int64\n",
            " 11  price-higher-than-category  165464 non-null  int64\n",
            " 12  page-no                     165464 non-null  int64\n",
            " 13  product-code-en             165464 non-null  int32\n",
            " 14  price-category_en           165464 non-null  int32\n",
            "dtypes: int32(2), int64(13)\n",
            "memory usage: 17.7 MB\n"
          ]
        }
      ],
      "source": [
        "data.info()"
      ]
    },
    {
      "cell_type": "markdown",
      "id": "622950eb",
      "metadata": {
        "id": "622950eb"
      },
      "source": [
        "### Data Exploration & Visualisation"
      ]
    },
    {
      "cell_type": "code",
      "execution_count": null,
      "id": "a4d3449a",
      "metadata": {
        "id": "a4d3449a"
      },
      "outputs": [],
      "source": [
        "classification_data = data.drop(['price'], axis=1)\n",
        "regression_data = data.drop(['price-category_en'], axis=1)"
      ]
    },
    {
      "cell_type": "markdown",
      "id": "eff20ef5",
      "metadata": {
        "id": "eff20ef5"
      },
      "source": [
        "#### Univariate Analysis"
      ]
    },
    {
      "cell_type": "markdown",
      "id": "5c4d8bc6",
      "metadata": {
        "id": "5c4d8bc6"
      },
      "source": [
        "Checking out year ranges present in the data"
      ]
    },
    {
      "cell_type": "code",
      "execution_count": null,
      "id": "4497d318",
      "metadata": {
        "colab": {
          "base_uri": "https://localhost:8080/"
        },
        "id": "4497d318",
        "outputId": "483ce1a4-d32f-493f-a985-fb249c7f834e"
      },
      "outputs": [
        {
          "data": {
            "text/plain": [
              "2008    165464\n",
              "Name: year, dtype: int64"
            ]
          },
          "execution_count": 219,
          "metadata": {},
          "output_type": "execute_result"
        }
      ],
      "source": [
        "data['year'].value_counts()"
      ]
    },
    {
      "cell_type": "markdown",
      "id": "1fc8b230",
      "metadata": {
        "id": "1fc8b230"
      },
      "source": [
        "The year attribute only has one value - `2008`. Hence does not give any unique information about the response variable. Thereby can be dropped!"
      ]
    },
    {
      "cell_type": "markdown",
      "id": "7b3dffd8",
      "metadata": {
        "id": "7b3dffd8"
      },
      "source": [
        "Checking out unique session ids"
      ]
    },
    {
      "cell_type": "code",
      "execution_count": null,
      "id": "6ec14cb2",
      "metadata": {
        "colab": {
          "base_uri": "https://localhost:8080/"
        },
        "id": "6ec14cb2",
        "outputId": "cd737b9f-e654-45bf-ed3b-1b879f76942d"
      },
      "outputs": [
        {
          "name": "stdout",
          "output_type": "stream",
          "text": [
            "Unique Session IDs: 24023\n"
          ]
        }
      ],
      "source": [
        "print(f'Unique Session IDs: {len(data[\"session-id\"].unique())}')"
      ]
    },
    {
      "cell_type": "markdown",
      "id": "fa020c04",
      "metadata": {
        "id": "fa020c04"
      },
      "source": [
        "Session IDs are techincally unique IDs for each new user session that is generated. Hence this ID doesn't tell us anything about user's behaviour."
      ]
    },
    {
      "cell_type": "code",
      "execution_count": null,
      "id": "feb42636",
      "metadata": {
        "colab": {
          "base_uri": "https://localhost:8080/",
          "height": 472
        },
        "id": "feb42636",
        "outputId": "1a492ba8-b137-44c4-b09f-806bde0a260c"
      },
      "outputs": [
        {
          "data": {
            "image/png": "[encoded data removed]",
            "text/plain": [
              "<Figure size 640x480 with 1 Axes>"
            ]
          },
          "metadata": {},
          "output_type": "display_data"
        }
      ],
      "source": [
        "sns.histplot(data['price'], bins=25)\n",
        "plt.axvline(x=data['price'].mean(), label='Mean', color='red', linestyle='--')\n",
        "plt.axvline(x=data['price'].median(), label='Median', color='blue', linestyle='--')\n",
        "plt.title(f'Histogram of Price - Response Variable')\n",
        "plt.xlabel(f'Price')\n",
        "plt.ylabel(f'Frequency')\n",
        "plt.legend()\n",
        "plt.show()"
      ]
    },
    {
      "cell_type": "markdown",
      "id": "8b20b245",
      "metadata": {
        "id": "8b20b245"
      },
      "source": [
        "Mean pricing is about 44 & Median is about 43"
      ]
    },
    {
      "cell_type": "markdown",
      "id": "954a269d",
      "metadata": {
        "id": "954a269d"
      },
      "source": [
        "Checking months with highest & lowest orders"
      ]
    },
    {
      "cell_type": "code",
      "execution_count": null,
      "id": "c3f44154",
      "metadata": {
        "colab": {
          "base_uri": "https://localhost:8080/",
          "height": 472
        },
        "id": "c3f44154",
        "outputId": "5d04b4cb-853f-4357-c38e-86a5add0ea31"
      },
      "outputs": [
        {
          "data": {
            "image/png": "[encoded data removed]",
            "text/plain": [
              "<Figure size 640x480 with 1 Axes>"
            ]
          },
          "metadata": {},
          "output_type": "display_data"
        }
      ],
      "source": [
        "monthly_activity = data.groupby(['month'])['order'].sum().reset_index()\n",
        "sns.barplot(x=monthly_activity['month'], y=monthly_activity['order'])\n",
        "plt.title(f'Activity over months')\n",
        "plt.show()"
      ]
    },
    {
      "cell_type": "markdown",
      "id": "dc27a463",
      "metadata": {
        "id": "dc27a463"
      },
      "source": [
        "Visualising calender heatmap to understand temporal changes in number of orders, throughout the year"
      ]
    },
    {
      "cell_type": "code",
      "execution_count": null,
      "id": "c7a394f7",
      "metadata": {
        "id": "c7a394f7"
      },
      "outputs": [],
      "source": [
        "dates = data['day'].astype('str') + '/' + data['month'].astype('str') + '/' + data['year'].astype('str')\n",
        "data['date'] = pd.to_datetime(dates, dayfirst=True)"
      ]
    },
    {
      "cell_type": "code",
      "execution_count": null,
      "id": "09d0d449",
      "metadata": {
        "colab": {
          "base_uri": "https://localhost:8080/",
          "height": 296
        },
        "id": "09d0d449",
        "outputId": "d4a03dad-6437-458b-9f90-36f7af874a3a"
      },
      "outputs": [
        {
          "name": "stderr",
          "output_type": "stream",
          "text": [
            "findfont: Font family 'Helvetica' not found.\n",
            "findfont: Font family 'Helvetica' not found.\n"
          ]
        },
        {
          "data": {
            "text/plain": [
              "<Figure size 1000x1000 with 0 Axes>"
            ]
          },
          "metadata": {},
          "output_type": "display_data"
        },
        {
          "name": "stderr",
          "output_type": "stream",
          "text": [
            "findfont: Font family 'Helvetica' not found.\n",
            "findfont: Font family 'Helvetica' not found.\n",
            "findfont: Font family 'Helvetica' not found.\n"
          ]
        },
        {
          "data": {
            "image/png": "[encoded data removed]",
            "text/plain": [
              "<Figure size 1250x170 with 2 Axes>"
            ]
          },
          "metadata": {},
          "output_type": "display_data"
        }
      ],
      "source": [
        "values = data.groupby(['date'])['order'].sum()\n",
        "\n",
        "plt.figure(figsize=(10,10))\n",
        "calplot.calplot(values,\n",
        "                suptitle = 'Calendar',\n",
        "                suptitle_kws = {'x': 0.5, 'y': 1.0}, fillcolor = 'black', edgecolor = 'black')\n",
        "plt.show()"
      ]
    },
    {
      "cell_type": "markdown",
      "id": "84d2ed74",
      "metadata": {
        "id": "84d2ed74"
      },
      "source": [
        "Clearly, the dates with lighter colors have highest number of orderes recieved. Rest seem to be recieve average number of orders. The dates with black or darker shades of green / blue have minimum number of orders. The following is observed:\n",
        "- April has major number of orders (More lighter color cells)\n",
        "- June has lowest amount of orders recieved\n",
        "- May & July almost have equal amounts of orders recieved.\n",
        "- Aug has one day with very high amounts of orderes recieved."
      ]
    },
    {
      "cell_type": "markdown",
      "id": "3e065c03",
      "metadata": {
        "id": "3e065c03"
      },
      "source": [
        "Finding the countries with most orders"
      ]
    },
    {
      "cell_type": "code",
      "execution_count": null,
      "id": "1c7bb1dd",
      "metadata": {
        "id": "1c7bb1dd"
      },
      "outputs": [],
      "source": [
        "country_map = {\n",
        "    1:'Australia', 2:'Austria', 3:'Belgium',\n",
        "    4:'British Virgin Islands', 5:'Cayman Islands',\n",
        "    6:'Christmas Island', 7:'Croatia', 8:'Cyprus',\n",
        "    9:'Czech Republic', 10:'Denmark', 11:'Estonia',\n",
        "    12:'unidentified', 13:'Faroe Islands', 14:'Finland',\n",
        "    15:'France', 16:'Germany', 17:'Greece',\n",
        "    18:'Hungary', 19:'Iceland', 20:'India', 21:'Ireland',\n",
        "    22:'Italy', 23:'Latvia', 24:'Lithuania', 25:'Luxembourg',\n",
        "    26:'Mexico', 27:'Netherlands', 28:'Norway', 29:'Poland',\n",
        "    30:'Portugal', 31:'Romania', 32:'Russia', 33:'San Marino',\n",
        "    34:'Slovakia', 35:'Slovenia', 36:'Spain', 37:'Sweden',\n",
        "    38:'Switzerland', 39:'Ukraine', 40:'United Arab Emirates',\n",
        "    41:'United Kingdom', 42:'USA'\n",
        "}"
      ]
    },
    {
      "cell_type": "code",
      "execution_count": null,
      "id": "e752f802",
      "metadata": {
        "id": "e752f802"
      },
      "outputs": [],
      "source": [
        "geodata = data[['country', 'order']]\n",
        "geodata['country_name'] = geodata['country'].apply(lambda c: country_map.get(c))\n",
        "geodata"
      ]
    },
    {
      "cell_type": "code",
      "execution_count": null,
      "id": "75295316",
      "metadata": {
        "colab": {
          "base_uri": "https://localhost:8080/",
          "height": 472
        },
        "id": "75295316",
        "outputId": "8db1b4fc-ca5d-4e4b-caef-7b6506442030"
      },
      "outputs": [
        {
          "data": {
            "image/png": "[encoded data removed]",
            "text/plain": [
              "<Figure size 640x480 with 1 Axes>"
            ]
          },
          "metadata": {},
          "output_type": "display_data"
        }
      ],
      "source": [
        "# Doubt 1: sns.countplot(geodata['country_name'])\n",
        "sns.countplot(geodata, y = 'country_name')\n",
        "plt.title(f'Frequency of orders from each country')\n",
        "plt.xlabel('Frequency')\n",
        "plt.ylabel('Country Name')\n",
        "plt.show()"
      ]
    },
    {
      "cell_type": "markdown",
      "id": "a9a4bde8",
      "metadata": {
        "id": "a9a4bde8"
      },
      "source": [
        "Clearly, countries like Poland, Czech Republic, and Lithuania have highest frequency of orders.<br><br>We shall remove these countries of very high frequency and check the order frequency from other countries."
      ]
    },
    {
      "cell_type": "code",
      "execution_count": null,
      "id": "4e9d7261",
      "metadata": {
        "id": "4e9d7261",
        "scrolled": true
      },
      "outputs": [],
      "source": [
        "database = px.data.gapminder().query('year == 2007')[['country', 'iso_alpha', 'iso_num']]\n",
        "geodata_en = pd.merge(database, geodata, how='inner', left_on='country', right_on='country_name')\n",
        "geodata_en.drop(['country_x', 'country_y'], axis=1, inplace=True)\n",
        "geodata_en = geodata_en.groupby(['country_name', 'iso_alpha', 'iso_num']).sum().reset_index()"
      ]
    },
    {
      "cell_type": "code",
      "execution_count": null,
      "id": "0f2447fd",
      "metadata": {
        "id": "0f2447fd"
      },
      "outputs": [],
      "source": [
        "countries_to_remove = ['Poland', 'Czech Republic']\n",
        "geodata_en = geodata_en[~geodata_en['country_name'].isin(countries_to_remove)]"
      ]
    },
    {
      "cell_type": "code",
      "execution_count": null,
      "id": "bc3f211b",
      "metadata": {
        "colab": {
          "base_uri": "https://localhost:8080/",
          "height": 542
        },
        "id": "bc3f211b",
        "outputId": "728078fc-7e8a-42b7-fe25-1cb115d82fa4"
      },
      "outputs": [
        {
          "data": {
            "application/vnd.plotly.v1+json": {
              "config": {
                "plotlyServerURL": "https://plot.ly"
              },
              "data": [
                {
                  "coloraxis": "coloraxis",
                  "geo": "geo",
                  "geojson": "https://raw.githubusercontent.com/python-visualization/folium/master/examples/data/world-countries.json",
                  "hovertemplate": "country_name=%{location}<br>order=%{z}<extra></extra>",
                  "locationmode": "country names",
                  "locations": [
                    "Australia",
                    "Austria",
                    "Belgium",
                    "Croatia",
                    "Denmark",
                    "Finland",
                    "France",
                    "Germany",
                    "Greece",
                    "Hungary",
                    "Iceland",
                    "India",
                    "Ireland",
                    "Italy",
                    "Mexico",
                    "Netherlands",
                    "Norway",
                    "Portugal",
                    "Romania",
                    "Slovenia",
                    "Spain",
                    "Sweden",
                    "Switzerland",
                    "United Kingdom"
                  ],
                  "name": "",
                  "type": "choropleth",
                  "z": [
                    6,
                    329,
                    3271,
                    31,
                    1052,
                    237,
                    998,
                    13252,
                    78,
                    154,
                    128,
                    46,
                    6947,
                    1263,
                    3,
                    2173,
                    1044,
                    11,
                    3344,
                    6,
                    114,
                    1951,
                    672,
                    4584
                  ]
                }
              ],
              "layout": {
                "coloraxis": {
                  "colorbar": {
                    "title": {
                      "text": "order"
                    }
                  },
                  "colorscale": [
                    [
                      0,
                      "#0d0887"
                    ],
                    [
                      0.1111111111111111,
                      "#46039f"
                    ],
                    [
                      0.2222222222222222,
                      "#7201a8"
                    ],
                    [
                      0.3333333333333333,
                      "#9c179e"
                    ],
                    [
                      0.4444444444444444,
                      "#bd3786"
                    ],
                    [
                      0.5555555555555556,
                      "#d8576b"
                    ],
                    [
                      0.6666666666666666,
                      "#ed7953"
                    ],
                    [
                      0.7777777777777778,
                      "#fb9f3a"
                    ],
                    [
                      0.8888888888888888,
                      "#fdca26"
                    ],
                    [
                      1,
                      "#f0f921"
                    ]
                  ]
                },
                "geo": {
                  "center": {},
                  "domain": {
                    "x": [
                      0,
                      1
                    ],
                    "y": [
                      0,
                      1
                    ]
                  }
                },
                "legend": {
                  "tracegroupgap": 0
                },
                "template": {
                  "data": {
                    "bar": [
                      {
                        "error_x": {
                          "color": "#2a3f5f"
                        },
                        "error_y": {
                          "color": "#2a3f5f"
                        },
                        "marker": {
                          "line": {
                            "color": "#E5ECF6",
                            "width": 0.5
                          },
                          "pattern": {
                            "fillmode": "overlay",
                            "size": 10,
                            "solidity": 0.2
                          }
                        },
                        "type": "bar"
                      }
                    ],
                    "barpolar": [
                      {
                        "marker": {
                          "line": {
                            "color": "#E5ECF6",
                            "width": 0.5
                          },
                          "pattern": {
                            "fillmode": "overlay",
                            "size": 10,
                            "solidity": 0.2
                          }
                        },
                        "type": "barpolar"
                      }
                    ],
                    "carpet": [
                      {
                        "aaxis": {
                          "endlinecolor": "#2a3f5f",
                          "gridcolor": "white",
                          "linecolor": "white",
                          "minorgridcolor": "white",
                          "startlinecolor": "#2a3f5f"
                        },
                        "baxis": {
                          "endlinecolor": "#2a3f5f",
                          "gridcolor": "white",
                          "linecolor": "white",
                          "minorgridcolor": "white",
                          "startlinecolor": "#2a3f5f"
                        },
                        "type": "carpet"
                      }
                    ],
                    "choropleth": [
                      {
                        "colorbar": {
                          "outlinewidth": 0,
                          "ticks": ""
                        },
                        "type": "choropleth"
                      }
                    ],
                    "contour": [
                      {
                        "colorbar": {
                          "outlinewidth": 0,
                          "ticks": ""
                        },
                        "colorscale": [
                          [
                            0,
                            "#0d0887"
                          ],
                          [
                            0.1111111111111111,
                            "#46039f"
                          ],
                          [
                            0.2222222222222222,
                            "#7201a8"
                          ],
                          [
                            0.3333333333333333,
                            "#9c179e"
                          ],
                          [
                            0.4444444444444444,
                            "#bd3786"
                          ],
                          [
                            0.5555555555555556,
                            "#d8576b"
                          ],
                          [
                            0.6666666666666666,
                            "#ed7953"
                          ],
                          [
                            0.7777777777777778,
                            "#fb9f3a"
                          ],
                          [
                            0.8888888888888888,
                            "#fdca26"
                          ],
                          [
                            1,
                            "#f0f921"
                          ]
                        ],
                        "type": "contour"
                      }
                    ],
                    "contourcarpet": [
                      {
                        "colorbar": {
                          "outlinewidth": 0,
                          "ticks": ""
                        },
                        "type": "contourcarpet"
                      }
                    ],
                    "heatmap": [
                      {
                        "colorbar": {
                          "outlinewidth": 0,
                          "ticks": ""
                        },
                        "colorscale": [
                          [
                            0,
                            "#0d0887"
                          ],
                          [
                            0.1111111111111111,
                            "#46039f"
                          ],
                          [
                            0.2222222222222222,
                            "#7201a8"
                          ],
                          [
                            0.3333333333333333,
                            "#9c179e"
                          ],
                          [
                            0.4444444444444444,
                            "#bd3786"
                          ],
                          [
                            0.5555555555555556,
                            "#d8576b"
                          ],
                          [
                            0.6666666666666666,
                            "#ed7953"
                          ],
                          [
                            0.7777777777777778,
                            "#fb9f3a"
                          ],
                          [
                            0.8888888888888888,
                            "#fdca26"
                          ],
                          [
                            1,
                            "#f0f921"
                          ]
                        ],
                        "type": "heatmap"
                      }
                    ],
                    "heatmapgl": [
                      {
                        "colorbar": {
                          "outlinewidth": 0,
                          "ticks": ""
                        },
                        "colorscale": [
                          [
                            0,
                            "#0d0887"
                          ],
                          [
                            0.1111111111111111,
                            "#46039f"
                          ],
                          [
                            0.2222222222222222,
                            "#7201a8"
                          ],
                          [
                            0.3333333333333333,
                            "#9c179e"
                          ],
                          [
                            0.4444444444444444,
                            "#bd3786"
                          ],
                          [
                            0.5555555555555556,
                            "#d8576b"
                          ],
                          [
                            0.6666666666666666,
                            "#ed7953"
                          ],
                          [
                            0.7777777777777778,
                            "#fb9f3a"
                          ],
                          [
                            0.8888888888888888,
                            "#fdca26"
                          ],
                          [
                            1,
                            "#f0f921"
                          ]
                        ],
                        "type": "heatmapgl"
                      }
                    ],
                    "histogram": [
                      {
                        "marker": {
                          "pattern": {
                            "fillmode": "overlay",
                            "size": 10,
                            "solidity": 0.2
                          }
                        },
                        "type": "histogram"
                      }
                    ],
                    "histogram2d": [
                      {
                        "colorbar": {
                          "outlinewidth": 0,
                          "ticks": ""
                        },
                        "colorscale": [
                          [
                            0,
                            "#0d0887"
                          ],
                          [
                            0.1111111111111111,
                            "#46039f"
                          ],
                          [
                            0.2222222222222222,
                            "#7201a8"
                          ],
                          [
                            0.3333333333333333,
                            "#9c179e"
                          ],
                          [
                            0.4444444444444444,
                            "#bd3786"
                          ],
                          [
                            0.5555555555555556,
                            "#d8576b"
                          ],
                          [
                            0.6666666666666666,
                            "#ed7953"
                          ],
                          [
                            0.7777777777777778,
                            "#fb9f3a"
                          ],
                          [
                            0.8888888888888888,
                            "#fdca26"
                          ],
                          [
                            1,
                            "#f0f921"
                          ]
                        ],
                        "type": "histogram2d"
                      }
                    ],
                    "histogram2dcontour": [
                      {
                        "colorbar": {
                          "outlinewidth": 0,
                          "ticks": ""
                        },
                        "colorscale": [
                          [
                            0,
                            "#0d0887"
                          ],
                          [
                            0.1111111111111111,
                            "#46039f"
                          ],
                          [
                            0.2222222222222222,
                            "#7201a8"
                          ],
                          [
                            0.3333333333333333,
                            "#9c179e"
                          ],
                          [
                            0.4444444444444444,
                            "#bd3786"
                          ],
                          [
                            0.5555555555555556,
                            "#d8576b"
                          ],
                          [
                            0.6666666666666666,
                            "#ed7953"
                          ],
                          [
                            0.7777777777777778,
                            "#fb9f3a"
                          ],
                          [
                            0.8888888888888888,
                            "#fdca26"
                          ],
                          [
                            1,
                            "#f0f921"
                          ]
                        ],
                        "type": "histogram2dcontour"
                      }
                    ],
                    "mesh3d": [
                      {
                        "colorbar": {
                          "outlinewidth": 0,
                          "ticks": ""
                        },
                        "type": "mesh3d"
                      }
                    ],
                    "parcoords": [
                      {
                        "line": {
                          "colorbar": {
                            "outlinewidth": 0,
                            "ticks": ""
                          }
                        },
                        "type": "parcoords"
                      }
                    ],
                    "pie": [
                      {
                        "automargin": true,
                        "type": "pie"
                      }
                    ],
                    "scatter": [
                      {
                        "fillpattern": {
                          "fillmode": "overlay",
                          "size": 10,
                          "solidity": 0.2
                        },
                        "type": "scatter"
                      }
                    ],
                    "scatter3d": [
                      {
                        "line": {
                          "colorbar": {
                            "outlinewidth": 0,
                            "ticks": ""
                          }
                        },
                        "marker": {
                          "colorbar": {
                            "outlinewidth": 0,
                            "ticks": ""
                          }
                        },
                        "type": "scatter3d"
                      }
                    ],
                    "scattercarpet": [
                      {
                        "marker": {
                          "colorbar": {
                            "outlinewidth": 0,
                            "ticks": ""
                          }
                        },
                        "type": "scattercarpet"
                      }
                    ],
                    "scattergeo": [
                      {
                        "marker": {
                          "colorbar": {
                            "outlinewidth": 0,
                            "ticks": ""
                          }
                        },
                        "type": "scattergeo"
                      }
                    ],
                    "scattergl": [
                      {
                        "marker": {
                          "colorbar": {
                            "outlinewidth": 0,
                            "ticks": ""
                          }
                        },
                        "type": "scattergl"
                      }
                    ],
                    "scattermapbox": [
                      {
                        "marker": {
                          "colorbar": {
                            "outlinewidth": 0,
                            "ticks": ""
                          }
                        },
                        "type": "scattermapbox"
                      }
                    ],
                    "scatterpolar": [
                      {
                        "marker": {
                          "colorbar": {
                            "outlinewidth": 0,
                            "ticks": ""
                          }
                        },
                        "type": "scatterpolar"
                      }
                    ],
                    "scatterpolargl": [
                      {
                        "marker": {
                          "colorbar": {
                            "outlinewidth": 0,
                            "ticks": ""
                          }
                        },
                        "type": "scatterpolargl"
                      }
                    ],
                    "scatterternary": [
                      {
                        "marker": {
                          "colorbar": {
                            "outlinewidth": 0,
                            "ticks": ""
                          }
                        },
                        "type": "scatterternary"
                      }
                    ],
                    "surface": [
                      {
                        "colorbar": {
                          "outlinewidth": 0,
                          "ticks": ""
                        },
                        "colorscale": [
                          [
                            0,
                            "#0d0887"
                          ],
                          [
                            0.1111111111111111,
                            "#46039f"
                          ],
                          [
                            0.2222222222222222,
                            "#7201a8"
                          ],
                          [
                            0.3333333333333333,
                            "#9c179e"
                          ],
                          [
                            0.4444444444444444,
                            "#bd3786"
                          ],
                          [
                            0.5555555555555556,
                            "#d8576b"
                          ],
                          [
                            0.6666666666666666,
                            "#ed7953"
                          ],
                          [
                            0.7777777777777778,
                            "#fb9f3a"
                          ],
                          [
                            0.8888888888888888,
                            "#fdca26"
                          ],
                          [
                            1,
                            "#f0f921"
                          ]
                        ],
                        "type": "surface"
                      }
                    ],
                    "table": [
                      {
                        "cells": {
                          "fill": {
                            "color": "#EBF0F8"
                          },
                          "line": {
                            "color": "white"
                          }
                        },
                        "header": {
                          "fill": {
                            "color": "#C8D4E3"
                          },
                          "line": {
                            "color": "white"
                          }
                        },
                        "type": "table"
                      }
                    ]
                  },
                  "layout": {
                    "annotationdefaults": {
                      "arrowcolor": "#2a3f5f",
                      "arrowhead": 0,
                      "arrowwidth": 1
                    },
                    "autotypenumbers": "strict",
                    "coloraxis": {
                      "colorbar": {
                        "outlinewidth": 0,
                        "ticks": ""
                      }
                    },
                    "colorscale": {
                      "diverging": [
                        [
                          0,
                          "#8e0152"
                        ],
                        [
                          0.1,
                          "#c51b7d"
                        ],
                        [
                          0.2,
                          "#de77ae"
                        ],
                        [
                          0.3,
                          "#f1b6da"
                        ],
                        [
                          0.4,
                          "#fde0ef"
                        ],
                        [
                          0.5,
                          "#f7f7f7"
                        ],
                        [
                          0.6,
                          "#e6f5d0"
                        ],
                        [
                          0.7,
                          "#b8e186"
                        ],
                        [
                          0.8,
                          "#7fbc41"
                        ],
                        [
                          0.9,
                          "#4d9221"
                        ],
                        [
                          1,
                          "#276419"
                        ]
                      ],
                      "sequential": [
                        [
                          0,
                          "#0d0887"
                        ],
                        [
                          0.1111111111111111,
                          "#46039f"
                        ],
                        [
                          0.2222222222222222,
                          "#7201a8"
                        ],
                        [
                          0.3333333333333333,
                          "#9c179e"
                        ],
                        [
                          0.4444444444444444,
                          "#bd3786"
                        ],
                        [
                          0.5555555555555556,
                          "#d8576b"
                        ],
                        [
                          0.6666666666666666,
                          "#ed7953"
                        ],
                        [
                          0.7777777777777778,
                          "#fb9f3a"
                        ],
                        [
                          0.8888888888888888,
                          "#fdca26"
                        ],
                        [
                          1,
                          "#f0f921"
                        ]
                      ],
                      "sequentialminus": [
                        [
                          0,
                          "#0d0887"
                        ],
                        [
                          0.1111111111111111,
                          "#46039f"
                        ],
                        [
                          0.2222222222222222,
                          "#7201a8"
                        ],
                        [
                          0.3333333333333333,
                          "#9c179e"
                        ],
                        [
                          0.4444444444444444,
                          "#bd3786"
                        ],
                        [
                          0.5555555555555556,
                          "#d8576b"
                        ],
                        [
                          0.6666666666666666,
                          "#ed7953"
                        ],
                        [
                          0.7777777777777778,
                          "#fb9f3a"
                        ],
                        [
                          0.8888888888888888,
                          "#fdca26"
                        ],
                        [
                          1,
                          "#f0f921"
                        ]
                      ]
                    },
                    "colorway": [
                      "#636efa",
                      "#EF553B",
                      "#00cc96",
                      "#ab63fa",
                      "#FFA15A",
                      "#19d3f3",
                      "#FF6692",
                      "#B6E880",
                      "#FF97FF",
                      "#FECB52"
                    ],
                    "font": {
                      "color": "#2a3f5f"
                    },
                    "geo": {
                      "bgcolor": "white",
                      "lakecolor": "white",
                      "landcolor": "#E5ECF6",
                      "showlakes": true,
                      "showland": true,
                      "subunitcolor": "white"
                    },
                    "hoverlabel": {
                      "align": "left"
                    },
                    "hovermode": "closest",
                    "mapbox": {
                      "style": "light"
                    },
                    "paper_bgcolor": "white",
                    "plot_bgcolor": "#E5ECF6",
                    "polar": {
                      "angularaxis": {
                        "gridcolor": "white",
                        "linecolor": "white",
                        "ticks": ""
                      },
                      "bgcolor": "#E5ECF6",
                      "radialaxis": {
                        "gridcolor": "white",
                        "linecolor": "white",
                        "ticks": ""
                      }
                    },
                    "scene": {
                      "xaxis": {
                        "backgroundcolor": "#E5ECF6",
                        "gridcolor": "white",
                        "gridwidth": 2,
                        "linecolor": "white",
                        "showbackground": true,
                        "ticks": "",
                        "zerolinecolor": "white"
                      },
                      "yaxis": {
                        "backgroundcolor": "#E5ECF6",
                        "gridcolor": "white",
                        "gridwidth": 2,
                        "linecolor": "white",
                        "showbackground": true,
                        "ticks": "",
                        "zerolinecolor": "white"
                      },
                      "zaxis": {
                        "backgroundcolor": "#E5ECF6",
                        "gridcolor": "white",
                        "gridwidth": 2,
                        "linecolor": "white",
                        "showbackground": true,
                        "ticks": "",
                        "zerolinecolor": "white"
                      }
                    },
                    "shapedefaults": {
                      "line": {
                        "color": "#2a3f5f"
                      }
                    },
                    "ternary": {
                      "aaxis": {
                        "gridcolor": "white",
                        "linecolor": "white",
                        "ticks": ""
                      },
                      "baxis": {
                        "gridcolor": "white",
                        "linecolor": "white",
                        "ticks": ""
                      },
                      "bgcolor": "#E5ECF6",
                      "caxis": {
                        "gridcolor": "white",
                        "linecolor": "white",
                        "ticks": ""
                      }
                    },
                    "title": {
                      "x": 0.05
                    },
                    "xaxis": {
                      "automargin": true,
                      "gridcolor": "white",
                      "linecolor": "white",
                      "ticks": "",
                      "title": {
                        "standoff": 15
                      },
                      "zerolinecolor": "white",
                      "zerolinewidth": 2
                    },
                    "yaxis": {
                      "automargin": true,
                      "gridcolor": "white",
                      "linecolor": "white",
                      "ticks": "",
                      "title": {
                        "standoff": 15
                      },
                      "zerolinecolor": "white",
                      "zerolinewidth": 2
                    }
                  }
                },
                "title": {
                  "text": "Countrywise order count"
                }
              }
            },
            "text/html": [
              "<div>                            <div id=\"69a67412-5c09-4ad9-af40-cbfb4f11d1cb\" class=\"plotly-graph-div\" style=\"height:525px; width:100%;\"></div>            <script type=\"text/javascript\">                require([\"plotly\"], function(Plotly) {                    window.PLOTLYENV=window.PLOTLYENV || {};                                    if (document.getElementById(\"69a67412-5c09-4ad9-af40-cbfb4f11d1cb\")) {                    Plotly.newPlot(                        \"69a67412-5c09-4ad9-af40-cbfb4f11d1cb\",                        [{\"coloraxis\":\"coloraxis\",\"geo\":\"geo\",\"geojson\":\"https://raw.githubusercontent.com/python-visualization/folium/master/examples/data/world-countries.json\",\"hovertemplate\":\"country_name=%{location}<br>order=%{z}<extra></extra>\",\"locationmode\":\"country names\",\"locations\":[\"Australia\",\"Austria\",\"Belgium\",\"Croatia\",\"Denmark\",\"Finland\",\"France\",\"Germany\",\"Greece\",\"Hungary\",\"Iceland\",\"India\",\"Ireland\",\"Italy\",\"Mexico\",\"Netherlands\",\"Norway\",\"Portugal\",\"Romania\",\"Slovenia\",\"Spain\",\"Sweden\",\"Switzerland\",\"United Kingdom\"],\"name\":\"\",\"z\":[6,329,3271,31,1052,237,998,13252,78,154,128,46,6947,1263,3,2173,1044,11,3344,6,114,1951,672,4584],\"type\":\"choropleth\"}],                        {\"template\":{\"data\":{\"histogram2dcontour\":[{\"type\":\"histogram2dcontour\",\"colorbar\":{\"outlinewidth\":0,\"ticks\":\"\"},\"colorscale\":[[0.0,\"#0d0887\"],[0.1111111111111111,\"#46039f\"],[0.2222222222222222,\"#7201a8\"],[0.3333333333333333,\"#9c179e\"],[0.4444444444444444,\"#bd3786\"],[0.5555555555555556,\"#d8576b\"],[0.6666666666666666,\"#ed7953\"],[0.7777777777777778,\"#fb9f3a\"],[0.8888888888888888,\"#fdca26\"],[1.0,\"#f0f921\"]]}],\"choropleth\":[{\"type\":\"choropleth\",\"colorbar\":{\"outlinewidth\":0,\"ticks\":\"\"}}],\"histogram2d\":[{\"type\":\"histogram2d\",\"colorbar\":{\"outlinewidth\":0,\"ticks\":\"\"},\"colorscale\":[[0.0,\"#0d0887\"],[0.1111111111111111,\"#46039f\"],[0.2222222222222222,\"#7201a8\"],[0.3333333333333333,\"#9c179e\"],[0.4444444444444444,\"#bd3786\"],[0.5555555555555556,\"#d8576b\"],[0.6666666666666666,\"#ed7953\"],[0.7777777777777778,\"#fb9f3a\"],[0.8888888888888888,\"#fdca26\"],[1.0,\"#f0f921\"]]}],\"heatmap\":[{\"type\":\"heatmap\",\"colorbar\":{\"outlinewidth\":0,\"ticks\":\"\"},\"colorscale\":[[0.0,\"#0d0887\"],[0.1111111111111111,\"#46039f\"],[0.2222222222222222,\"#7201a8\"],[0.3333333333333333,\"#9c179e\"],[0.4444444444444444,\"#bd3786\"],[0.5555555555555556,\"#d8576b\"],[0.6666666666666666,\"#ed7953\"],[0.7777777777777778,\"#fb9f3a\"],[0.8888888888888888,\"#fdca26\"],[1.0,\"#f0f921\"]]}],\"heatmapgl\":[{\"type\":\"heatmapgl\",\"colorbar\":{\"outlinewidth\":0,\"ticks\":\"\"},\"colorscale\":[[0.0,\"#0d0887\"],[0.1111111111111111,\"#46039f\"],[0.2222222222222222,\"#7201a8\"],[0.3333333333333333,\"#9c179e\"],[0.4444444444444444,\"#bd3786\"],[0.5555555555555556,\"#d8576b\"],[0.6666666666666666,\"#ed7953\"],[0.7777777777777778,\"#fb9f3a\"],[0.8888888888888888,\"#fdca26\"],[1.0,\"#f0f921\"]]}],\"contourcarpet\":[{\"type\":\"contourcarpet\",\"colorbar\":{\"outlinewidth\":0,\"ticks\":\"\"}}],\"contour\":[{\"type\":\"contour\",\"colorbar\":{\"outlinewidth\":0,\"ticks\":\"\"},\"colorscale\":[[0.0,\"#0d0887\"],[0.1111111111111111,\"#46039f\"],[0.2222222222222222,\"#7201a8\"],[0.3333333333333333,\"#9c179e\"],[0.4444444444444444,\"#bd3786\"],[0.5555555555555556,\"#d8576b\"],[0.6666666666666666,\"#ed7953\"],[0.7777777777777778,\"#fb9f3a\"],[0.8888888888888888,\"#fdca26\"],[1.0,\"#f0f921\"]]}],\"surface\":[{\"type\":\"surface\",\"colorbar\":{\"outlinewidth\":0,\"ticks\":\"\"},\"colorscale\":[[0.0,\"#0d0887\"],[0.1111111111111111,\"#46039f\"],[0.2222222222222222,\"#7201a8\"],[0.3333333333333333,\"#9c179e\"],[0.4444444444444444,\"#bd3786\"],[0.5555555555555556,\"#d8576b\"],[0.6666666666666666,\"#ed7953\"],[0.7777777777777778,\"#fb9f3a\"],[0.8888888888888888,\"#fdca26\"],[1.0,\"#f0f921\"]]}],\"mesh3d\":[{\"type\":\"mesh3d\",\"colorbar\":{\"outlinewidth\":0,\"ticks\":\"\"}}],\"scatter\":[{\"fillpattern\":{\"fillmode\":\"overlay\",\"size\":10,\"solidity\":0.2},\"type\":\"scatter\"}],\"parcoords\":[{\"type\":\"parcoords\",\"line\":{\"colorbar\":{\"outlinewidth\":0,\"ticks\":\"\"}}}],\"scatterpolargl\":[{\"type\":\"scatterpolargl\",\"marker\":{\"colorbar\":{\"outlinewidth\":0,\"ticks\":\"\"}}}],\"bar\":[{\"error_x\":{\"color\":\"#2a3f5f\"},\"error_y\":{\"color\":\"#2a3f5f\"},\"marker\":{\"line\":{\"color\":\"#E5ECF6\",\"width\":0.5},\"pattern\":{\"fillmode\":\"overlay\",\"size\":10,\"solidity\":0.2}},\"type\":\"bar\"}],\"scattergeo\":[{\"type\":\"scattergeo\",\"marker\":{\"colorbar\":{\"outlinewidth\":0,\"ticks\":\"\"}}}],\"scatterpolar\":[{\"type\":\"scatterpolar\",\"marker\":{\"colorbar\":{\"outlinewidth\":0,\"ticks\":\"\"}}}],\"histogram\":[{\"marker\":{\"pattern\":{\"fillmode\":\"overlay\",\"size\":10,\"solidity\":0.2}},\"type\":\"histogram\"}],\"scattergl\":[{\"type\":\"scattergl\",\"marker\":{\"colorbar\":{\"outlinewidth\":0,\"ticks\":\"\"}}}],\"scatter3d\":[{\"type\":\"scatter3d\",\"line\":{\"colorbar\":{\"outlinewidth\":0,\"ticks\":\"\"}},\"marker\":{\"colorbar\":{\"outlinewidth\":0,\"ticks\":\"\"}}}],\"scattermapbox\":[{\"type\":\"scattermapbox\",\"marker\":{\"colorbar\":{\"outlinewidth\":0,\"ticks\":\"\"}}}],\"scatterternary\":[{\"type\":\"scatterternary\",\"marker\":{\"colorbar\":{\"outlinewidth\":0,\"ticks\":\"\"}}}],\"scattercarpet\":[{\"type\":\"scattercarpet\",\"marker\":{\"colorbar\":{\"outlinewidth\":0,\"ticks\":\"\"}}}],\"carpet\":[{\"aaxis\":{\"endlinecolor\":\"#2a3f5f\",\"gridcolor\":\"white\",\"linecolor\":\"white\",\"minorgridcolor\":\"white\",\"startlinecolor\":\"#2a3f5f\"},\"baxis\":{\"endlinecolor\":\"#2a3f5f\",\"gridcolor\":\"white\",\"linecolor\":\"white\",\"minorgridcolor\":\"white\",\"startlinecolor\":\"#2a3f5f\"},\"type\":\"carpet\"}],\"table\":[{\"cells\":{\"fill\":{\"color\":\"#EBF0F8\"},\"line\":{\"color\":\"white\"}},\"header\":{\"fill\":{\"color\":\"#C8D4E3\"},\"line\":{\"color\":\"white\"}},\"type\":\"table\"}],\"barpolar\":[{\"marker\":{\"line\":{\"color\":\"#E5ECF6\",\"width\":0.5},\"pattern\":{\"fillmode\":\"overlay\",\"size\":10,\"solidity\":0.2}},\"type\":\"barpolar\"}],\"pie\":[{\"automargin\":true,\"type\":\"pie\"}]},\"layout\":{\"autotypenumbers\":\"strict\",\"colorway\":[\"#636efa\",\"#EF553B\",\"#00cc96\",\"#ab63fa\",\"#FFA15A\",\"#19d3f3\",\"#FF6692\",\"#B6E880\",\"#FF97FF\",\"#FECB52\"],\"font\":{\"color\":\"#2a3f5f\"},\"hovermode\":\"closest\",\"hoverlabel\":{\"align\":\"left\"},\"paper_bgcolor\":\"white\",\"plot_bgcolor\":\"#E5ECF6\",\"polar\":{\"bgcolor\":\"#E5ECF6\",\"angularaxis\":{\"gridcolor\":\"white\",\"linecolor\":\"white\",\"ticks\":\"\"},\"radialaxis\":{\"gridcolor\":\"white\",\"linecolor\":\"white\",\"ticks\":\"\"}},\"ternary\":{\"bgcolor\":\"#E5ECF6\",\"aaxis\":{\"gridcolor\":\"white\",\"linecolor\":\"white\",\"ticks\":\"\"},\"baxis\":{\"gridcolor\":\"white\",\"linecolor\":\"white\",\"ticks\":\"\"},\"caxis\":{\"gridcolor\":\"white\",\"linecolor\":\"white\",\"ticks\":\"\"}},\"coloraxis\":{\"colorbar\":{\"outlinewidth\":0,\"ticks\":\"\"}},\"colorscale\":{\"sequential\":[[0.0,\"#0d0887\"],[0.1111111111111111,\"#46039f\"],[0.2222222222222222,\"#7201a8\"],[0.3333333333333333,\"#9c179e\"],[0.4444444444444444,\"#bd3786\"],[0.5555555555555556,\"#d8576b\"],[0.6666666666666666,\"#ed7953\"],[0.7777777777777778,\"#fb9f3a\"],[0.8888888888888888,\"#fdca26\"],[1.0,\"#f0f921\"]],\"sequentialminus\":[[0.0,\"#0d0887\"],[0.1111111111111111,\"#46039f\"],[0.2222222222222222,\"#7201a8\"],[0.3333333333333333,\"#9c179e\"],[0.4444444444444444,\"#bd3786\"],[0.5555555555555556,\"#d8576b\"],[0.6666666666666666,\"#ed7953\"],[0.7777777777777778,\"#fb9f3a\"],[0.8888888888888888,\"#fdca26\"],[1.0,\"#f0f921\"]],\"diverging\":[[0,\"#8e0152\"],[0.1,\"#c51b7d\"],[0.2,\"#de77ae\"],[0.3,\"#f1b6da\"],[0.4,\"#fde0ef\"],[0.5,\"#f7f7f7\"],[0.6,\"#e6f5d0\"],[0.7,\"#b8e186\"],[0.8,\"#7fbc41\"],[0.9,\"#4d9221\"],[1,\"#276419\"]]},\"xaxis\":{\"gridcolor\":\"white\",\"linecolor\":\"white\",\"ticks\":\"\",\"title\":{\"standoff\":15},\"zerolinecolor\":\"white\",\"automargin\":true,\"zerolinewidth\":2},\"yaxis\":{\"gridcolor\":\"white\",\"linecolor\":\"white\",\"ticks\":\"\",\"title\":{\"standoff\":15},\"zerolinecolor\":\"white\",\"automargin\":true,\"zerolinewidth\":2},\"scene\":{\"xaxis\":{\"backgroundcolor\":\"#E5ECF6\",\"gridcolor\":\"white\",\"linecolor\":\"white\",\"showbackground\":true,\"ticks\":\"\",\"zerolinecolor\":\"white\",\"gridwidth\":2},\"yaxis\":{\"backgroundcolor\":\"#E5ECF6\",\"gridcolor\":\"white\",\"linecolor\":\"white\",\"showbackground\":true,\"ticks\":\"\",\"zerolinecolor\":\"white\",\"gridwidth\":2},\"zaxis\":{\"backgroundcolor\":\"#E5ECF6\",\"gridcolor\":\"white\",\"linecolor\":\"white\",\"showbackground\":true,\"ticks\":\"\",\"zerolinecolor\":\"white\",\"gridwidth\":2}},\"shapedefaults\":{\"line\":{\"color\":\"#2a3f5f\"}},\"annotationdefaults\":{\"arrowcolor\":\"#2a3f5f\",\"arrowhead\":0,\"arrowwidth\":1},\"geo\":{\"bgcolor\":\"white\",\"landcolor\":\"#E5ECF6\",\"subunitcolor\":\"white\",\"showland\":true,\"showlakes\":true,\"lakecolor\":\"white\"},\"title\":{\"x\":0.05},\"mapbox\":{\"style\":\"light\"}}},\"geo\":{\"domain\":{\"x\":[0.0,1.0],\"y\":[0.0,1.0]},\"center\":{}},\"coloraxis\":{\"colorbar\":{\"title\":{\"text\":\"order\"}},\"colorscale\":[[0.0,\"#0d0887\"],[0.1111111111111111,\"#46039f\"],[0.2222222222222222,\"#7201a8\"],[0.3333333333333333,\"#9c179e\"],[0.4444444444444444,\"#bd3786\"],[0.5555555555555556,\"#d8576b\"],[0.6666666666666666,\"#ed7953\"],[0.7777777777777778,\"#fb9f3a\"],[0.8888888888888888,\"#fdca26\"],[1.0,\"#f0f921\"]]},\"legend\":{\"tracegroupgap\":0},\"title\":{\"text\":\"Countrywise order count\"}},                        {\"responsive\": true}                    ).then(function(){\n",
              "                            \n",
              "var gd = document.getElementById('69a67412-5c09-4ad9-af40-cbfb4f11d1cb');\n",
              "var x = new MutationObserver(function (mutations, observer) {{\n",
              "        var display = window.getComputedStyle(gd).display;\n",
              "        if (!display || display === 'none') {{\n",
              "            console.log([gd, 'removed!']);\n",
              "            Plotly.purge(gd);\n",
              "            observer.disconnect();\n",
              "        }}\n",
              "}});\n",
              "\n",
              "// Listen for the removal of the full notebook cells\n",
              "var notebookContainer = gd.closest('#notebook-container');\n",
              "if (notebookContainer) {{\n",
              "    x.observe(notebookContainer, {childList: true});\n",
              "}}\n",
              "\n",
              "// Listen for the clearing of the current output cell\n",
              "var outputEl = gd.closest('.output');\n",
              "if (outputEl) {{\n",
              "    x.observe(outputEl, {childList: true});\n",
              "}}\n",
              "\n",
              "                        })                };                });            </script>        </div>"
            ]
          },
          "metadata": {},
          "output_type": "display_data"
        }
      ],
      "source": [
        "url = (\n",
        "    \"https://raw.githubusercontent.com/python-visualization/folium/master/examples/data\"\n",
        ")\n",
        "\n",
        "fig = px.choropleth(geodata_en,\n",
        "                    locations=\"country_name\",#\"iso_alpha\",\n",
        "                    locationmode=\"country names\",#\"ISO-3\",\n",
        "                    geojson = f\"{url}/world-countries.json\",\n",
        "                    color=\"order\", title='Countrywise order count'\n",
        "                   )\n",
        "\n",
        "fig.show()"
      ]
    },
    {
      "cell_type": "markdown",
      "id": "43fd726c",
      "metadata": {
        "id": "43fd726c"
      },
      "source": [
        "Users from Germany, UK, Ireland, Norway, and Romania have placed high amount of orders when compared to the rest of the countries"
      ]
    },
    {
      "cell_type": "code",
      "execution_count": null,
      "id": "be934bd3",
      "metadata": {
        "id": "be934bd3"
      },
      "outputs": [],
      "source": [
        "geodata = data[['country', 'price']]\n",
        "geodata['country_name'] = geodata['country'].apply(lambda c: country_map.get(c))\n",
        "database = px.data.gapminder().query('year == 2007')[['country', 'iso_alpha', 'iso_num']]\n",
        "geodata_en = pd.merge(database, geodata, how='inner', left_on='country', right_on='country_name')\n",
        "geodata_en.drop(['country_x', 'country_y'], axis=1, inplace=True)\n",
        "geodata_en = geodata_en.groupby(['country_name', 'iso_alpha', 'iso_num']).sum().reset_index()\n",
        "countries_to_remove = ['Poland', 'Czech Republic']\n",
        "geodata_en = geodata_en[~geodata_en['country_name'].isin(countries_to_remove)]\n",
        "\n",
        "url = (\n",
        "    \"https://raw.githubusercontent.com/python-visualization/folium/master/examples/data\"\n",
        ")\n",
        "\n",
        "fig = px.choropleth(geodata_en,\n",
        "                    locations=\"country_name\",#\"iso_alpha\",\n",
        "                    locationmode=\"country names\",#\"ISO-3\",\n",
        "                    geojson = f\"{url}/world-countries.json\",\n",
        "                    color=\"price\", title='Price contribution from each country'\n",
        "                   )\n",
        "\n",
        "fig.show()"
      ]
    },
    {
      "cell_type": "markdown",
      "id": "f34c7050",
      "metadata": {
        "id": "f34c7050"
      },
      "source": [
        "Germany, Ireland, UK, France, Sweden, Norway, and Romania have placed high value orders next to Poland & Czech Republic."
      ]
    },
    {
      "cell_type": "markdown",
      "id": "a855bf09",
      "metadata": {
        "id": "a855bf09"
      },
      "source": [
        "### Product Category wise Analysis"
      ]
    },
    {
      "cell_type": "code",
      "execution_count": null,
      "id": "4abfbca6",
      "metadata": {
        "id": "4abfbca6"
      },
      "outputs": [],
      "source": [
        "category_map = {\n",
        "    1:\"trousers\",\n",
        "    2:\"skirts\",\n",
        "    3:\"blouses\",\n",
        "    4:\"sale\",\n",
        "}\n",
        "\n",
        "catdata = data[['category', 'order', 'month']]\n",
        "catdata['category_name'] = catdata['category'].apply(lambda c: category_map.get(c))"
      ]
    },
    {
      "cell_type": "code",
      "execution_count": null,
      "id": "8cfb9f58",
      "metadata": {
        "colab": {
          "base_uri": "https://localhost:8080/",
          "height": 472
        },
        "id": "8cfb9f58",
        "outputId": "b4ac04f4-214a-40a1-f395-6f7ebb21ea12"
      },
      "outputs": [
        {
          "data": {
            "image/png": "[encoded data removed]",
            "text/plain": [
              "<Figure size 640x480 with 1 Axes>"
            ]
          },
          "metadata": {},
          "output_type": "display_data"
        }
      ],
      "source": [
        "sns.countplot(x=catdata['category_name'])\n",
        "plt.title(f'Frequency of orders from each category')\n",
        "plt.ylabel('Frequency')\n",
        "plt.xlabel('Category Name')\n",
        "plt.show()"
      ]
    },
    {
      "cell_type": "markdown",
      "id": "8997409b",
      "metadata": {
        "id": "8997409b"
      },
      "source": [
        "Clearly within the three months, users have shopped more for trousers, and rest of the product categories are browsed equally!<br><br>Understanding monthly orders from each product category will make us transperant to the categories popular each month."
      ]
    },
    {
      "cell_type": "code",
      "execution_count": null,
      "id": "d43df4e7",
      "metadata": {
        "colab": {
          "base_uri": "https://localhost:8080/",
          "height": 472
        },
        "id": "d43df4e7",
        "outputId": "82522c04-5e8f-42a2-d4d2-881c89692175"
      },
      "outputs": [
        {
          "data": {
            "image/png": "[encoded data removed]",
            "text/plain": [
              "<Figure size 640x480 with 1 Axes>"
            ]
          },
          "metadata": {},
          "output_type": "display_data"
        }
      ],
      "source": [
        "cat_monthly_orders = catdata.groupby(['month', 'category_name'])['order'].sum().reset_index()\n",
        "sns.lineplot(data=cat_monthly_orders, x=\"month\", y=\"order\",\n",
        "             hue=\"category_name\", style=\"category_name\",\n",
        "             markers=True, dashes=False)\n",
        "plt.title(f'Monthly Order Distribution w.r.t Product Categories')\n",
        "plt.xlabel(f'Month Number')\n",
        "plt.ylabel(f'Frequency of Orders')\n",
        "plt.show()"
      ]
    },
    {
      "cell_type": "markdown",
      "id": "fc706a4e",
      "metadata": {
        "id": "fc706a4e"
      },
      "source": [
        "Clearly, There seems to be a sale in the months of April & August. Though trousers have higher number of orders collectively, we find blouses have higher number of orders each month. Skirts have relatively less frequency of orders per month."
      ]
    },
    {
      "cell_type": "code",
      "execution_count": null,
      "id": "37fa3bcc",
      "metadata": {
        "id": "37fa3bcc"
      },
      "outputs": [],
      "source": [
        "catdata = data[['category', 'price', 'month']]\n",
        "catdata['category_name'] = catdata['category'].apply(lambda c: category_map.get(c))\n",
        "\n",
        "cat_monthly_orders = catdata.groupby(['month', 'category_name'])['price'].sum().reset_index()\n",
        "sns.lineplot(data=cat_monthly_orders, x=\"month\", y=\"price\",\n",
        "             hue=\"category_name\", style=\"category_name\",\n",
        "             markers=True, dashes=False)\n",
        "plt.title(f'Monthly Order value (Price) Distribution w.r.t Product Categories')\n",
        "plt.xlabel(f'Month Number')\n",
        "plt.ylabel(f'Order value')\n",
        "plt.show()"
      ]
    },
    {
      "cell_type": "markdown",
      "id": "c38eced8",
      "metadata": {
        "id": "c38eced8"
      },
      "source": [
        "Trousers, though ordered less have higher price compared to rest of the categories. It is interesting to see, blouses having higher number of orders yet its price is lower than rest of the categories. This only goes to say blouses were actually priced less and hence more orders were placed. We can make similar explainations for rest of the categories."
      ]
    },
    {
      "cell_type": "markdown",
      "id": "671f2e02",
      "metadata": {
        "id": "671f2e02"
      },
      "source": [
        "#### Bivariate"
      ]
    },
    {
      "cell_type": "markdown",
      "id": "f0ce7b0e",
      "metadata": {
        "id": "f0ce7b0e"
      },
      "source": [
        "##### Correlation Analysis:\n",
        "\n",
        "Pearson's correlation helps in determining whether two attributes share same information or not"
      ]
    },
    {
      "cell_type": "code",
      "execution_count": null,
      "id": "6dc4ca11",
      "metadata": {
        "colab": {
          "base_uri": "https://localhost:8080/",
          "height": 1000
        },
        "id": "6dc4ca11",
        "outputId": "8e48e2dc-bf33-4d52-85b5-628eb168efa1"
      },
      "outputs": [
        {
          "data": {
            "image/png": "[encoded data removed]",
            "text/plain": [
              "<Figure size 800x800 with 2 Axes>"
            ]
          },
          "metadata": {},
          "output_type": "display_data"
        }
      ],
      "source": [
        "plt.figure(figsize=(8,8))\n",
        "sns.heatmap(regression_data.corr(), annot=True)\n",
        "plt.title(f'Correlation matrix with the regression response variable')\n",
        "plt.show()"
      ]
    },
    {
      "cell_type": "markdown",
      "id": "139e4eb7",
      "metadata": {
        "id": "139e4eb7"
      },
      "source": [
        "Observations:\n",
        "- `year` attribute clearly isn't important.\n",
        "- `month` strongly correlates with `session-id`, so we can remove one. Session IDs increase in value simply because each new session is a serial ID and hence as months increase, the every new user is alloted a new session ID with increasing order. Hence the correlation.\n",
        "- `price` has a strong positive correlation with `price-higher-than-category`, hence we keep price and remove `price-higher-than-category`."
      ]
    },
    {
      "cell_type": "markdown",
      "id": "9767c57b",
      "metadata": {
        "id": "9767c57b"
      },
      "source": [
        "#### Regression Analysis"
      ]
    },
    {
      "cell_type": "code",
      "execution_count": null,
      "id": "71bfe209",
      "metadata": {
        "colab": {
          "base_uri": "https://localhost:8080/"
        },
        "id": "71bfe209",
        "outputId": "dcc5bfbf-c4d0-48df-df0e-c83c77fad4db"
      },
      "outputs": [
        {
          "name": "stdout",
          "output_type": "stream",
          "text": [
            "                            OLS Regression Results                            \n",
            "==============================================================================\n",
            "Dep. Variable:                  price   R-squared:                       0.162\n",
            "Model:                            OLS   Adj. R-squared:                  0.162\n",
            "Method:                 Least Squares   F-statistic:                     3198.\n",
            "Date:                Fri, 19 Apr 2024   Prob (F-statistic):               0.00\n",
            "Time:                        17:19:53   Log-Likelihood:            -6.3872e+05\n",
            "No. Observations:              165464   AIC:                         1.277e+06\n",
            "Df Residuals:                  165453   BIC:                         1.278e+06\n",
            "Df Model:                          10                                         \n",
            "Covariance Type:            nonrobust                                         \n",
            "=====================================================================================\n",
            "                        coef    std err          t      P>|t|      [0.025      0.975]\n",
            "-------------------------------------------------------------------------------------\n",
            "const                58.9276      0.197    298.737      0.000      58.541      59.314\n",
            "month                 0.1767      0.021      8.253      0.000       0.135       0.219\n",
            "day                  -0.0026      0.003     -0.816      0.415      -0.009       0.004\n",
            "order                -0.0005      0.002     -0.241      0.809      -0.005       0.004\n",
            "country               0.0023      0.004      0.578      0.563      -0.006       0.010\n",
            "category             -3.4400      0.028   -122.155      0.000      -3.495      -3.385\n",
            "colour               -0.0329      0.007     -4.643      0.000      -0.047      -0.019\n",
            "location             -0.4963      0.017    -29.722      0.000      -0.529      -0.464\n",
            "model-photography    -3.7988      0.068    -56.209      0.000      -3.931      -3.666\n",
            "page-no               0.0473      0.033      1.441      0.149      -0.017       0.112\n",
            "product-code-en      -0.0164      0.001    -30.121      0.000      -0.017      -0.015\n",
            "==============================================================================\n",
            "Omnibus:                     4238.682   Durbin-Watson:                   1.881\n",
            "Prob(Omnibus):                  0.000   Jarque-Bera (JB):             3516.083\n",
            "Skew:                           0.287   Prob(JB):                         0.00\n",
            "Kurtosis:                       2.575   Cond. No.                         725.\n",
            "==============================================================================\n",
            "\n",
            "Notes:\n",
            "[1] Standard Errors assume that the covariance matrix of the errors is correctly specified.\n"
          ]
        }
      ],
      "source": [
        "X = sm.add_constant(regression_data.drop(['year',\n",
        "                                          'price',\n",
        "                                          'session-id',\n",
        "                                          'price-higher-than-category'\n",
        "                                          ], axis=1))\n",
        "y = regression_data['price']\n",
        "\n",
        "model = sm.OLS(y, X)\n",
        "results = model.fit()\n",
        "\n",
        "print(results.summary())"
      ]
    },
    {
      "cell_type": "markdown",
      "id": "a1326a2e",
      "metadata": {
        "id": "a1326a2e"
      },
      "source": [
        "Clearly, the attributes - `day`, `order`, `country`, `page-no`, are all having p-value higher than 0.05 (significance level). It means that we fail to reject the null hypothesis that the coefficients of these attributes are zero - thus implying these coefficients are not effective in predicting the price. Let's test this further by using `backward elimination` and checking the R2 score!"
      ]
    },
    {
      "cell_type": "code",
      "execution_count": null,
      "id": "bd6c6429",
      "metadata": {
        "id": "bd6c6429"
      },
      "outputs": [],
      "source": [
        "# Model a\n",
        "X_a = X.drop(['day'], axis=1)\n",
        "model_a = sm.OLS(y, X_a)\n",
        "results_a = model_a.fit()\n",
        "\n",
        "# Model b\n",
        "X_b = X.drop(['day', 'order'], axis=1)\n",
        "model_b = sm.OLS(y, X_b)\n",
        "results_b = model_b.fit()\n",
        "\n",
        "# Model c\n",
        "X_c = X.drop(['day', 'order', 'country'], axis=1)\n",
        "model_c = sm.OLS(y, X_c)\n",
        "results_c = model_c.fit()\n",
        "\n",
        "# Model d\n",
        "X_d = X.drop(['day', 'order', 'country', 'page-no'], axis=1)\n",
        "model_d = sm.OLS(y, X_d)\n",
        "results_d = model_d.fit()"
      ]
    },
    {
      "cell_type": "code",
      "execution_count": null,
      "id": "f4bba711",
      "metadata": {
        "colab": {
          "base_uri": "https://localhost:8080/"
        },
        "id": "f4bba711",
        "outputId": "233d5c34-7c93-4e34-e943-2e3db1f7c046"
      },
      "outputs": [
        {
          "name": "stdout",
          "output_type": "stream",
          "text": [
            "Model a R2: 0.16191613207257483\n",
            "Model b R2: 0.16192094310220362\n",
            "Model c R2: 0.16192426300760443\n",
            "Model d R2: 0.16191942803013692\n"
          ]
        }
      ],
      "source": [
        "print(f'Model a R2: {results_a.rsquared_adj}')\n",
        "print(f'Model b R2: {results_b.rsquared_adj}')\n",
        "print(f'Model c R2: {results_c.rsquared_adj}')\n",
        "print(f'Model d R2: {results_d.rsquared_adj}')"
      ]
    },
    {
      "cell_type": "markdown",
      "id": "9f27cf60",
      "metadata": {
        "id": "9f27cf60"
      },
      "source": [
        "#### Hence with backward elemination, we show that the model's performance in capturing the variance is constant even by removing these attributes."
      ]
    },
    {
      "cell_type": "markdown",
      "id": "656c9689",
      "metadata": {
        "id": "656c9689"
      },
      "source": [
        "### Cleaned Data"
      ]
    },
    {
      "cell_type": "code",
      "execution_count": null,
      "id": "f061674a",
      "metadata": {
        "id": "f061674a"
      },
      "outputs": [],
      "source": [
        "cleaned_data = data.drop(['year', 'session-id', 'price-category_en', 'day', 'order', 'country', 'page-no'], axis=1)"
      ]
    },
    {
      "cell_type": "code",
      "execution_count": null,
      "id": "51e990bb",
      "metadata": {
        "id": "51e990bb"
      },
      "outputs": [],
      "source": [
        "cleaned_data.to_parquet('final-ecommerce-clothing-data.gzip', index=False)"
      ]
    },
    {
      "cell_type": "code",
      "execution_count": null,
      "id": "1bc261f3",
      "metadata": {
        "colab": {
          "base_uri": "https://localhost:8080/"
        },
        "id": "1bc261f3",
        "outputId": "0c996782-e906-43d4-f1e7-0cc0c5892717"
      },
      "outputs": [
        {
          "name": "stdout",
          "output_type": "stream",
          "text": [
            "Number of Final Attributes: 9\n"
          ]
        }
      ],
      "source": [
        "print(f'Number of Final Attributes: {len(cleaned_data.columns)}')"
      ]
    },
    {
      "cell_type": "code",
      "execution_count": null,
      "id": "ccd9c673",
      "metadata": {
        "id": "ccd9c673"
      },
      "outputs": [],
      "source": [
        "from sklearn.ensemble import RandomForestRegressor"
      ]
    },
    {
      "cell_type": "code",
      "execution_count": null,
      "id": "0587c5db",
      "metadata": {
        "id": "0587c5db"
      },
      "outputs": [],
      "source": [
        "X_reg = regression_data.drop(['price', 'price-higher-than-category'], axis=1)\n",
        "y_reg = regression_data['price']"
      ]
    },
    {
      "cell_type": "code",
      "execution_count": null,
      "id": "ca857e20",
      "metadata": {
        "colab": {
          "base_uri": "https://localhost:8080/",
          "height": 74
        },
        "id": "ca857e20",
        "outputId": "bbce7dc5-bbb5-452a-eed6-fbd52bdb2a5d"
      },
      "outputs": [
        {
          "data": {
            "text/html": [
              "<style>#sk-container-id-3 {\n",
              "  /* Definition of color scheme common for light and dark mode */\n",
              "  --sklearn-color-text: black;\n",
              "  --sklearn-color-line: gray;\n",
              "  /* Definition of color scheme for unfitted estimators */\n",
              "  --sklearn-color-unfitted-level-0: #fff5e6;\n",
              "  --sklearn-color-unfitted-level-1: #f6e4d2;\n",
              "  --sklearn-color-unfitted-level-2: #ffe0b3;\n",
              "  --sklearn-color-unfitted-level-3: chocolate;\n",
              "  /* Definition of color scheme for fitted estimators */\n",
              "  --sklearn-color-fitted-level-0: #f0f8ff;\n",
              "  --sklearn-color-fitted-level-1: #d4ebff;\n",
              "  --sklearn-color-fitted-level-2: #b3dbfd;\n",
              "  --sklearn-color-fitted-level-3: cornflowerblue;\n",
              "\n",
              "  /* Specific color for light theme */\n",
              "  --sklearn-color-text-on-default-background: var(--sg-text-color, var(--theme-code-foreground, var(--jp-content-font-color1, black)));\n",
              "  --sklearn-color-background: var(--sg-background-color, var(--theme-background, var(--jp-layout-color0, white)));\n",
              "  --sklearn-color-border-box: var(--sg-text-color, var(--theme-code-foreground, var(--jp-content-font-color1, black)));\n",
              "  --sklearn-color-icon: #696969;\n",
              "\n",
              "  @media (prefers-color-scheme: dark) {\n",
              "    /* Redefinition of color scheme for dark theme */\n",
              "    --sklearn-color-text-on-default-background: var(--sg-text-color, var(--theme-code-foreground, var(--jp-content-font-color1, white)));\n",
              "    --sklearn-color-background: var(--sg-background-color, var(--theme-background, var(--jp-layout-color0, #111)));\n",
              "    --sklearn-color-border-box: var(--sg-text-color, var(--theme-code-foreground, var(--jp-content-font-color1, white)));\n",
              "    --sklearn-color-icon: #878787;\n",
              "  }\n",
              "}\n",
              "\n",
              "#sk-container-id-3 {\n",
              "  color: var(--sklearn-color-text);\n",
              "}\n",
              "\n",
              "#sk-container-id-3 pre {\n",
              "  padding: 0;\n",
              "}\n",
              "\n",
              "#sk-container-id-3 input.sk-hidden--visually {\n",
              "  border: 0;\n",
              "  clip: rect(1px 1px 1px 1px);\n",
              "  clip: rect(1px, 1px, 1px, 1px);\n",
              "  height: 1px;\n",
              "  margin: -1px;\n",
              "  overflow: hidden;\n",
              "  padding: 0;\n",
              "  position: absolute;\n",
              "  width: 1px;\n",
              "}\n",
              "\n",
              "#sk-container-id-3 div.sk-dashed-wrapped {\n",
              "  border: 1px dashed var(--sklearn-color-line);\n",
              "  margin: 0 0.4em 0.5em 0.4em;\n",
              "  box-sizing: border-box;\n",
              "  padding-bottom: 0.4em;\n",
              "  background-color: var(--sklearn-color-background);\n",
              "}\n",
              "\n",
              "#sk-container-id-3 div.sk-container {\n",
              "  /* jupyter's `normalize.less` sets `[hidden] { display: none; }`\n",
              "     but bootstrap.min.css set `[hidden] { display: none !important; }`\n",
              "     so we also need the `!important` here to be able to override the\n",
              "     default hidden behavior on the sphinx rendered scikit-learn.org.\n",
              "     See: https://github.com/scikit-learn/scikit-learn/issues/21755 */\n",
              "  display: inline-block !important;\n",
              "  position: relative;\n",
              "}\n",
              "\n",
              "#sk-container-id-3 div.sk-text-repr-fallback {\n",
              "  display: none;\n",
              "}\n",
              "\n",
              "div.sk-parallel-item,\n",
              "div.sk-serial,\n",
              "div.sk-item {\n",
              "  /* draw centered vertical line to link estimators */\n",
              "  background-image: linear-gradient(var(--sklearn-color-text-on-default-background), var(--sklearn-color-text-on-default-background));\n",
              "  background-size: 2px 100%;\n",
              "  background-repeat: no-repeat;\n",
              "  background-position: center center;\n",
              "}\n",
              "\n",
              "/* Parallel-specific style estimator block */\n",
              "\n",
              "#sk-container-id-3 div.sk-parallel-item::after {\n",
              "  content: \"\";\n",
              "  width: 100%;\n",
              "  border-bottom: 2px solid var(--sklearn-color-text-on-default-background);\n",
              "  flex-grow: 1;\n",
              "}\n",
              "\n",
              "#sk-container-id-3 div.sk-parallel {\n",
              "  display: flex;\n",
              "  align-items: stretch;\n",
              "  justify-content: center;\n",
              "  background-color: var(--sklearn-color-background);\n",
              "  position: relative;\n",
              "}\n",
              "\n",
              "#sk-container-id-3 div.sk-parallel-item {\n",
              "  display: flex;\n",
              "  flex-direction: column;\n",
              "}\n",
              "\n",
              "#sk-container-id-3 div.sk-parallel-item:first-child::after {\n",
              "  align-self: flex-end;\n",
              "  width: 50%;\n",
              "}\n",
              "\n",
              "#sk-container-id-3 div.sk-parallel-item:last-child::after {\n",
              "  align-self: flex-start;\n",
              "  width: 50%;\n",
              "}\n",
              "\n",
              "#sk-container-id-3 div.sk-parallel-item:only-child::after {\n",
              "  width: 0;\n",
              "}\n",
              "\n",
              "/* Serial-specific style estimator block */\n",
              "\n",
              "#sk-container-id-3 div.sk-serial {\n",
              "  display: flex;\n",
              "  flex-direction: column;\n",
              "  align-items: center;\n",
              "  background-color: var(--sklearn-color-background);\n",
              "  padding-right: 1em;\n",
              "  padding-left: 1em;\n",
              "}\n",
              "\n",
              "\n",
              "/* Toggleable style: style used for estimator/Pipeline/ColumnTransformer box that is\n",
              "clickable and can be expanded/collapsed.\n",
              "- Pipeline and ColumnTransformer use this feature and define the default style\n",
              "- Estimators will overwrite some part of the style using the `sk-estimator` class\n",
              "*/\n",
              "\n",
              "/* Pipeline and ColumnTransformer style (default) */\n",
              "\n",
              "#sk-container-id-3 div.sk-toggleable {\n",
              "  /* Default theme specific background. It is overwritten whether we have a\n",
              "  specific estimator or a Pipeline/ColumnTransformer */\n",
              "  background-color: var(--sklearn-color-background);\n",
              "}\n",
              "\n",
              "/* Toggleable label */\n",
              "#sk-container-id-3 label.sk-toggleable__label {\n",
              "  cursor: pointer;\n",
              "  display: block;\n",
              "  width: 100%;\n",
              "  margin-bottom: 0;\n",
              "  padding: 0.5em;\n",
              "  box-sizing: border-box;\n",
              "  text-align: center;\n",
              "}\n",
              "\n",
              "#sk-container-id-3 label.sk-toggleable__label-arrow:before {\n",
              "  /* Arrow on the left of the label */\n",
              "  content: \"▸\";\n",
              "  float: left;\n",
              "  margin-right: 0.25em;\n",
              "  color: var(--sklearn-color-icon);\n",
              "}\n",
              "\n",
              "#sk-container-id-3 label.sk-toggleable__label-arrow:hover:before {\n",
              "  color: var(--sklearn-color-text);\n",
              "}\n",
              "\n",
              "/* Toggleable content - dropdown */\n",
              "\n",
              "#sk-container-id-3 div.sk-toggleable__content {\n",
              "  max-height: 0;\n",
              "  max-width: 0;\n",
              "  overflow: hidden;\n",
              "  text-align: left;\n",
              "  /* unfitted */\n",
              "  background-color: var(--sklearn-color-unfitted-level-0);\n",
              "}\n",
              "\n",
              "#sk-container-id-3 div.sk-toggleable__content.fitted {\n",
              "  /* fitted */\n",
              "  background-color: var(--sklearn-color-fitted-level-0);\n",
              "}\n",
              "\n",
              "#sk-container-id-3 div.sk-toggleable__content pre {\n",
              "  margin: 0.2em;\n",
              "  border-radius: 0.25em;\n",
              "  color: var(--sklearn-color-text);\n",
              "  /* unfitted */\n",
              "  background-color: var(--sklearn-color-unfitted-level-0);\n",
              "}\n",
              "\n",
              "#sk-container-id-3 div.sk-toggleable__content.fitted pre {\n",
              "  /* unfitted */\n",
              "  background-color: var(--sklearn-color-fitted-level-0);\n",
              "}\n",
              "\n",
              "#sk-container-id-3 input.sk-toggleable__control:checked~div.sk-toggleable__content {\n",
              "  /* Expand drop-down */\n",
              "  max-height: 200px;\n",
              "  max-width: 100%;\n",
              "  overflow: auto;\n",
              "}\n",
              "\n",
              "#sk-container-id-3 input.sk-toggleable__control:checked~label.sk-toggleable__label-arrow:before {\n",
              "  content: \"▾\";\n",
              "}\n",
              "\n",
              "/* Pipeline/ColumnTransformer-specific style */\n",
              "\n",
              "#sk-container-id-3 div.sk-label input.sk-toggleable__control:checked~label.sk-toggleable__label {\n",
              "  color: var(--sklearn-color-text);\n",
              "  background-color: var(--sklearn-color-unfitted-level-2);\n",
              "}\n",
              "\n",
              "#sk-container-id-3 div.sk-label.fitted input.sk-toggleable__control:checked~label.sk-toggleable__label {\n",
              "  background-color: var(--sklearn-color-fitted-level-2);\n",
              "}\n",
              "\n",
              "/* Estimator-specific style */\n",
              "\n",
              "/* Colorize estimator box */\n",
              "#sk-container-id-3 div.sk-estimator input.sk-toggleable__control:checked~label.sk-toggleable__label {\n",
              "  /* unfitted */\n",
              "  background-color: var(--sklearn-color-unfitted-level-2);\n",
              "}\n",
              "\n",
              "#sk-container-id-3 div.sk-estimator.fitted input.sk-toggleable__control:checked~label.sk-toggleable__label {\n",
              "  /* fitted */\n",
              "  background-color: var(--sklearn-color-fitted-level-2);\n",
              "}\n",
              "\n",
              "#sk-container-id-3 div.sk-label label.sk-toggleable__label,\n",
              "#sk-container-id-3 div.sk-label label {\n",
              "  /* The background is the default theme color */\n",
              "  color: var(--sklearn-color-text-on-default-background);\n",
              "}\n",
              "\n",
              "/* On hover, darken the color of the background */\n",
              "#sk-container-id-3 div.sk-label:hover label.sk-toggleable__label {\n",
              "  color: var(--sklearn-color-text);\n",
              "  background-color: var(--sklearn-color-unfitted-level-2);\n",
              "}\n",
              "\n",
              "/* Label box, darken color on hover, fitted */\n",
              "#sk-container-id-3 div.sk-label.fitted:hover label.sk-toggleable__label.fitted {\n",
              "  color: var(--sklearn-color-text);\n",
              "  background-color: var(--sklearn-color-fitted-level-2);\n",
              "}\n",
              "\n",
              "/* Estimator label */\n",
              "\n",
              "#sk-container-id-3 div.sk-label label {\n",
              "  font-family: monospace;\n",
              "  font-weight: bold;\n",
              "  display: inline-block;\n",
              "  line-height: 1.2em;\n",
              "}\n",
              "\n",
              "#sk-container-id-3 div.sk-label-container {\n",
              "  text-align: center;\n",
              "}\n",
              "\n",
              "/* Estimator-specific */\n",
              "#sk-container-id-3 div.sk-estimator {\n",
              "  font-family: monospace;\n",
              "  border: 1px dotted var(--sklearn-color-border-box);\n",
              "  border-radius: 0.25em;\n",
              "  box-sizing: border-box;\n",
              "  margin-bottom: 0.5em;\n",
              "  /* unfitted */\n",
              "  background-color: var(--sklearn-color-unfitted-level-0);\n",
              "}\n",
              "\n",
              "#sk-container-id-3 div.sk-estimator.fitted {\n",
              "  /* fitted */\n",
              "  background-color: var(--sklearn-color-fitted-level-0);\n",
              "}\n",
              "\n",
              "/* on hover */\n",
              "#sk-container-id-3 div.sk-estimator:hover {\n",
              "  /* unfitted */\n",
              "  background-color: var(--sklearn-color-unfitted-level-2);\n",
              "}\n",
              "\n",
              "#sk-container-id-3 div.sk-estimator.fitted:hover {\n",
              "  /* fitted */\n",
              "  background-color: var(--sklearn-color-fitted-level-2);\n",
              "}\n",
              "\n",
              "/* Specification for estimator info (e.g. \"i\" and \"?\") */\n",
              "\n",
              "/* Common style for \"i\" and \"?\" */\n",
              "\n",
              ".sk-estimator-doc-link,\n",
              "a:link.sk-estimator-doc-link,\n",
              "a:visited.sk-estimator-doc-link {\n",
              "  float: right;\n",
              "  font-size: smaller;\n",
              "  line-height: 1em;\n",
              "  font-family: monospace;\n",
              "  background-color: var(--sklearn-color-background);\n",
              "  border-radius: 1em;\n",
              "  height: 1em;\n",
              "  width: 1em;\n",
              "  text-decoration: none !important;\n",
              "  margin-left: 1ex;\n",
              "  /* unfitted */\n",
              "  border: var(--sklearn-color-unfitted-level-1) 1pt solid;\n",
              "  color: var(--sklearn-color-unfitted-level-1);\n",
              "}\n",
              "\n",
              ".sk-estimator-doc-link.fitted,\n",
              "a:link.sk-estimator-doc-link.fitted,\n",
              "a:visited.sk-estimator-doc-link.fitted {\n",
              "  /* fitted */\n",
              "  border: var(--sklearn-color-fitted-level-1) 1pt solid;\n",
              "  color: var(--sklearn-color-fitted-level-1);\n",
              "}\n",
              "\n",
              "/* On hover */\n",
              "div.sk-estimator:hover .sk-estimator-doc-link:hover,\n",
              ".sk-estimator-doc-link:hover,\n",
              "div.sk-label-container:hover .sk-estimator-doc-link:hover,\n",
              ".sk-estimator-doc-link:hover {\n",
              "  /* unfitted */\n",
              "  background-color: var(--sklearn-color-unfitted-level-3);\n",
              "  color: var(--sklearn-color-background);\n",
              "  text-decoration: none;\n",
              "}\n",
              "\n",
              "div.sk-estimator.fitted:hover .sk-estimator-doc-link.fitted:hover,\n",
              ".sk-estimator-doc-link.fitted:hover,\n",
              "div.sk-label-container:hover .sk-estimator-doc-link.fitted:hover,\n",
              ".sk-estimator-doc-link.fitted:hover {\n",
              "  /* fitted */\n",
              "  background-color: var(--sklearn-color-fitted-level-3);\n",
              "  color: var(--sklearn-color-background);\n",
              "  text-decoration: none;\n",
              "}\n",
              "\n",
              "/* Span, style for the box shown on hovering the info icon */\n",
              ".sk-estimator-doc-link span {\n",
              "  display: none;\n",
              "  z-index: 9999;\n",
              "  position: relative;\n",
              "  font-weight: normal;\n",
              "  right: .2ex;\n",
              "  padding: .5ex;\n",
              "  margin: .5ex;\n",
              "  width: min-content;\n",
              "  min-width: 20ex;\n",
              "  max-width: 50ex;\n",
              "  color: var(--sklearn-color-text);\n",
              "  box-shadow: 2pt 2pt 4pt #999;\n",
              "  /* unfitted */\n",
              "  background: var(--sklearn-color-unfitted-level-0);\n",
              "  border: .5pt solid var(--sklearn-color-unfitted-level-3);\n",
              "}\n",
              "\n",
              ".sk-estimator-doc-link.fitted span {\n",
              "  /* fitted */\n",
              "  background: var(--sklearn-color-fitted-level-0);\n",
              "  border: var(--sklearn-color-fitted-level-3);\n",
              "}\n",
              "\n",
              ".sk-estimator-doc-link:hover span {\n",
              "  display: block;\n",
              "}\n",
              "\n",
              "/* \"?\"-specific style due to the `<a>` HTML tag */\n",
              "\n",
              "#sk-container-id-3 a.estimator_doc_link {\n",
              "  float: right;\n",
              "  font-size: 1rem;\n",
              "  line-height: 1em;\n",
              "  font-family: monospace;\n",
              "  background-color: var(--sklearn-color-background);\n",
              "  border-radius: 1rem;\n",
              "  height: 1rem;\n",
              "  width: 1rem;\n",
              "  text-decoration: none;\n",
              "  /* unfitted */\n",
              "  color: var(--sklearn-color-unfitted-level-1);\n",
              "  border: var(--sklearn-color-unfitted-level-1) 1pt solid;\n",
              "}\n",
              "\n",
              "#sk-container-id-3 a.estimator_doc_link.fitted {\n",
              "  /* fitted */\n",
              "  border: var(--sklearn-color-fitted-level-1) 1pt solid;\n",
              "  color: var(--sklearn-color-fitted-level-1);\n",
              "}\n",
              "\n",
              "/* On hover */\n",
              "#sk-container-id-3 a.estimator_doc_link:hover {\n",
              "  /* unfitted */\n",
              "  background-color: var(--sklearn-color-unfitted-level-3);\n",
              "  color: var(--sklearn-color-background);\n",
              "  text-decoration: none;\n",
              "}\n",
              "\n",
              "#sk-container-id-3 a.estimator_doc_link.fitted:hover {\n",
              "  /* fitted */\n",
              "  background-color: var(--sklearn-color-fitted-level-3);\n",
              "}\n",
              "</style><div id=\"sk-container-id-3\" class=\"sk-top-container\"><div class=\"sk-text-repr-fallback\"><pre>RandomForestRegressor()</pre><b>In a Jupyter environment, please rerun this cell to show the HTML representation or trust the notebook. <br />On GitHub, the HTML representation is unable to render, please try loading this page with nbviewer.org.</b></div><div class=\"sk-container\" hidden><div class=\"sk-item\"><div class=\"sk-estimator fitted sk-toggleable\"><input class=\"sk-toggleable__control sk-hidden--visually\" id=\"sk-estimator-id-3\" type=\"checkbox\" checked><label for=\"sk-estimator-id-3\" class=\"sk-toggleable__label fitted sk-toggleable__label-arrow fitted\">&nbsp;&nbsp;RandomForestRegressor<a class=\"sk-estimator-doc-link fitted\" rel=\"noreferrer\" target=\"_blank\" href=\"https://scikit-learn.org/1.4/modules/generated/sklearn.ensemble.RandomForestRegressor.html\">?<span>Documentation for RandomForestRegressor</span></a><span class=\"sk-estimator-doc-link fitted\">i<span>Fitted</span></span></label><div class=\"sk-toggleable__content fitted\"><pre>RandomForestRegressor()</pre></div> </div></div></div></div>"
            ],
            "text/plain": [
              "RandomForestRegressor()"
            ]
          },
          "execution_count": 245,
          "metadata": {},
          "output_type": "execute_result"
        }
      ],
      "source": [
        "rf = RandomForestRegressor()\n",
        "\n",
        "rf.fit(X_reg,y_reg)"
      ]
    },
    {
      "cell_type": "code",
      "execution_count": null,
      "id": "b7f4128f",
      "metadata": {
        "colab": {
          "base_uri": "https://localhost:8080/",
          "height": 430
        },
        "id": "b7f4128f",
        "outputId": "a5b92e21-43ed-4716-8392-8eafefd4c982"
      },
      "outputs": [
        {
          "data": {
            "image/png": "[encoded data removed]",
            "text/plain": [
              "<Figure size 640x480 with 1 Axes>"
            ]
          },
          "metadata": {},
          "output_type": "display_data"
        }
      ],
      "source": [
        "f_i = list(zip(X_reg.columns, rf.feature_importances_))\n",
        "f_i.sort(key = lambda x : x[1])\n",
        "plt.barh([x[0] for x in f_i],[x[1] for x in f_i])\n",
        "\n",
        "plt.show()"
      ]
    },
    {
      "cell_type": "markdown",
      "id": "ad42eb46",
      "metadata": {
        "id": "ad42eb46"
      },
      "source": [
        "### Get the Data"
      ]
    },
    {
      "cell_type": "markdown",
      "id": "701622b2",
      "metadata": {
        "id": "701622b2"
      },
      "source": [
        "### Import Packages"
      ]
    },
    {
      "cell_type": "code",
      "execution_count": null,
      "id": "8b5a3fd4",
      "metadata": {
        "id": "8b5a3fd4"
      },
      "outputs": [],
      "source": [
        "import re\n",
        "import tqdm\n",
        "import numpy as np\n",
        "import pandas as pd\n",
        "import matplotlib.pyplot as plt\n",
        "from typing import Union\n",
        "from dataclasses import dataclass\n",
        "from sklearn.model_selection import train_test_split\n",
        "from sklearn.linear_model import LinearRegression, Ridge, Lasso"
      ]
    },
    {
      "cell_type": "markdown",
      "id": "698bf742",
      "metadata": {
        "id": "698bf742"
      },
      "source": [
        "### Data Preparation & Split"
      ]
    },
    {
      "cell_type": "code",
      "execution_count": null,
      "id": "c2f887c6",
      "metadata": {
        "colab": {
          "base_uri": "https://localhost:8080/",
          "height": 206
        },
        "id": "c2f887c6",
        "outputId": "1d19a28f-59a6-4694-f5f9-426d8282b3f3"
      },
      "outputs": [
        {
          "data": {
            "text/html": [
              "<div>\n",
              "<style scoped>\n",
              "    .dataframe tbody tr th:only-of-type {\n",
              "        vertical-align: middle;\n",
              "    }\n",
              "\n",
              "    .dataframe tbody tr th {\n",
              "        vertical-align: top;\n",
              "    }\n",
              "\n",
              "    .dataframe thead th {\n",
              "        text-align: right;\n",
              "    }\n",
              "</style>\n",
              "<table border=\"1\" class=\"dataframe\">\n",
              "  <thead>\n",
              "    <tr style=\"text-align: right;\">\n",
              "      <th></th>\n",
              "      <th>month</th>\n",
              "      <th>category</th>\n",
              "      <th>colour</th>\n",
              "      <th>location</th>\n",
              "      <th>model-photography</th>\n",
              "      <th>price</th>\n",
              "      <th>product-code-en</th>\n",
              "      <th>price-category_en</th>\n",
              "    </tr>\n",
              "  </thead>\n",
              "  <tbody>\n",
              "    <tr>\n",
              "      <th>0</th>\n",
              "      <td>4</td>\n",
              "      <td>1</td>\n",
              "      <td>1</td>\n",
              "      <td>5</td>\n",
              "      <td>1</td>\n",
              "      <td>28</td>\n",
              "      <td>0</td>\n",
              "      <td>0</td>\n",
              "    </tr>\n",
              "    <tr>\n",
              "      <th>1</th>\n",
              "      <td>4</td>\n",
              "      <td>1</td>\n",
              "      <td>1</td>\n",
              "      <td>6</td>\n",
              "      <td>1</td>\n",
              "      <td>33</td>\n",
              "      <td>1</td>\n",
              "      <td>0</td>\n",
              "    </tr>\n",
              "    <tr>\n",
              "      <th>2</th>\n",
              "      <td>4</td>\n",
              "      <td>2</td>\n",
              "      <td>10</td>\n",
              "      <td>2</td>\n",
              "      <td>1</td>\n",
              "      <td>52</td>\n",
              "      <td>2</td>\n",
              "      <td>1</td>\n",
              "    </tr>\n",
              "    <tr>\n",
              "      <th>3</th>\n",
              "      <td>4</td>\n",
              "      <td>2</td>\n",
              "      <td>6</td>\n",
              "      <td>6</td>\n",
              "      <td>2</td>\n",
              "      <td>38</td>\n",
              "      <td>3</td>\n",
              "      <td>1</td>\n",
              "    </tr>\n",
              "    <tr>\n",
              "      <th>4</th>\n",
              "      <td>4</td>\n",
              "      <td>2</td>\n",
              "      <td>4</td>\n",
              "      <td>3</td>\n",
              "      <td>2</td>\n",
              "      <td>52</td>\n",
              "      <td>4</td>\n",
              "      <td>1</td>\n",
              "    </tr>\n",
              "  </tbody>\n",
              "</table>\n",
              "</div>"
            ],
            "text/plain": [
              "   month  category  colour  location  model-photography  price  \\\n",
              "0      4         1       1         5                  1     28   \n",
              "1      4         1       1         6                  1     33   \n",
              "2      4         2      10         2                  1     52   \n",
              "3      4         2       6         6                  2     38   \n",
              "4      4         2       4         3                  2     52   \n",
              "\n",
              "   product-code-en  price-category_en  \n",
              "0                0                  0  \n",
              "1                1                  0  \n",
              "2                2                  1  \n",
              "3                3                  1  \n",
              "4                4                  1  "
            ]
          },
          "execution_count": 249,
          "metadata": {},
          "output_type": "execute_result"
        }
      ],
      "source": [
        "data.drop(['year', 'session-id', 'day', 'order', 'country', 'page-no', 'price-higher-than-category','date'], axis=1, inplace=True)\n",
        "data.head()"
      ]
    },
    {
      "cell_type": "code",
      "execution_count": null,
      "id": "a5e1d51f",
      "metadata": {
        "id": "a5e1d51f"
      },
      "outputs": [],
      "source": [
        "regression_data = data.drop(['price-category_en'], axis=1)"
      ]
    },
    {
      "cell_type": "code",
      "execution_count": null,
      "id": "1aea4f57",
      "metadata": {
        "colab": {
          "base_uri": "https://localhost:8080/"
        },
        "id": "1aea4f57",
        "outputId": "1ba95910-506a-4225-b820-303472107a5f"
      },
      "outputs": [
        {
          "name": "stdout",
          "output_type": "stream",
          "text": [
            "Train samples: 132371 & Test samples: 33093\n"
          ]
        }
      ],
      "source": [
        "train, test = train_test_split(regression_data, test_size=0.2)\n",
        "X_train, y_train =  train.drop(['price'], axis=1), train['price']\n",
        "X_test, y_test = test.drop(['price'], axis=1), test['price']\n",
        "print(f'Train samples: {len(train)} & Test samples: {len(test)}')"
      ]
    },
    {
      "cell_type": "markdown",
      "id": "937dac5b",
      "metadata": {
        "id": "937dac5b"
      },
      "source": [
        "### Data Scaling"
      ]
    },
    {
      "cell_type": "code",
      "execution_count": null,
      "id": "b1762531",
      "metadata": {
        "id": "b1762531"
      },
      "outputs": [],
      "source": [
        "class StandardScalar:\n",
        "    def fit(self, X: np.array) -> None:\n",
        "        self._mean = np.mean(X, axis=0)\n",
        "        self._std = np.std(X, axis=0)\n",
        "\n",
        "    def transform(self, X: np.array) -> np.array:\n",
        "        return (X - self._mean) / self._std\n",
        "\n",
        "    def fit_transform(self, X: np.array) -> np.array:\n",
        "        self.fit(X)\n",
        "        return self.trasform(X)"
      ]
    },
    {
      "cell_type": "code",
      "execution_count": null,
      "id": "67eabbbc",
      "metadata": {
        "id": "67eabbbc"
      },
      "outputs": [],
      "source": [
        "std_scalar = StandardScalar()"
      ]
    },
    {
      "cell_type": "code",
      "execution_count": null,
      "id": "0182b148",
      "metadata": {
        "id": "0182b148"
      },
      "outputs": [],
      "source": [
        "std_scalar.fit(X_train)\n",
        "X_train_std = std_scalar.transform(X_train)\n",
        "X_test_std = std_scalar.transform(X_test)"
      ]
    },
    {
      "cell_type": "code",
      "execution_count": null,
      "id": "b3aeee65",
      "metadata": {
        "colab": {
          "base_uri": "https://localhost:8080/"
        },
        "id": "b3aeee65",
        "outputId": "f7ef5349-3878-42f7-837f-0348cb9dd921"
      },
      "outputs": [
        {
          "name": "stdout",
          "output_type": "stream",
          "text": [
            "Column means: Train - [-0.000000 0.000000 -0.000000 -0.000000 0.000000 0.000000] & Test - [-0.000000 -0.008000 0.001000 -0.004000 -0.005000 0.012000]\n",
            "Column standard deviations: Train - [1.000000 1.000000 1.000000 1.000000 1.000000 1.000000] & Test - [1.001322 0.999752 1.004983 0.998926 0.997476 1.000466]\n"
          ]
        }
      ],
      "source": [
        "print(f'Column means: Train - {np.round(np.mean(X_train_std, axis=0).values, 3)} & Test - {np.round(np.mean(X_test_std, axis=0), 3).values}')\n",
        "print(f'Column standard deviations: Train - {np.std(X_train_std, axis=0).values} & Test - {np.std(X_test_std, axis=0).values}')"
      ]
    },
    {
      "cell_type": "code",
      "execution_count": null,
      "id": "e6b5b7aa",
      "metadata": {
        "id": "e6b5b7aa",
        "outputId": "923b430e-e3f3-402a-807e-e316fa1ee240"
      },
      "outputs": [
        {
          "data": {
            "text/html": [
              "<div>\n",
              "<style scoped>\n",
              "    .dataframe tbody tr th:only-of-type {\n",
              "        vertical-align: middle;\n",
              "    }\n",
              "\n",
              "    .dataframe tbody tr th {\n",
              "        vertical-align: top;\n",
              "    }\n",
              "\n",
              "    .dataframe thead th {\n",
              "        text-align: right;\n",
              "    }\n",
              "</style>\n",
              "<table border=\"1\" class=\"dataframe\">\n",
              "  <thead>\n",
              "    <tr style=\"text-align: right;\">\n",
              "      <th></th>\n",
              "      <th>month</th>\n",
              "      <th>category</th>\n",
              "      <th>colour</th>\n",
              "      <th>location</th>\n",
              "      <th>model-photography</th>\n",
              "      <th>product-code-en</th>\n",
              "    </tr>\n",
              "  </thead>\n",
              "  <tbody>\n",
              "    <tr>\n",
              "      <th>133711</th>\n",
              "      <td>1.065140</td>\n",
              "      <td>-1.225652</td>\n",
              "      <td>-0.053697</td>\n",
              "      <td>0.432154</td>\n",
              "      <td>-0.593477</td>\n",
              "      <td>1.104109</td>\n",
              "    </tr>\n",
              "    <tr>\n",
              "      <th>127032</th>\n",
              "      <td>1.065140</td>\n",
              "      <td>-0.351877</td>\n",
              "      <td>-0.999020</td>\n",
              "      <td>1.015737</td>\n",
              "      <td>-0.593477</td>\n",
              "      <td>0.598769</td>\n",
              "    </tr>\n",
              "    <tr>\n",
              "      <th>11731</th>\n",
              "      <td>-1.194386</td>\n",
              "      <td>-1.225652</td>\n",
              "      <td>1.364289</td>\n",
              "      <td>-1.318597</td>\n",
              "      <td>1.684986</td>\n",
              "      <td>0.562673</td>\n",
              "    </tr>\n",
              "    <tr>\n",
              "      <th>131313</th>\n",
              "      <td>1.065140</td>\n",
              "      <td>-1.225652</td>\n",
              "      <td>1.836951</td>\n",
              "      <td>1.015737</td>\n",
              "      <td>1.684986</td>\n",
              "      <td>0.147572</td>\n",
              "    </tr>\n",
              "    <tr>\n",
              "      <th>71023</th>\n",
              "      <td>-0.441210</td>\n",
              "      <td>-0.351877</td>\n",
              "      <td>0.655296</td>\n",
              "      <td>1.015737</td>\n",
              "      <td>-0.593477</td>\n",
              "      <td>-1.314304</td>\n",
              "    </tr>\n",
              "    <tr>\n",
              "      <th>...</th>\n",
              "      <td>...</td>\n",
              "      <td>...</td>\n",
              "      <td>...</td>\n",
              "      <td>...</td>\n",
              "      <td>...</td>\n",
              "      <td>...</td>\n",
              "    </tr>\n",
              "    <tr>\n",
              "      <th>22888</th>\n",
              "      <td>-1.194386</td>\n",
              "      <td>-0.351877</td>\n",
              "      <td>1.364289</td>\n",
              "      <td>1.015737</td>\n",
              "      <td>1.684986</td>\n",
              "      <td>-0.448007</td>\n",
              "    </tr>\n",
              "    <tr>\n",
              "      <th>117626</th>\n",
              "      <td>1.065140</td>\n",
              "      <td>0.521898</td>\n",
              "      <td>1.836951</td>\n",
              "      <td>1.599320</td>\n",
              "      <td>-0.593477</td>\n",
              "      <td>-1.115777</td>\n",
              "    </tr>\n",
              "    <tr>\n",
              "      <th>96433</th>\n",
              "      <td>0.311965</td>\n",
              "      <td>0.521898</td>\n",
              "      <td>1.600620</td>\n",
              "      <td>-0.151430</td>\n",
              "      <td>-0.593477</td>\n",
              "      <td>-1.151873</td>\n",
              "    </tr>\n",
              "    <tr>\n",
              "      <th>133450</th>\n",
              "      <td>1.065140</td>\n",
              "      <td>0.521898</td>\n",
              "      <td>1.127958</td>\n",
              "      <td>-0.735013</td>\n",
              "      <td>-0.593477</td>\n",
              "      <td>-0.935299</td>\n",
              "    </tr>\n",
              "    <tr>\n",
              "      <th>120385</th>\n",
              "      <td>1.065140</td>\n",
              "      <td>0.521898</td>\n",
              "      <td>-0.999020</td>\n",
              "      <td>0.432154</td>\n",
              "      <td>-0.593477</td>\n",
              "      <td>0.328051</td>\n",
              "    </tr>\n",
              "  </tbody>\n",
              "</table>\n",
              "<p>132371 rows × 6 columns</p>\n",
              "</div>"
            ],
            "text/plain": [
              "           month  category    colour  location  model-photography  \\\n",
              "133711  1.065140 -1.225652 -0.053697  0.432154          -0.593477   \n",
              "127032  1.065140 -0.351877 -0.999020  1.015737          -0.593477   \n",
              "11731  -1.194386 -1.225652  1.364289 -1.318597           1.684986   \n",
              "131313  1.065140 -1.225652  1.836951  1.015737           1.684986   \n",
              "71023  -0.441210 -0.351877  0.655296  1.015737          -0.593477   \n",
              "...          ...       ...       ...       ...                ...   \n",
              "22888  -1.194386 -0.351877  1.364289  1.015737           1.684986   \n",
              "117626  1.065140  0.521898  1.836951  1.599320          -0.593477   \n",
              "96433   0.311965  0.521898  1.600620 -0.151430          -0.593477   \n",
              "133450  1.065140  0.521898  1.127958 -0.735013          -0.593477   \n",
              "120385  1.065140  0.521898 -0.999020  0.432154          -0.593477   \n",
              "\n",
              "        product-code-en  \n",
              "133711         1.104109  \n",
              "127032         0.598769  \n",
              "11731          0.562673  \n",
              "131313         0.147572  \n",
              "71023         -1.314304  \n",
              "...                 ...  \n",
              "22888         -0.448007  \n",
              "117626        -1.115777  \n",
              "96433         -1.151873  \n",
              "133450        -0.935299  \n",
              "120385         0.328051  \n",
              "\n",
              "[132371 rows x 6 columns]"
            ]
          },
          "execution_count": 256,
          "metadata": {},
          "output_type": "execute_result"
        }
      ],
      "source": [
        "X_train_std"
      ]
    },
    {
      "cell_type": "markdown",
      "id": "375b5d58",
      "metadata": {
        "id": "375b5d58"
      },
      "source": [
        "## Model Building"
      ]
    },
    {
      "cell_type": "code",
      "execution_count": null,
      "id": "03d43000",
      "metadata": {
        "id": "03d43000"
      },
      "outputs": [],
      "source": [
        "class NotAnNumpyArrayException(Exception):\n",
        "      def __str__(self) -> str:\n",
        "        return '''\n",
        "          Provided variable is not an Numpy Array. Please only provide numpy arrays as variables\n",
        "        '''\n",
        "\n",
        "class SolutionNotImplemented(Exception):\n",
        "      def __str__(self) -> str:\n",
        "            return '''\n",
        "              Requested solution not available. Available solutions are only `iterative` & `analytical`. Please choose correctly.\n",
        "             '''\n",
        "class UnstableSolution(Exception):\n",
        "    matrix_rank: int\n",
        "\n",
        "    def __str__(self) -> str:\n",
        "        return f'''\n",
        "              The Rank of the Matrix is: {self.matrix_rank}. It is not stable. The Matrix has to be Full Rank to compute analytical solution.\n",
        "             '''\n",
        "\n",
        "class ProvideCorrectParameters(Exception):\n",
        "      def __str__(self) -> str:\n",
        "             return '''\n",
        "              Provide solution: str, epochs: int, and learning_rate: float correctly for Iterative solution\n",
        "             '''\n",
        "class ParameterStoppedUpdating(Exception):\n",
        "      def __init__(self, weights: np.ndarray, epoch_no: int):\n",
        "        self.w = weights\n",
        "        self.e_no = epoch_no\n",
        "\n",
        "      def __str__(self) -> str:\n",
        "        return f'''\n",
        "                  Current weight values: {self.w} at epoch: {self.e_no}\\nWeights have stopped updating. Kindly check for numerical overflow / underflow issues.\n",
        "                '''"
      ]
    },
    {
      "cell_type": "code",
      "execution_count": null,
      "id": "1eddefb5",
      "metadata": {
        "id": "1eddefb5"
      },
      "outputs": [],
      "source": [
        "class NumpyBaseRegression:\n",
        "  _weights = None\n",
        "\n",
        "  def _add_bias(self, X: np.array) -> np.array:\n",
        "    self.num_features = X.shape[1] + 1\n",
        "    return np.column_stack([np.ones(X.shape[0]), X])\n",
        "\n",
        "  def _get_matrix_rank(self, X: np.array) -> int:\n",
        "    return np.linalg.matrix_rank(X)\n",
        "\n",
        "  def _is_fullrank(self, X: np.array) -> None:\n",
        "    self.fullrank:bool = self._get_matrix_rank(X) == min(X.shape[0], X.shape[1])\n",
        "\n",
        "  def _is_lowrank(self, X: np.array) -> None:\n",
        "    self.lowrank:bool = X.shape[0] < X.shape[1]\n",
        "\n",
        "    def get_weights(self):\n",
        "        return self._weights\n",
        "\n",
        "  def _weight_init(self) -> None:\n",
        "    self._weights = np.random.normal(loc=0, scale=1, size=self.num_features)\n",
        "\n",
        "  def predict(self, X: np.array, add_bias = False) -> np.array:\n",
        "    if add_bias:\n",
        "      X = self._add_bias(X)\n",
        "    return np.dot(X, self._weights)\n",
        "\n",
        "  def _get_sse(self, X: np.array, y: np.array) -> float:\n",
        "    y_hat = self.predict(X)\n",
        "    return np.sum((y_hat - y)**2)\n",
        "\n",
        "  def _get_mse(self, X: np.array, y: np.array) -> float:\n",
        "    return self._get_sse(X, y) / len(X)\n",
        "\n",
        "  def _get_rmse(self, X: np.array, y: np.array) -> float:\n",
        "    return np.sqrt(self._get_mse(X, y))\n",
        "\n",
        "  def _get_r2(self, X: np.array, y: np.array) -> float:\n",
        "    y_bar = np.mean(y)\n",
        "    SST = np.sum((y - y_bar)**2)\n",
        "    SSE = self._get_sse(X, y)\n",
        "    return 1 - (SSE/SST)\n",
        "\n",
        "  def _summary(self, X: np.array, y: np.array) -> str:\n",
        "    mse = self._get_mse(X, y)\n",
        "    r2 = self._get_r2(X, y)\n",
        "    summary = f'''Number of Observations: {X.shape[0]}\\nNumber of Features: {X.shape[1] - 1}\\nMSE: {mse}\\nRMSE: {np.sqrt(mse)}\\nR2: {r2}\\nIntercept: {self._weights[0]}\\nCoefficients: {self._weights[1:]}'''\n",
        "\n",
        "    return summary"
      ]
    },
    {
      "cell_type": "markdown",
      "id": "d571d1d4",
      "metadata": {
        "id": "d571d1d4"
      },
      "source": [
        "## Linear Regression"
      ]
    },
    {
      "cell_type": "code",
      "execution_count": null,
      "id": "e565ce7e",
      "metadata": {
        "id": "e565ce7e"
      },
      "outputs": [],
      "source": [
        "@dataclass\n",
        "class NumpyLinearRegression(NumpyBaseRegression):\n",
        "  solution: str\n",
        "  epochs: Union[int, None] = None\n",
        "  learning_rate: Union[float, None] = None\n",
        "  epsilon: float = 0.0003\n",
        "\n",
        "  def _analytical_solution(self, X: np.array, y: np.array) -> None:\n",
        "    XTX_inv = np.linalg.inv(X.T.dot(X))\n",
        "    XTy = X.T.dot(y)\n",
        "    self._weights = np.dot(XTX_inv, XTy)\n",
        "\n",
        "  def _cost_derivative(self, X: np.array, y: np.array) -> np.array:\n",
        "    y_hat = self.predict(X)\n",
        "    return X.T.dot(y_hat - y)\n",
        "\n",
        "  def _gradient_descent_solution(self, X: np.array, y: np.array) -> None:\n",
        "    self.errors = []\n",
        "    prev_errors = float('inf')\n",
        "    self._weight_init()\n",
        "\n",
        "    for ep_no in tqdm.tqdm(range(self.epochs), colour='blue'):\n",
        "      self._weights -= self.learning_rate * self._cost_derivative(X, y)\n",
        "      if any(np.isnan(self._weights)) or any(np.isinf(self._weights)):\n",
        "        # check whether the weights are correctly being learnt or not\n",
        "        raise ParameterStoppedUpdating(self._weights, epoch_no=ep_no)\n",
        "\n",
        "      loss = self._get_sse(X, y)\n",
        "\n",
        "      if abs(loss - prev_errors) < self.epsilon:\n",
        "        print(\"\\nModel Stopped Learning\")\n",
        "        break\n",
        "\n",
        "      self.errors.append(prev_errors)\n",
        "      prev_errors = loss\n",
        "\n",
        "  def fit(self, X: np.array, y: np.array) -> None:\n",
        "\n",
        "    if isinstance(X, np.ndarray) and isinstance(y, np.ndarray):\n",
        "      raise NotAnNumpyArrayException()\n",
        "\n",
        "    X_ = self._add_bias(X)\n",
        "\n",
        "    if self.solution == 'analytical':\n",
        "      self._is_fullrank(X_)\n",
        "      self._is_lowrank(X_)\n",
        "\n",
        "      if self.fullrank and not self.lowrank:\n",
        "        self._analytical_solution(X_, y)\n",
        "        print(self._summary(X_, y))\n",
        "      else:\n",
        "        raise UnstableSolution(matrix_rank=self._get_matrix_rank(X_))\n",
        "\n",
        "    elif self.solution == 'iterative':\n",
        "\n",
        "      if not self.epochs or not self.learning_rate:\n",
        "        raise ProvideCorrectParameters()\n",
        "\n",
        "      self._gradient_descent_solution(X_, y)\n",
        "      print(self._summary(X_, y))\n",
        "\n",
        "    else:\n",
        "      raise SolutionNotImplemented()"
      ]
    },
    {
      "cell_type": "markdown",
      "id": "117a1158",
      "metadata": {
        "id": "117a1158"
      },
      "source": [
        "## Ridge Linear Regression"
      ]
    },
    {
      "cell_type": "code",
      "execution_count": null,
      "id": "883689bf",
      "metadata": {
        "id": "883689bf"
      },
      "outputs": [],
      "source": [
        "@dataclass\n",
        "class NumpyRidgeRegression(NumpyBaseRegression):\n",
        "  solution: str\n",
        "  lambda_value: float\n",
        "  epochs: Union[int, None] = None\n",
        "  learning_rate: Union[float, None] = None\n",
        "  epsilon: float = 1e-3\n",
        "\n",
        "  def _analytical_solution(self, X: np.array, y: np.array) -> None:\n",
        "    a = np.linalg.inv(np.dot(X.T, X) +  self.lambda_value * np.eye(X.shape[1]))\n",
        "    b = np.dot(X.T, y)\n",
        "    self._weights = np.dot(a, b)\n",
        "\n",
        "  def _cost_derivative(self, X: np.array, y: np.array) -> np.array:\n",
        "    y_hat = self.predict(X)\n",
        "    return np.dot(X.T, y_hat - y) + self.lambda_value * self._weights\n",
        "\n",
        "  def _gradient_descent_solution(self, X: np.array, y: np.array) -> np.array:\n",
        "    self.errors = []\n",
        "    self._weight_init()\n",
        "    prev_error = float('inf')\n",
        "\n",
        "    for ep_no in tqdm.tqdm(range(self.epochs), colour='blue'):\n",
        "      self._weights -= self.learning_rate * self._cost_derivative(X, y)\n",
        "      if any(np.isnan(self._weights)) or any(np.isinf(self._weights)):\n",
        "        # check whether the weights are correctly being learnt or not\n",
        "        raise ParameterStoppedUpdating(self._weights, epoch_no=ep_no)\n",
        "\n",
        "      loss = self._get_sse(X, y)\n",
        "\n",
        "      if abs(loss - prev_error) < self.epsilon:\n",
        "        print(f'\\nModel stopped training')\n",
        "        break\n",
        "\n",
        "      self.errors.append(loss)\n",
        "      prev_error = loss\n",
        "\n",
        "  def fit(self, X: np.array, y: np.array) -> None:\n",
        "    if isinstance(X, np.ndarray) and isinstance(y, np.ndarray):\n",
        "      raise NotAnNumpyArrayException()\n",
        "\n",
        "    X_ = self._add_bias(X)\n",
        "\n",
        "    if self.solution == 'analytical':\n",
        "      self._is_fullrank(X_)\n",
        "      self._is_lowrank(X_)\n",
        "\n",
        "      if self.fullrank and not self.lowrank:\n",
        "        self._analytical_solution(X_, y)\n",
        "        print(self._summary(X_, y))\n",
        "      else:\n",
        "        raise UnstableSolution(matrix_rank=self._get_matrix_rank(X_))\n",
        "\n",
        "    elif self.solution == 'iterative':\n",
        "\n",
        "      if not self.epochs or not self.learning_rate:\n",
        "        raise ProvideCorrectParameters()\n",
        "\n",
        "      self._gradient_descent_solution(X_, y)\n",
        "      print(self._summary(X_, y))\n",
        "\n",
        "    else:\n",
        "      raise SolutionNotImplemented()\n",
        "\n",
        "  def _summary(self, X: np.array, y: np.array) -> str:\n",
        "    mse = self._get_mse(X, y)\n",
        "    r2 = self._get_r2(X, y)\n",
        "    summary = f'''Number of Observations: {X.shape[0]}\\nNumber of Features: {X.shape[1] - 1}\\nLambda parameter: {self.lambda_value}\\nMSE: {mse}\\nRMSE: {np.sqrt(mse)}\\nR2: {r2}\\nIntercept: {self._weights[0]}\\nCoefficients: {self._weights[1:]}'''\n",
        "\n",
        "    return summary"
      ]
    },
    {
      "cell_type": "markdown",
      "id": "f54bc3cc",
      "metadata": {
        "id": "f54bc3cc"
      },
      "source": [
        "## LASSO Linear Regression"
      ]
    },
    {
      "cell_type": "code",
      "execution_count": null,
      "id": "8d4c985e",
      "metadata": {
        "id": "8d4c985e"
      },
      "outputs": [],
      "source": [
        "@dataclass\n",
        "class NumpyLassoRegression(NumpyBaseRegression):\n",
        "  solution: str\n",
        "  lambda_value: float\n",
        "  epochs: Union[int, None] = None\n",
        "  learning_rate: Union[float, None] = None\n",
        "  epsilon: float = 1e-3\n",
        "\n",
        "  def _cost_derivative(self, X: np.array, y: np.array) -> np.array:\n",
        "    y_hat = self.predict(X)\n",
        "    return np.dot(X.T, y_hat - y) + self.lambda_value * np.sign(self._weights)\n",
        "\n",
        "  def _gradient_descent_solution(self, X: np.array, y: np.array) -> np.array:\n",
        "    self.errors = []\n",
        "    self._weight_init()\n",
        "    prev_error = float('inf')\n",
        "\n",
        "    for ep_no in tqdm.tqdm(range(self.epochs), colour='blue'):\n",
        "      self._weights -= self.learning_rate * self._cost_derivative(X, y)\n",
        "      if any(np.isnan(self._weights)) or any(np.isinf(self._weights)):\n",
        "        # check whether the weights are correctly being learnt or not\n",
        "        raise ParameterStoppedUpdating(self._weights, epoch_no=ep_no)\n",
        "\n",
        "      loss = self._get_sse(X, y)\n",
        "\n",
        "      if abs(loss - prev_error) < self.epsilon:\n",
        "        print(f'\\nModel stopped training')\n",
        "        break\n",
        "\n",
        "      self.errors.append(loss)\n",
        "      prev_error = loss\n",
        "\n",
        "  def fit(self, X: np.array, y: np.array) -> None:\n",
        "    if isinstance(X, np.ndarray) and isinstance(y, np.ndarray):\n",
        "      raise NotAnNumpyArrayException()\n",
        "\n",
        "    X_ = self._add_bias(X)\n",
        "\n",
        "    if self.solution == 'analytical':\n",
        "      self._is_fullrank(X_)\n",
        "      self._is_lowrank(X_)\n",
        "\n",
        "      if self.fullrank and not self.lowrank:\n",
        "        self._analytical_solution(X_, y)\n",
        "        print(self._summary(X_, y))\n",
        "      else:\n",
        "        raise UnstableSolution(matrix_rank=self._get_matrix_rank(X_))\n",
        "\n",
        "    elif self.solution == 'iterative':\n",
        "\n",
        "      if not self.epochs or not self.learning_rate:\n",
        "        raise ProvideCorrectParameters()\n",
        "\n",
        "      self._gradient_descent_solution(X_, y)\n",
        "      print(self._summary(X_, y))\n",
        "\n",
        "    else:\n",
        "      raise SolutionNotImplemented()\n",
        "\n",
        "  def _summary(self, X: np.array, y: np.array) -> str:\n",
        "    mse = self._get_mse(X, y)\n",
        "    r2 = self._get_r2(X, y)\n",
        "    summary = f'''Number of Observations: {X.shape[0]}\\nNumber of Features: {X.shape[1] - 1}\\nLambda parameter: {self.lambda_value}\\nMSE: {mse}\\nRMSE: {np.sqrt(mse)}\\nR2: {r2}\\nIntercept: {self._weights[0]}\\nCoefficients: {self._weights[1:]}'''\n",
        "\n",
        "    return summary"
      ]
    },
    {
      "cell_type": "markdown",
      "id": "0aef7f68",
      "metadata": {
        "id": "0aef7f68"
      },
      "source": [
        "## Artificial Neural Networks"
      ]
    },
    {
      "cell_type": "code",
      "execution_count": null,
      "id": "719ca5d9",
      "metadata": {
        "id": "719ca5d9",
        "outputId": "a4eaf430-da8f-4297-a431-f36494e4c14a"
      },
      "outputs": [
        {
          "data": {
            "image/png": "[encoded data removed]",
            "text/plain": [
              "<Figure size 640x480 with 1 Axes>"
            ]
          },
          "metadata": {},
          "output_type": "display_data"
        }
      ],
      "source": [
        "import matplotlib.pyplot as plt\n",
        "import numpy as np\n",
        "import tensorflow as tf\n",
        "from sklearn.model_selection import train_test_split\n",
        "from sklearn.preprocessing import StandardScaler\n",
        "from sklearn.metrics import mean_squared_error\n",
        "\n",
        "# Assuming X_train, y_train, X_test, y_test are your training and testing data\n",
        "\n",
        "# Define a range of model complexities (e.g., number of neurons)\n",
        "complexities = [32, 64, 128, 256, 512]\n",
        "\n",
        "train_errors = []\n",
        "val_errors = []\n",
        "\n",
        "# Iterate over different model complexities\n",
        "for complexity in complexities:\n",
        "    # Build the model with the current complexity\n",
        "    model = tf.keras.Sequential([\n",
        "        tf.keras.layers.Dense(complexity, activation='relu', input_shape=(X_train_std.shape[1],)),\n",
        "        tf.keras.layers.Dropout(0.5),\n",
        "        tf.keras.layers.Dense(complexity // 2, activation='relu'),\n",
        "        tf.keras.layers.Dropout(0.5),\n",
        "        tf.keras.layers.Dense(1)  # Output layer for regression\n",
        "    ])\n",
        "\n",
        "    # Compile the model\n",
        "    model.compile(optimizer='adam', loss='mean_squared_error')\n",
        "\n",
        "    # Train the model\n",
        "    history = model.fit(X_train_std, y_train, epochs=5, validation_split=0.2, verbose=0)\n",
        "\n",
        "    # Get training and validation MSE\n",
        "    train_mse = history.history['loss']\n",
        "    val_mse = history.history['val_loss']\n",
        "\n",
        "    # Calculate mean training and validation MSE\n",
        "    mean_train_mse = np.mean(train_mse)\n",
        "    mean_val_mse = np.mean(val_mse)\n",
        "\n",
        "    # Append mean training and validation MSE to lists\n",
        "    train_errors.append(mean_train_mse)\n",
        "    val_errors.append(mean_val_mse)\n",
        "\n",
        "\n",
        "\n",
        "# Plot the bias-variance trade-off graph\n",
        "plt.plot(complexities, train_errors, label='Training MSE')\n",
        "plt.plot(complexities, val_errors, label='Validation MSE')\n",
        "plt.xlabel('Model Complexity')\n",
        "plt.ylabel('Mean Squared Error (MSE)')\n",
        "plt.title('Bias-Variance Trade-off')\n",
        "plt.legend()\n",
        "plt.show()"
      ]
    },
    {
      "cell_type": "code",
      "execution_count": null,
      "id": "85a9ecf9",
      "metadata": {
        "id": "85a9ecf9",
        "outputId": "bf41e777-02b0-4294-fd2a-029eb58cec09"
      },
      "outputs": [
        {
          "name": "stdout",
          "output_type": "stream",
          "text": [
            "1035/1035 [==============================] - 3s 3ms/step\n",
            "Model Name: Neural Network\n",
            "\n",
            "R^2: 0.625725008435639\n",
            "MSE: 58.726179009238344\n",
            "RMSE: 7.663300790732303\n"
          ]
        }
      ],
      "source": [
        "import sklearn\n",
        "from sklearn.metrics import mean_squared_error, r2_score\n",
        "\n",
        "# Predict on test set\n",
        "y_pred = model.predict(X_test_std)\n",
        "\n",
        "# Calculate R^2\n",
        "r_squared = sklearn.metrics.r2_score(y_test, y_pred)\n",
        "\n",
        "# Calculate MSE\n",
        "mse = sklearn.metrics.mean_squared_error(y_test, y_pred)\n",
        "\n",
        "# Calculate RMSE\n",
        "rmse = np.sqrt(mse)\n",
        "\n",
        "print(\"Model Name: Neural Network\")\n",
        "print()\n",
        "# Print the metrics\n",
        "print(\"R^2:\", r_squared)\n",
        "print(\"MSE:\", mse)\n",
        "print(\"RMSE:\", rmse)"
      ]
    },
    {
      "cell_type": "markdown",
      "id": "47fa50f1",
      "metadata": {
        "id": "47fa50f1"
      },
      "source": [
        "## Model Training"
      ]
    },
    {
      "cell_type": "code",
      "execution_count": null,
      "id": "036226b0",
      "metadata": {
        "id": "036226b0"
      },
      "outputs": [],
      "source": [
        "lr = NumpyLinearRegression(solution='analytical')"
      ]
    },
    {
      "cell_type": "code",
      "execution_count": null,
      "id": "6fca6dce",
      "metadata": {
        "colab": {
          "base_uri": "https://localhost:8080/"
        },
        "id": "6fca6dce",
        "outputId": "dbb978cd-fd1e-43bb-a98f-955cda8bfe33"
      },
      "outputs": [
        {
          "name": "stdout",
          "output_type": "stream",
          "text": [
            "Number of Observations: 132371\n",
            "Number of Features: 6\n",
            "MSE: 131.96701759559093\n",
            "RMSE: 11.487689828489927\n",
            "R2: 0.16259975987491015\n",
            "Intercept: 43.79621669398887\n",
            "Coefficients: [0.217526 -3.924328 -0.146677 -0.839706 -1.669619 -0.915603]\n"
          ]
        }
      ],
      "source": [
        "lr.fit(X_train_std, y_train)"
      ]
    },
    {
      "cell_type": "code",
      "execution_count": null,
      "id": "5471d07a",
      "metadata": {
        "id": "5471d07a"
      },
      "outputs": [],
      "source": [
        "lr = NumpyLinearRegression(solution='iterative', epochs=500, learning_rate=1e-5)"
      ]
    },
    {
      "cell_type": "code",
      "execution_count": null,
      "id": "01f51969",
      "metadata": {
        "colab": {
          "base_uri": "https://localhost:8080/"
        },
        "id": "01f51969",
        "outputId": "b318ca67-c12a-41c2-ed47-84f3c9c44329"
      },
      "outputs": [
        {
          "name": "stderr",
          "output_type": "stream",
          "text": [
            " 49%|\u001b[34m████▊     \u001b[0m| 243/500 [00:02<00:02, 113.64it/s]"
          ]
        },
        {
          "name": "stdout",
          "output_type": "stream",
          "text": [
            "\n",
            "Model Stopped Learning\n",
            "Number of Observations: 132371\n",
            "Number of Features: 6\n",
            "MSE: 131.9670176213783\n",
            "RMSE: 11.487689829612318\n",
            "R2: 0.16259975971127572\n",
            "Intercept: 43.79621669398886\n",
            "Coefficients: [0.217529 -3.924242 -0.146634 -0.839687 -1.669556 -0.915541]\n"
          ]
        },
        {
          "name": "stderr",
          "output_type": "stream",
          "text": [
            "\n"
          ]
        }
      ],
      "source": [
        "lr.fit(X_train_std, y_train)"
      ]
    },
    {
      "cell_type": "code",
      "execution_count": null,
      "id": "cf15add0",
      "metadata": {
        "colab": {
          "base_uri": "https://localhost:8080/"
        },
        "id": "cf15add0",
        "outputId": "6177b2e7-4f30-4fa0-9f5c-3a5b177a8212"
      },
      "outputs": [
        {
          "name": "stdout",
          "output_type": "stream",
          "text": [
            "Number of Observations: 132371\n",
            "Number of Features: 6\n",
            "Lambda parameter: 10\n",
            "MSE: 131.9670286411003\n",
            "RMSE: 11.487690309244078\n",
            "R2: 0.1625996897853349\n",
            "Intercept: 43.79290834787469\n",
            "Coefficients: [0.217503 -3.924021 -0.146747 -0.839649 -1.669553 -0.915636]\n"
          ]
        }
      ],
      "source": [
        "ridge_lr = NumpyRidgeRegression(solution='analytical', lambda_value=10)\n",
        "ridge_lr.fit(X_train_std, y_train)"
      ]
    },
    {
      "cell_type": "code",
      "execution_count": null,
      "id": "a111934a",
      "metadata": {
        "colab": {
          "base_uri": "https://localhost:8080/"
        },
        "id": "a111934a",
        "outputId": "8cf32199-7652-4d6b-f985-1954c08cc903"
      },
      "outputs": [
        {
          "name": "stderr",
          "output_type": "stream",
          "text": [
            " 67%|\u001b[34m██████▋   \u001b[0m| 333/500 [00:03<00:01, 105.89it/s]"
          ]
        },
        {
          "name": "stdout",
          "output_type": "stream",
          "text": [
            "\n",
            "Model stopped training\n",
            "Number of Observations: 132371\n",
            "Number of Features: 6\n",
            "Lambda parameter: 10\n",
            "MSE: 131.96702864480446\n",
            "RMSE: 11.4876903094053\n",
            "R2: 0.16259968976183015\n",
            "Intercept: 43.7929083478747\n",
            "Coefficients: [0.217503 -3.924017 -0.146745 -0.839648 -1.669550 -0.915633]\n"
          ]
        },
        {
          "name": "stderr",
          "output_type": "stream",
          "text": [
            "\n"
          ]
        }
      ],
      "source": [
        "ridge_lr = NumpyRidgeRegression(solution='iterative', lambda_value=10, epochs=500, learning_rate=1e-5)\n",
        "ridge_lr.fit(X_train_std, y_train)"
      ]
    },
    {
      "cell_type": "code",
      "execution_count": null,
      "id": "7d50371b",
      "metadata": {
        "colab": {
          "base_uri": "https://localhost:8080/"
        },
        "id": "7d50371b",
        "outputId": "d5d73389-acc7-4217-b5d9-0eaad1861bcf"
      },
      "outputs": [
        {
          "name": "stderr",
          "output_type": "stream",
          "text": [
            " 32%|\u001b[34m███▏      \u001b[0m| 161/500 [00:01<00:03, 90.88it/s]"
          ]
        },
        {
          "name": "stdout",
          "output_type": "stream",
          "text": [
            "\n",
            "Model stopped training\n",
            "Number of Observations: 132371\n",
            "Number of Features: 6\n",
            "Lambda parameter: 10\n",
            "MSE: 131.9670574607431\n",
            "RMSE: 11.487691563614645\n",
            "R2: 0.16259950690952074\n",
            "Intercept: 43.79614114874104\n",
            "Coefficients: [0.217552 -3.920982 -0.144957 -0.838899 -1.667149 -0.913152]\n"
          ]
        },
        {
          "name": "stderr",
          "output_type": "stream",
          "text": [
            "\n"
          ]
        }
      ],
      "source": [
        "lasso_lr = NumpyLassoRegression(solution='iterative', lambda_value=10, epochs=500, learning_rate=1e-5)\n",
        "lasso_lr.fit(X_train_std, y_train)"
      ]
    },
    {
      "cell_type": "code",
      "execution_count": null,
      "id": "d9555b1d",
      "metadata": {
        "colab": {
          "base_uri": "https://localhost:8080/"
        },
        "id": "d9555b1d",
        "outputId": "b93180e6-4f19-4040-a690-1bc3156412b2"
      },
      "outputs": [
        {
          "name": "stdout",
          "output_type": "stream",
          "text": [
            "Intercept: 43.79621669398887\n",
            "Coefficients: [0.217526 -3.924328 -0.146677 -0.839706 -1.669619 -0.915603]\n",
            "R2 score: 0.16259975987491015\n"
          ]
        }
      ],
      "source": [
        "lr_sk = LinearRegression()\n",
        "lr_sk.fit(X_train_std, y_train)\n",
        "print(f'Intercept: {lr_sk.intercept_}\\nCoefficients: {lr_sk.coef_}\\nR2 score: {lr_sk.score(X_train_std, y_train)}')"
      ]
    },
    {
      "cell_type": "code",
      "execution_count": null,
      "id": "831ee243",
      "metadata": {
        "colab": {
          "base_uri": "https://localhost:8080/"
        },
        "id": "831ee243",
        "outputId": "371857f3-d287-4dbd-8c2a-009ca0518f75"
      },
      "outputs": [
        {
          "name": "stdout",
          "output_type": "stream",
          "text": [
            "Intercept: 43.79621669398887\n",
            "Coefficients: [0.217503 -3.924021 -0.146747 -0.839649 -1.669553 -0.915636]\n",
            "R2 score: 0.16259975923810233\n"
          ]
        }
      ],
      "source": [
        "ridge_sk = Ridge(alpha=10)\n",
        "ridge_sk.fit(X_train_std, y_train)\n",
        "print(f'Intercept: {ridge_sk.intercept_}\\nCoefficients: {ridge_sk.coef_}\\nR2 score: {ridge_sk.score(X_train_std, y_train)}')"
      ]
    },
    {
      "cell_type": "code",
      "execution_count": null,
      "id": "d4c189d9",
      "metadata": {
        "colab": {
          "base_uri": "https://localhost:8080/"
        },
        "id": "d4c189d9",
        "outputId": "80020149-5bad-4031-b4dd-6feafd7a2ffb"
      },
      "outputs": [
        {
          "name": "stdout",
          "output_type": "stream",
          "text": [
            "Intercept: 43.79621669398887\n",
            "Coefficients: [0.000000 -0.000000 -0.000000 -0.000000 -0.000000 -0.000000]\n",
            "R2 score: 0.0\n"
          ]
        }
      ],
      "source": [
        "lasso_sk = Lasso(alpha=10)\n",
        "lasso_sk.fit(X_train_std, y_train)\n",
        "print(f'Intercept: {lasso_sk.intercept_}\\nCoefficients: {lasso_sk.coef_}\\nR2 score: {lasso_sk.score(X_train_std, y_train)}')"
      ]
    },
    {
      "cell_type": "code",
      "execution_count": null,
      "id": "86bde6d0",
      "metadata": {
        "id": "86bde6d0"
      },
      "outputs": [],
      "source": [
        "# # Train the model\n",
        "# history = model.fit(X_train_std, y_train, epochs=5, validation_split=0.2, verbose=0)\n",
        "\n",
        "# # Get training and validation MSE\n",
        "# train_mse = history.history['loss']\n",
        "# val_mse = history.history['val_loss']\n",
        "\n",
        "# # Calculate mean training and validation MSE\n",
        "# mean_train_mse = np.mean(train_mse)\n",
        "# mean_val_mse = np.mean(val_mse)\n",
        "\n",
        "# # Append mean training and validation MSE to lists\n",
        "# train_errors.append(mean_train_mse)\n",
        "# val_errors.append(mean_val_mse)"
      ]
    },
    {
      "cell_type": "code",
      "execution_count": null,
      "id": "b198719e",
      "metadata": {
        "id": "b198719e"
      },
      "outputs": [],
      "source": [
        "y_preds_lr = lr.predict(X_test_std, add_bias=True)\n",
        "y_preds_rlr = ridge_lr.predict(X_test_std, add_bias=True)\n",
        "y_preds_llr = lasso_lr.predict(X_test_std, add_bias=True)\n",
        "y_preds_lr_sk = lr_sk.predict(X_test_std)\n",
        "y_preds_rlr_sk = ridge_sk.predict(X_test_std)\n",
        "y_preds_llr_sk = lasso_sk.predict(X_test_std)"
      ]
    },
    {
      "cell_type": "markdown",
      "id": "545aa08a",
      "metadata": {
        "id": "545aa08a"
      },
      "source": [
        "### bias-variance trade-off graph"
      ]
    },
    {
      "cell_type": "code",
      "execution_count": null,
      "id": "0c4dae8e",
      "metadata": {
        "id": "0c4dae8e"
      },
      "outputs": [],
      "source": [
        "# plt.plot(complexities, train_errors, label='Training MSE')\n",
        "# plt.plot(complexities, val_errors, label='Validation MSE')\n",
        "# plt.xlabel('Model Complexity')\n",
        "# plt.ylabel('Mean Squared Error (MSE)')\n",
        "# plt.title('Bias-Variance Trade-off')\n",
        "# plt.legend()\n",
        "# plt.show()"
      ]
    },
    {
      "cell_type": "markdown",
      "id": "c6b81b3c",
      "metadata": {
        "id": "c6b81b3c"
      },
      "source": [
        "## Model Evaluation"
      ]
    },
    {
      "cell_type": "code",
      "execution_count": null,
      "id": "746a7122",
      "metadata": {
        "id": "746a7122"
      },
      "outputs": [],
      "source": [
        "@dataclass\n",
        "class RegressionEvaluation:\n",
        "  y_true: np.array\n",
        "  y_predictions: np.array\n",
        "  model_name: str\n",
        "\n",
        "  def _get_residuals(self) -> None:\n",
        "    self._residuals = self.y_true - self.y_predictions\n",
        "\n",
        "  def _get_sse(self) -> None:\n",
        "    self._sse = np.sum(self._residuals ** 2)\n",
        "\n",
        "  def _get_mse(self) -> None:\n",
        "    self._mse = self._sse / self._num_samples\n",
        "\n",
        "  def _get_rmse(self) -> None:\n",
        "    self._rmse = np.sqrt(self._mse)\n",
        "\n",
        "  def _get_r2(self) -> None:\n",
        "    y_bar = np.mean(self.y_true)\n",
        "    SST = np.sum((self.y_true - y_bar)**2)\n",
        "    SSE = self._sse\n",
        "    self._r2 = 1 - (SSE / SST)\n",
        "\n",
        "  def results(self) -> str:\n",
        "    self._num_samples = len(self.y_true)\n",
        "    self._get_residuals()\n",
        "    self._get_sse()\n",
        "    self._get_mse()\n",
        "    self._get_rmse()\n",
        "    self._get_r2()\n",
        "\n",
        "    return f'''Model Name: {self.model_name}\\n\\nMSE: {self._mse}\\nRMSE: {self._rmse}\\nR2: {self._r2}\\n\\n'''"
      ]
    },
    {
      "cell_type": "code",
      "execution_count": null,
      "id": "1911e11b",
      "metadata": {
        "colab": {
          "base_uri": "https://localhost:8080/"
        },
        "id": "1911e11b",
        "outputId": "e331bd17-ece3-41d4-80af-c61d05d149e0"
      },
      "outputs": [
        {
          "name": "stdout",
          "output_type": "stream",
          "text": [
            "Model Name: Numpy Linear Regression\n",
            "\n",
            "MSE: 131.91170707712502\n",
            "RMSE: 11.485282194057097\n",
            "R2: 0.1592973715220819\n",
            "\n",
            "\n",
            "Model Name: Numpy Ridge Linear Regression\n",
            "\n",
            "MSE: 131.91173516325813\n",
            "RMSE: 11.48528341675808\n",
            "R2: 0.15929719252291286\n",
            "\n",
            "\n",
            "Model Name: Numpy Lasso Linear Regression\n",
            "\n",
            "MSE: 131.91073673662498\n",
            "RMSE: 11.485239951199322\n",
            "R2: 0.15930355571776078\n",
            "\n",
            "\n",
            "Model Name: Sk Linear Regression\n",
            "\n",
            "MSE: 131.9117339449506\n",
            "RMSE: 11.485283363720313\n",
            "R2: 0.15929720028745742\n",
            "\n",
            "\n",
            "Model Name: Sk Ridge Linear Regression\n",
            "\n",
            "MSE: 131.91172551027532\n",
            "RMSE: 11.485282996525394\n",
            "R2: 0.1592972540435179\n",
            "\n",
            "\n",
            "Model Name: Sk Lasso Linear Regression\n",
            "\n",
            "MSE: 156.9074816848581\n",
            "RMSE: 12.526271659390838\n",
            "R2: -6.255723652648371e-06\n",
            "\n",
            "\n"
          ]
        }
      ],
      "source": [
        "print(RegressionEvaluation(y_test, y_preds_lr, 'Numpy Linear Regression').results())\n",
        "print(RegressionEvaluation(y_test, y_preds_rlr, 'Numpy Ridge Linear Regression').results())\n",
        "print(RegressionEvaluation(y_test, y_preds_llr, 'Numpy Lasso Linear Regression').results())\n",
        "print(RegressionEvaluation(y_test, y_preds_lr_sk, 'Sk Linear Regression').results())\n",
        "print(RegressionEvaluation(y_test, y_preds_rlr_sk, 'Sk Ridge Linear Regression').results())\n",
        "print(RegressionEvaluation(y_test, y_preds_llr_sk, 'Sk Lasso Linear Regression').results())"
      ]
    },
    {
      "cell_type": "code",
      "execution_count": null,
      "id": "0c05cee5",
      "metadata": {
        "id": "0c05cee5",
        "outputId": "ee79d408-f7d2-4b48-8b0e-18b2c2d2870d"
      },
      "outputs": [
        {
          "data": {
            "text/plain": [
              "['neural_network_regressor_model.joblib']"
            ]
          },
          "execution_count": 280,
          "metadata": {},
          "output_type": "execute_result"
        }
      ],
      "source": [
        "from joblib import dump\n",
        "\n",
        "# best_regressor is your trained regressor\n",
        "dump(model, 'neural_network_regressor_model.joblib')"
      ]
    },
    {
      "cell_type": "markdown",
      "id": "87441768",
      "metadata": {
        "id": "87441768"
      },
      "source": [
        "   # Classification #########"
      ]
    },
    {
      "cell_type": "markdown",
      "id": "b397f51f",
      "metadata": {
        "id": "b397f51f"
      },
      "source": [
        "### Get the Data"
      ]
    },
    {
      "cell_type": "markdown",
      "id": "c57175f4",
      "metadata": {
        "id": "c57175f4"
      },
      "source": [
        "### Import Packages"
      ]
    },
    {
      "cell_type": "code",
      "execution_count": null,
      "id": "9a06caa1",
      "metadata": {
        "id": "9a06caa1"
      },
      "outputs": [],
      "source": [
        "import re\n",
        "import tqdm\n",
        "import numpy as np\n",
        "import pandas as pd\n",
        "import matplotlib.pyplot as plt\n",
        "from typing import Union\n",
        "from scipy import stats\n",
        "import seaborn as sns\n",
        "from collections import Counter\n",
        "from dataclasses import dataclass\n",
        "from sklearn.neighbors import KNeighborsClassifier\n",
        "from sklearn.model_selection import train_test_split\n",
        "from sklearn.metrics import classification_report, f1_score\n",
        "from sklearn.metrics.pairwise import euclidean_distances\n",
        "from scipy.stats import multivariate_normal\n",
        "\n",
        "np.set_printoptions(formatter={'float_kind':'{:f}'.format})"
      ]
    },
    {
      "cell_type": "markdown",
      "id": "9f205f4a",
      "metadata": {
        "id": "9f205f4a"
      },
      "source": [
        "### Data Preparation & Split"
      ]
    },
    {
      "cell_type": "code",
      "execution_count": null,
      "id": "0d2df7bf",
      "metadata": {
        "id": "0d2df7bf"
      },
      "outputs": [],
      "source": [
        "classification_data.drop([\n",
        "    'year', 'session-id', 'day', 'order', 'country',\n",
        "    'page-no', 'price-higher-than-category'\n",
        "], axis=1, inplace=True)"
      ]
    },
    {
      "cell_type": "code",
      "execution_count": null,
      "id": "0c38de0b",
      "metadata": {
        "colab": {
          "base_uri": "https://localhost:8080/"
        },
        "id": "0c38de0b",
        "outputId": "d3855a9c-25ee-46cf-c059-382a5e6157d2"
      },
      "outputs": [
        {
          "name": "stdout",
          "output_type": "stream",
          "text": [
            "<class 'pandas.core.frame.DataFrame'>\n",
            "RangeIndex: 165464 entries, 0 to 165463\n",
            "Data columns (total 7 columns):\n",
            " #   Column             Non-Null Count   Dtype\n",
            "---  ------             --------------   -----\n",
            " 0   month              165464 non-null  int64\n",
            " 1   category           165464 non-null  int64\n",
            " 2   colour             165464 non-null  int64\n",
            " 3   location           165464 non-null  int64\n",
            " 4   model-photography  165464 non-null  int64\n",
            " 5   product-code-en    165464 non-null  int32\n",
            " 6   price-category_en  165464 non-null  int32\n",
            "dtypes: int32(2), int64(5)\n",
            "memory usage: 7.6 MB\n"
          ]
        }
      ],
      "source": [
        "classification_data.info()"
      ]
    },
    {
      "cell_type": "code",
      "execution_count": null,
      "id": "000b1a19",
      "metadata": {
        "colab": {
          "base_uri": "https://localhost:8080/"
        },
        "id": "000b1a19",
        "outputId": "a5cd310e-18ac-4833-808e-4d8db3a30387"
      },
      "outputs": [
        {
          "name": "stdout",
          "output_type": "stream",
          "text": [
            "Train samples: 132371 & Test samples: 33093\n"
          ]
        }
      ],
      "source": [
        "train, test = train_test_split(classification_data, test_size=0.2, stratify=classification_data['price-category_en'])\n",
        "train.reset_index(drop=True, inplace=True)\n",
        "test.reset_index(drop=True, inplace=True)\n",
        "\n",
        "X_train, y_train =  train.drop(['price-category_en'], axis=1), train['price-category_en']\n",
        "X_test, y_test = test.drop(['price-category_en'], axis=1), test['price-category_en']\n",
        "print(f'Train samples: {len(train)} & Test samples: {len(test)}')"
      ]
    },
    {
      "cell_type": "code",
      "execution_count": null,
      "id": "5da89347",
      "metadata": {
        "id": "5da89347"
      },
      "outputs": [],
      "source": [
        "# unique_data = classification_data.drop_duplicates()"
      ]
    },
    {
      "cell_type": "markdown",
      "id": "1d9de7e9",
      "metadata": {
        "id": "1d9de7e9"
      },
      "source": [
        "## Data Preprocessing"
      ]
    },
    {
      "cell_type": "code",
      "execution_count": null,
      "id": "9cc79e18",
      "metadata": {
        "id": "9cc79e18"
      },
      "outputs": [],
      "source": [
        "class StandardScalar:\n",
        "  def fit(self, X: np.array) -> None:\n",
        "    self._mean = np.mean(X, axis=0)\n",
        "    self._std = np.std(X, axis=0)\n",
        "\n",
        "  def transform(self, X: np.array) -> np.array:\n",
        "    return (X - self._mean) / self._std\n",
        "\n",
        "  def fit_transform(self, X: np.array) -> np.array:\n",
        "    self.fit(X)\n",
        "    return self.trasform(X)"
      ]
    },
    {
      "cell_type": "code",
      "execution_count": null,
      "id": "dd0ccd32",
      "metadata": {
        "id": "dd0ccd32"
      },
      "outputs": [],
      "source": [
        "std_scalar = StandardScalar()"
      ]
    },
    {
      "cell_type": "code",
      "execution_count": null,
      "id": "750860be",
      "metadata": {
        "id": "750860be"
      },
      "outputs": [],
      "source": [
        "std_scalar.fit(X_train)\n",
        "X_train_std = std_scalar.transform(X_train)\n",
        "X_test_std = std_scalar.transform(X_test)"
      ]
    },
    {
      "cell_type": "code",
      "execution_count": null,
      "id": "4d89f71f",
      "metadata": {
        "colab": {
          "base_uri": "https://localhost:8080/"
        },
        "id": "4d89f71f",
        "outputId": "e3be360f-6988-4b3a-f546-6bb2c2b27e3d"
      },
      "outputs": [
        {
          "name": "stdout",
          "output_type": "stream",
          "text": [
            "Column means: Train - [-0.000000 0.000000 0.000000 -0.000000 0.000000 0.000000] & Test - [-0.004000 -0.003000 -0.008000 -0.020000 -0.000000 -0.001000]\n",
            "Column standard deviations: Train - [1.000000 1.000000 1.000000 1.000000 1.000000 1.000000] & Test - [1.003646 1.000088 0.994553 0.991310 0.999932 0.997188]\n"
          ]
        }
      ],
      "source": [
        "print(f'Column means: Train - {np.round(np.mean(X_train_std, axis=0).values, 3)} & Test - {np.round(np.mean(X_test_std, axis=0), 3).values}')\n",
        "print(f'Column standard deviations: Train - {np.std(X_train_std, axis=0).values} & Test - {np.std(X_test_std, axis=0).values}')"
      ]
    },
    {
      "cell_type": "code",
      "execution_count": null,
      "id": "f7d5eb18",
      "metadata": {
        "id": "f7d5eb18"
      },
      "outputs": [],
      "source": [
        "assert len(X_train_std) == len(y_train), 'Samples in X train & y train don`t match'\n",
        "assert len(X_test_std) == len(y_test), 'Samples in X test & y test don`t match'"
      ]
    },
    {
      "cell_type": "code",
      "execution_count": null,
      "id": "cb3ba978",
      "metadata": {
        "id": "cb3ba978"
      },
      "outputs": [],
      "source": [
        "class OneHotEncoding:\n",
        "\n",
        "  def fit(self, y: np.array) -> None:\n",
        "    self.unique_classes = np.sort(np.unique(y))\n",
        "    self.num_samples = len(y)\n",
        "\n",
        "  def transform(self, y: np.array) -> np.array:\n",
        "\n",
        "    onehots = np.zeros((self.num_samples, len(self.unique_classes)), dtype=int)\n",
        "    for c in self.unique_classes:\n",
        "      idx = np.where(y == c)\n",
        "      onehots[:, c][idx] = 1\n",
        "    return onehots\n",
        "\n",
        "  def fit_transform(self, y: np.array) -> np.array:\n",
        "    self.fit(y)\n",
        "    return self.transform(y)"
      ]
    },
    {
      "cell_type": "code",
      "execution_count": null,
      "id": "9ae4359b",
      "metadata": {
        "id": "9ae4359b"
      },
      "outputs": [],
      "source": [
        "onehot = OneHotEncoding()\n",
        "onehot.fit(y_train)"
      ]
    },
    {
      "cell_type": "code",
      "execution_count": null,
      "id": "50508e0e",
      "metadata": {
        "id": "50508e0e"
      },
      "outputs": [],
      "source": [
        "y_train_onehot = onehot.transform(y_train)\n",
        "y_test_onehot = onehot.transform(y_test)"
      ]
    },
    {
      "cell_type": "markdown",
      "id": "1d5a32c9",
      "metadata": {
        "id": "1d5a32c9"
      },
      "source": [
        "### Model Building"
      ]
    },
    {
      "cell_type": "code",
      "execution_count": null,
      "id": "5ac7817c",
      "metadata": {
        "id": "5ac7817c"
      },
      "outputs": [],
      "source": [
        "class NotAnNumpyArrayException(Exception):\n",
        "  def __str__(self) -> str:\n",
        "    return '''\n",
        "      Provided variable is not an Numpy Array. Please only provide numpy arrays as variables\n",
        "    '''\n",
        "\n",
        "class SolutionNotImplemented(Exception):\n",
        "    def __str__(self) -> str:\n",
        "        return '''\n",
        "      Requested solution not available. Available solutions are only `iterative` & `analytical`. Please choose correctly.\n",
        "     '''\n",
        "class UnstableSolution(Exception):\n",
        "    matrix_rank: int\n",
        "\n",
        "    def __str__(self) -> str:\n",
        "        return f'''\n",
        "      The Rank of the Matrix is: {self.matrix_rank}. It is not stable. The Matrix has to be Full Rank to compute analytical solution.\n",
        "     '''\n",
        "\n",
        "class ProvideCorrectParameters(Exception):\n",
        "    def __str__(self) -> str:\n",
        "        return '''\n",
        "      Provide solution: str, epochs: int, and learning_rate: float correctly for Iterative solution\n",
        "     '''\n",
        "\n",
        "class ParameterStoppedUpdating(Exception):\n",
        "  def __init__(self, weights: np.ndarray, epoch_no: int):\n",
        "    self.w = weights\n",
        "    self.e_no = epoch_no\n",
        "\n",
        "  def __str__(self) -> str:\n",
        "    return f'''\n",
        "      Current weight values: {self.w} at epoch: {self.e_no}\\nWeights have stopped updating. Kindly check for numerical overflow / underflow issues.\n",
        "    '''\n",
        "\n",
        "class ResponseVariableNotOneHot(Exception):\n",
        "  def __str__(self) -> str:\n",
        "    return f'''\n",
        "      y variable is not one hot encoded. Please preprocess the response variable accordingly to compute softmax scores\n",
        "    '''"
      ]
    },
    {
      "cell_type": "code",
      "execution_count": null,
      "id": "a1d34638",
      "metadata": {
        "id": "a1d34638"
      },
      "outputs": [],
      "source": [
        "@dataclass\n",
        "class NumpyBaseModel:\n",
        "  _weights = None\n",
        "\n",
        "  def _add_bias(self, X: np.array) -> np.array:\n",
        "    self.num_features = X.shape[1] + 1\n",
        "    return np.column_stack([np.ones(X.shape[0]), X])\n",
        "\n",
        "  def get_weights(self):\n",
        "    return self._weights\n",
        "\n",
        "  def _softmax(self, z):\n",
        "    return (np.exp(z.T) / np.sum(np.exp(z), axis=1)).T\n",
        "\n",
        "  def _get_cross_entropy(self, y, prob):\n",
        "    return - np.sum(y * np.log(prob), axis=1)\n",
        "\n",
        "  def predict(self, X: np.array, add_bias = False) -> np.array:\n",
        "    if add_bias:\n",
        "      X = self._add_bias(X)\n",
        "    return self._softmax(np.dot(X, self._weights))\n",
        "\n",
        "  def _get_confusion_matrix(self, y_true: np.array, y_pred: np.array) -> np.array:\n",
        "    unique_classes = np.sort(np.unique(np.concatenate((y_true, y_pred))))\n",
        "    self.unique_classes = unique_classes\n",
        "    cm = np.zeros((len(unique_classes), len(unique_classes)))\n",
        "    for c in unique_classes:\n",
        "      indices = np.argwhere(y_true == c).reshape(1, -1)\n",
        "      true_sample = y_true[indices]\n",
        "      pred_sample = y_pred[indices]\n",
        "      uniq, cnts = np.unique(pred_sample, return_counts=True)\n",
        "      counts = {item : count for item, count in zip(uniq, cnts)}\n",
        "      for class_idx in counts:\n",
        "        cm[c][class_idx] = counts[class_idx]\n",
        "    return cm\n",
        "\n",
        "  def _compute_precision(self, confusion_matrix: np.array, class_label: int):\n",
        "    # TP / TP + FP\n",
        "    tp = confusion_matrix[class_label][class_label]\n",
        "    deno = np.sum(confusion_matrix[:, class_label])\n",
        "    if deno == 0:\n",
        "      return 0\n",
        "    return tp / deno\n",
        "\n",
        "  def _compute_recall(self, confusion_matrix: np.array, class_label: int):\n",
        "    # TP / TP + FN\n",
        "    tp = confusion_matrix[class_label][class_label]\n",
        "    deno = np.sum(confusion_matrix[class_label, :])\n",
        "    if deno == 0:\n",
        "      return 0\n",
        "    return tp / deno\n",
        "\n",
        "  def _get_precision_recall_f1(self, confusion_matrix: np.array):\n",
        "    matrix = []\n",
        "    for c in self.unique_classes:\n",
        "      p = self._compute_precision(confusion_matrix, c)\n",
        "      r = self._compute_recall(confusion_matrix, c)\n",
        "      f = 0 if p + r == 0 else 2 * ((p * r) / (p + r))\n",
        "      s = np.sum(confusion_matrix[c])\n",
        "      matrix.append([p, r, f, s])\n",
        "\n",
        "    return np.matrix.round(np.array(matrix), 2).astype(float)\n",
        "\n",
        "  def _compute_classification_summary(self, X: np.array, y: np.array) -> dict:\n",
        "    y_true = np.argmax(y, axis=1)\n",
        "    y_preds = np.argmax(self.predict(X), axis=1)\n",
        "    confusion_mat = self._get_confusion_matrix(y_true, y_preds)\n",
        "    p_r_f_mat = self._get_precision_recall_f1(confusion_mat)\n",
        "    return confusion_mat, p_r_f_mat\n",
        "\n",
        "  def _get_perclass_summary(self, X: np.array, y: np.array):\n",
        "    cm, prfs_mat = self._compute_classification_summary(X, y)\n",
        "    summary = ''\n",
        "    for c in self.unique_classes:\n",
        "     class_metrics = prfs_mat[c]\n",
        "     summary += f'''Prec: {class_metrics[0]} | Recall: {class_metrics[1]} | F1: {class_metrics[2]} | Supp: {class_metrics[3]}\\n'''\n",
        "    return summary\n",
        "\n",
        "  def _summary(self, X: np.array, y: np.array) -> str:\n",
        "    return self._get_perclass_summary(X, y)"
      ]
    },
    {
      "cell_type": "markdown",
      "id": "b4b35bc1",
      "metadata": {
        "id": "b4b35bc1"
      },
      "source": [
        "## SoftMax Regression"
      ]
    },
    {
      "cell_type": "code",
      "execution_count": null,
      "id": "9eded464",
      "metadata": {
        "id": "9eded464"
      },
      "outputs": [],
      "source": [
        "@dataclass(kw_only=True)\n",
        "class NumpySoftMaxRegression(NumpyBaseModel):\n",
        "  n_classes: int\n",
        "  learning_rate: float = 1e-5\n",
        "  epsilon: float = 1e-3\n",
        "  epochs: int = 100\n",
        "\n",
        "  def _weight_init(self) -> None:\n",
        "    # weights must be n_features x n_classes shape\n",
        "    self._weights = np.random.normal(\n",
        "        loc=0,\n",
        "        scale=1,\n",
        "        size=(self.num_features, self.n_classes)\n",
        "    )\n",
        "\n",
        "  def _cost_function(self, X: np.array, y: np.array) -> np.array:\n",
        "    softmaxed = self.predict(X)\n",
        "    cost = - np.mean(self._get_cross_entropy(y, softmaxed))\n",
        "    return cost\n",
        "\n",
        "  def _cost_derivative(self, X: np.array, y: np.array) -> np.array:\n",
        "    softmaxed = self.predict(X)\n",
        "    diff = softmaxed - y\n",
        "    grad = np.dot(X.T, diff)\n",
        "    return grad\n",
        "\n",
        "  def _gradient_descent_solution(self, X: np.array, y: np.array) -> None:\n",
        "    self.errors = []\n",
        "    prev_errors = float('inf')\n",
        "    self._weight_init()\n",
        "\n",
        "    for ep_no in tqdm.tqdm(range(self.epochs), colour='blue'):\n",
        "      self._weights -= self.learning_rate * self._cost_derivative(X, y)\n",
        "\n",
        "      loss = self._cost_function(X, y)\n",
        "\n",
        "      if abs(loss - prev_errors) < self.epsilon:\n",
        "        print(f'\\nModel Stopped Learning')\n",
        "        break\n",
        "\n",
        "      self.errors.append(prev_errors)\n",
        "      prev_errors = loss\n",
        "\n",
        "  def fit(self, X: np.array, y: np.array) -> None:\n",
        "\n",
        "    if isinstance(X, np.ndarray) and isinstance(y, np.ndarray):\n",
        "      raise NotAnNumpyArrayException()\n",
        "\n",
        "    if y.shape[1] != self.n_classes:\n",
        "      raise ResponseVariableNotOneHot()\n",
        "\n",
        "    X_ = self._add_bias(X)\n",
        "\n",
        "    if not self.epochs or not self.learning_rate:\n",
        "        raise ProvideCorrectParameters()\n",
        "\n",
        "    self._gradient_descent_solution(X_, y)\n",
        "    summary = self._summary(X_, y)\n",
        "    print(summary)"
      ]
    },
    {
      "cell_type": "markdown",
      "id": "b466c278",
      "metadata": {
        "id": "b466c278"
      },
      "source": [
        "## K-Nearest Neighbours\n",
        "\n",
        "`NOTE`: Sklearn uses KDTree to do the approximate nearest neigbour search. Hence the Numpy Varient that uses pairwise euclidean distance cannot match or beat SKlearn's performance!"
      ]
    },
    {
      "cell_type": "code",
      "execution_count": null,
      "id": "e2f87fe0",
      "metadata": {
        "id": "e2f87fe0"
      },
      "outputs": [],
      "source": [
        "@dataclass\n",
        "class NumpyKNNClassifier:\n",
        "    k: int\n",
        "    _train_X: Union[None, pd.DataFrame] = None\n",
        "\n",
        "    def __str__(self) -> str:\n",
        "        return f'Number of Neighbours: {self.k}\\nFitted Samples: {len(self._train_X)}'\n",
        "    def __repr__(self) -> str:\n",
        "        return self.__str__()\n",
        "\n",
        "    def fit(self, X: pd.DataFrame, y: pd.Series) -> None:\n",
        "        self._train_X = X.values\n",
        "        self._train_y = y.values\n",
        "        self._unique_classes = np.unique(self._train_y)\n",
        "        print(f'Fit Complete')\n",
        "\n",
        "    def _get_mode(self, mat: np.array) -> np.array:\n",
        "        return stats.mode(mat, axis=1, keepdims=True).mode\n",
        "\n",
        "    def predict_proba(self, X: pd.DataFrame) -> np.array:\n",
        "        dis_mat = euclidean_distances(X.values, self._train_X)\n",
        "        # Find Top K indices of records from training data, that have smaller distance to test records\n",
        "        topk_indicies = np.argsort(dis_mat, axis=1)[:, : self.k]\n",
        "        classes = self._train_y[topk_indicies]\n",
        "        class_freq = Counter(classes.reshape(1, -1)[0])\n",
        "        return {c : class_freq.get(c)/self.k for c in class_freq}\n",
        "\n",
        "    def predict(self, X: pd.DataFrame) -> np.array:\n",
        "        dis_mat = euclidean_distances(X.values, self._train_X)\n",
        "        # Find Top K indices of records from training data, that have smaller distance to test records\n",
        "        topk_indicies = np.argsort(dis_mat, axis=1)[:, : self.k]\n",
        "        classes = self._train_y[topk_indicies]\n",
        "        # Compute majority voting using mode\n",
        "        return self._get_mode(classes).reshape(1, -1)[0]"
      ]
    },
    {
      "cell_type": "markdown",
      "id": "0d3f2957",
      "metadata": {
        "id": "0d3f2957"
      },
      "source": [
        "## Gaussian Naive Bayes"
      ]
    },
    {
      "cell_type": "code",
      "execution_count": null,
      "id": "cd0d7772",
      "metadata": {
        "id": "cd0d7772"
      },
      "outputs": [],
      "source": [
        "@dataclass\n",
        "class NumpyGuassianNaiveBayes:\n",
        "\n",
        "  def fit(self, X: np.array, y: np.array) -> None:\n",
        "\n",
        "    self.unique_classes = np.unique(y)\n",
        "    self.num_unique_classes = len(self.unique_classes)\n",
        "    self.num_features = X.shape[1]\n",
        "\n",
        "    self.class_priors = np.zeros((self.num_unique_classes))\n",
        "    self.mean_mat = np.zeros((self.num_unique_classes, self.num_features))\n",
        "    self.sigma_mat = np.zeros((self.num_unique_classes, self.num_features, self.num_features))\n",
        "\n",
        "    for c in self.unique_classes:\n",
        "      X_samples = X[np.argwhere(y == c)].reshape(-1, self.num_features)\n",
        "\n",
        "      if len(X_samples) == 0:\n",
        "        continue\n",
        "\n",
        "      self.class_priors[c] = len(X_samples)/len(X)\n",
        "      self.mean_mat[c] = np.mean(X_samples, axis=0)\n",
        "      self.sigma_mat[c] = np.cov(X_samples, rowvar=False)\n",
        "\n",
        "  def predict(self, X: np.array) -> np.array:\n",
        "\n",
        "    posterior_probs = np.zeros((len(X), self.num_unique_classes))\n",
        "    for c in self.unique_classes:\n",
        "      posterior_probs[:, c] = self.class_priors[c] * multivariate_normal.pdf(X, self.mean_mat[c], self.sigma_mat[c], allow_singular=True)\n",
        "\n",
        "    return self.unique_classes[np.argmax(posterior_probs, axis=1)]"
      ]
    },
    {
      "cell_type": "markdown",
      "id": "500f07bf",
      "metadata": {
        "id": "500f07bf"
      },
      "source": [
        "## Neural networks"
      ]
    },
    {
      "cell_type": "code",
      "execution_count": null,
      "id": "648a269e",
      "metadata": {
        "id": "648a269e",
        "outputId": "a6c5a593-9ddc-4973-ddfd-dcfedbcd8bc6"
      },
      "outputs": [
        {
          "data": {
            "image/png": "[encoded data removed]",
            "text/plain": [
              "<Figure size 640x480 with 1 Axes>"
            ]
          },
          "metadata": {},
          "output_type": "display_data"
        },
        {
          "name": "stdout",
          "output_type": "stream",
          "text": [
            "Epoch 1/5\n",
            "3310/3310 [==============================] - 19s 5ms/step - loss: 0.3833 - accuracy: 0.8317 - val_loss: 0.1669 - val_accuracy: 0.9319\n",
            "Epoch 2/5\n",
            "3310/3310 [==============================] - 19s 6ms/step - loss: 0.1871 - accuracy: 0.9156 - val_loss: 0.1019 - val_accuracy: 0.9641\n",
            "Epoch 3/5\n",
            "3310/3310 [==============================] - 20s 6ms/step - loss: 0.1379 - accuracy: 0.9360 - val_loss: 0.0820 - val_accuracy: 0.9677\n",
            "Epoch 4/5\n",
            "3310/3310 [==============================] - 20s 6ms/step - loss: 0.1138 - accuracy: 0.9475 - val_loss: 0.0677 - val_accuracy: 0.9730\n",
            "Epoch 5/5\n",
            "3310/3310 [==============================] - 20s 6ms/step - loss: 0.0987 - accuracy: 0.9547 - val_loss: 0.0523 - val_accuracy: 0.9794\n",
            "1035/1035 [==============================] - 3s 3ms/step - loss: 0.0537 - accuracy: 0.9780\n",
            "Final Model Test Loss: 0.05370577052235603, Test Accuracy: 0.9780014157295227\n"
          ]
        }
      ],
      "source": [
        "import matplotlib.pyplot as plt\n",
        "import numpy as np\n",
        "\n",
        "# Define a range of model complexities (e.g., number of neurons)\n",
        "complexities = [32, 64, 128, 256, 512]\n",
        "\n",
        "train_errors = []\n",
        "val_errors = []\n",
        "\n",
        "# Iterate over different model complexities\n",
        "for complexity in complexities:\n",
        "    # Build the model with the current complexity\n",
        "    model = tf.keras.Sequential([\n",
        "        tf.keras.layers.Dense(complexity, activation='relu', input_shape=(X_train_std.shape[1],)),\n",
        "        tf.keras.layers.Dropout(0.5),\n",
        "        tf.keras.layers.Dense(complexity // 2, activation='relu'),\n",
        "        tf.keras.layers.Dropout(0.5),\n",
        "        tf.keras.layers.Dense(4, activation='softmax')\n",
        "    ])\n",
        "\n",
        "    # Compile the model\n",
        "    model.compile(optimizer='adam',\n",
        "                  loss='sparse_categorical_crossentropy',\n",
        "                  metrics=['accuracy'])\n",
        "\n",
        "    # Train the model\n",
        "    history = model.fit(X_train_std, y_train, epochs=5, validation_split=0.2, verbose=0)\n",
        "\n",
        "    # Get training and validation accuracy\n",
        "    train_accuracy = history.history['accuracy']\n",
        "    val_accuracy = history.history['val_accuracy']\n",
        "\n",
        "    # Calculate mean training and validation accuracy\n",
        "    mean_train_accuracy = np.mean(train_accuracy)\n",
        "    mean_val_accuracy = np.mean(val_accuracy)\n",
        "\n",
        "    # Append mean training and validation accuracy to lists\n",
        "    train_errors.append(1 - mean_train_accuracy)  # Error = 1 - Accuracy\n",
        "    val_errors.append(1 - mean_val_accuracy)      # Error = 1 - Accuracy\n",
        "\n",
        "# Plot the bias-variance trade-off graph\n",
        "plt.plot(complexities, train_errors, label='Training Error')\n",
        "plt.plot(complexities, val_errors, label='Validation Error')\n",
        "plt.xlabel('Model Complexity')\n",
        "plt.ylabel('Error')\n",
        "plt.title('Bias-Variance Trade-off')\n",
        "plt.legend()\n",
        "plt.show()\n",
        "\n",
        "# Train the final model with the best complexity (optional)\n",
        "best_complexity = complexities[np.argmin(val_errors)]\n",
        "final_model = tf.keras.Sequential([\n",
        "    tf.keras.layers.Dense(best_complexity, activation='relu', input_shape=(X_train_std.shape[1],)),\n",
        "    tf.keras.layers.Dropout(0.5),\n",
        "    tf.keras.layers.Dense(best_complexity // 2, activation='relu'),\n",
        "    tf.keras.layers.Dropout(0.5),\n",
        "    tf.keras.layers.Dense(4, activation='softmax')\n",
        "])\n",
        "\n",
        "final_model.compile(optimizer='adam',\n",
        "                    loss='sparse_categorical_crossentropy',\n",
        "                    metrics=['accuracy'])\n",
        "\n",
        "final_history = final_model.fit(X_train_std, y_train, epochs=5, validation_split=0.2)\n",
        "\n",
        "# Evaluate the final model\n",
        "final_loss, final_accuracy = final_model.evaluate(X_test_std, y_test)\n",
        "print(f\"Final Model Test Loss: {final_loss}, Test Accuracy: {final_accuracy}\")"
      ]
    },
    {
      "cell_type": "code",
      "execution_count": null,
      "id": "674e3dfd",
      "metadata": {
        "id": "674e3dfd",
        "outputId": "2b73f75f-a8cb-4fe4-e004-e6da04d01e80"
      },
      "outputs": [
        {
          "name": "stdout",
          "output_type": "stream",
          "text": [
            "Epoch 1/50\n",
            "2896/2896 [==============================] - 22s 7ms/step - loss: 0.0932 - accuracy: 0.9569 - val_loss: 0.0561 - val_accuracy: 0.9814\n",
            "Epoch 2/50\n",
            "2896/2896 [==============================] - 23s 8ms/step - loss: 0.0851 - accuracy: 0.9605 - val_loss: 0.0545 - val_accuracy: 0.9759\n",
            "Epoch 3/50\n",
            "2896/2896 [==============================] - 23s 8ms/step - loss: 0.0808 - accuracy: 0.9622 - val_loss: 0.0511 - val_accuracy: 0.9700\n",
            "Epoch 4/50\n",
            "2896/2896 [==============================] - 24s 8ms/step - loss: 0.0770 - accuracy: 0.9651 - val_loss: 0.0438 - val_accuracy: 0.9815\n",
            "Epoch 5/50\n",
            "2896/2896 [==============================] - 21s 7ms/step - loss: 0.0726 - accuracy: 0.9666 - val_loss: 0.0427 - val_accuracy: 0.9767\n",
            "Epoch 6/50\n",
            "2896/2896 [==============================] - 19s 7ms/step - loss: 0.0709 - accuracy: 0.9675 - val_loss: 0.0444 - val_accuracy: 0.9837\n",
            "Epoch 7/50\n",
            "2896/2896 [==============================] - 19s 7ms/step - loss: 0.0683 - accuracy: 0.9694 - val_loss: 0.0390 - val_accuracy: 0.9822\n",
            "Epoch 8/50\n",
            "2896/2896 [==============================] - 19s 6ms/step - loss: 0.0632 - accuracy: 0.9725 - val_loss: 0.0335 - val_accuracy: 0.9926\n",
            "Epoch 9/50\n",
            "2896/2896 [==============================] - 21s 7ms/step - loss: 0.0635 - accuracy: 0.9732 - val_loss: 0.0361 - val_accuracy: 0.9888\n",
            "Epoch 10/50\n",
            "2896/2896 [==============================] - 19s 7ms/step - loss: 0.0609 - accuracy: 0.9751 - val_loss: 0.0270 - val_accuracy: 0.9891\n",
            "Epoch 11/50\n",
            "2896/2896 [==============================] - 18s 6ms/step - loss: 0.0564 - accuracy: 0.9772 - val_loss: 0.0220 - val_accuracy: 0.9926\n",
            "Epoch 12/50\n",
            "2896/2896 [==============================] - 18s 6ms/step - loss: 0.0532 - accuracy: 0.9791 - val_loss: 0.0254 - val_accuracy: 0.9832\n",
            "Epoch 13/50\n",
            "2896/2896 [==============================] - 19s 7ms/step - loss: 0.0527 - accuracy: 0.9784 - val_loss: 0.0151 - val_accuracy: 0.9981\n",
            "Epoch 14/50\n",
            "2896/2896 [==============================] - 18s 6ms/step - loss: 0.0508 - accuracy: 0.9808 - val_loss: 0.0226 - val_accuracy: 0.9929\n",
            "Epoch 15/50\n",
            "2896/2896 [==============================] - 17s 6ms/step - loss: 0.0491 - accuracy: 0.9815 - val_loss: 0.0128 - val_accuracy: 0.9981\n",
            "Epoch 16/50\n",
            "2896/2896 [==============================] - 18s 6ms/step - loss: 0.0488 - accuracy: 0.9824 - val_loss: 0.0140 - val_accuracy: 0.9979\n",
            "Epoch 17/50\n",
            "2896/2896 [==============================] - 18s 6ms/step - loss: 0.0441 - accuracy: 0.9836 - val_loss: 0.0157 - val_accuracy: 0.9996\n",
            "Epoch 18/50\n",
            "2896/2896 [==============================] - 18s 6ms/step - loss: 0.0442 - accuracy: 0.9839 - val_loss: 0.0113 - val_accuracy: 0.9962\n",
            "Epoch 19/50\n",
            "2896/2896 [==============================] - 19s 7ms/step - loss: 0.0432 - accuracy: 0.9841 - val_loss: 0.0100 - val_accuracy: 0.9981\n",
            "Epoch 20/50\n",
            "2896/2896 [==============================] - 18s 6ms/step - loss: 0.0417 - accuracy: 0.9846 - val_loss: 0.0088 - val_accuracy: 0.9986\n",
            "Epoch 21/50\n",
            "2896/2896 [==============================] - 18s 6ms/step - loss: 0.0430 - accuracy: 0.9843 - val_loss: 0.0225 - val_accuracy: 0.9963\n",
            "Epoch 22/50\n",
            "2896/2896 [==============================] - 20s 7ms/step - loss: 0.0459 - accuracy: 0.9836 - val_loss: 0.0112 - val_accuracy: 0.9970\n",
            "Epoch 23/50\n",
            "2896/2896 [==============================] - 19s 7ms/step - loss: 0.0457 - accuracy: 0.9842 - val_loss: 0.0199 - val_accuracy: 0.9870\n",
            "Epoch 24/50\n",
            "2896/2896 [==============================] - 18s 6ms/step - loss: 0.0474 - accuracy: 0.9823 - val_loss: 0.0153 - val_accuracy: 0.9980\n",
            "Epoch 25/50\n",
            "2896/2896 [==============================] - 18s 6ms/step - loss: 0.0477 - accuracy: 0.9819 - val_loss: 0.0165 - val_accuracy: 0.9981\n",
            "Epoch 26/50\n",
            "2896/2896 [==============================] - 18s 6ms/step - loss: 0.0524 - accuracy: 0.9790 - val_loss: 0.0243 - val_accuracy: 0.9916\n",
            "Epoch 27/50\n",
            "2896/2896 [==============================] - 18s 6ms/step - loss: 0.0500 - accuracy: 0.9804 - val_loss: 0.0204 - val_accuracy: 0.9980\n",
            "Epoch 28/50\n",
            "2896/2896 [==============================] - 18s 6ms/step - loss: 0.0519 - accuracy: 0.9797 - val_loss: 0.0261 - val_accuracy: 0.9928\n",
            "Epoch 29/50\n",
            "2896/2896 [==============================] - 18s 6ms/step - loss: 0.0538 - accuracy: 0.9790 - val_loss: 0.0181 - val_accuracy: 1.0000\n",
            "Epoch 30/50\n",
            "2896/2896 [==============================] - 17s 6ms/step - loss: 0.0506 - accuracy: 0.9806 - val_loss: 0.0185 - val_accuracy: 0.9940\n",
            "Epoch 31/50\n",
            "2896/2896 [==============================] - 18s 6ms/step - loss: 0.0543 - accuracy: 0.9786 - val_loss: 0.0232 - val_accuracy: 0.9995\n",
            "Epoch 32/50\n",
            "2896/2896 [==============================] - 18s 6ms/step - loss: 0.0516 - accuracy: 0.9795 - val_loss: 0.0190 - val_accuracy: 0.9959\n",
            "Epoch 33/50\n",
            "2896/2896 [==============================] - 20s 7ms/step - loss: 0.0513 - accuracy: 0.9792 - val_loss: 0.0196 - val_accuracy: 0.9932\n",
            "Epoch 34/50\n",
            "2896/2896 [==============================] - 18s 6ms/step - loss: 0.0499 - accuracy: 0.9805 - val_loss: 0.0145 - val_accuracy: 0.9985\n",
            "Epoch 35/50\n",
            "2896/2896 [==============================] - 19s 6ms/step - loss: 0.0455 - accuracy: 0.9830 - val_loss: 0.0180 - val_accuracy: 0.9905\n",
            "Epoch 36/50\n",
            "2896/2896 [==============================] - 18s 6ms/step - loss: 0.0435 - accuracy: 0.9833 - val_loss: 0.0177 - val_accuracy: 0.9972\n",
            "Epoch 37/50\n",
            "2896/2896 [==============================] - 20s 7ms/step - loss: 0.0429 - accuracy: 0.9835 - val_loss: 0.0116 - val_accuracy: 0.9980\n",
            "Epoch 38/50\n",
            "2896/2896 [==============================] - 18s 6ms/step - loss: 0.0454 - accuracy: 0.9821 - val_loss: 0.0153 - val_accuracy: 0.9981\n",
            "Epoch 39/50\n",
            "2896/2896 [==============================] - 19s 7ms/step - loss: 0.0442 - accuracy: 0.9834 - val_loss: 0.0119 - val_accuracy: 0.9981\n",
            "Epoch 40/50\n",
            "2896/2896 [==============================] - 18s 6ms/step - loss: 0.0500 - accuracy: 0.9807 - val_loss: 0.0266 - val_accuracy: 0.9920\n",
            "Epoch 41/50\n",
            "2896/2896 [==============================] - 17s 6ms/step - loss: 0.0442 - accuracy: 0.9830 - val_loss: 0.0176 - val_accuracy: 0.9996\n",
            "Epoch 42/50\n",
            "2896/2896 [==============================] - 18s 6ms/step - loss: 0.0436 - accuracy: 0.9829 - val_loss: 0.0119 - val_accuracy: 0.9996\n",
            "Epoch 43/50\n",
            "2896/2896 [==============================] - 17s 6ms/step - loss: 0.0472 - accuracy: 0.9820 - val_loss: 0.0168 - val_accuracy: 0.9958\n",
            "Epoch 44/50\n",
            "2896/2896 [==============================] - 17s 6ms/step - loss: 0.0461 - accuracy: 0.9822 - val_loss: 0.0126 - val_accuracy: 0.9996\n",
            "Epoch 45/50\n",
            "2896/2896 [==============================] - 17s 6ms/step - loss: 0.0495 - accuracy: 0.9809 - val_loss: 0.0175 - val_accuracy: 0.9946\n",
            "Epoch 46/50\n",
            "2896/2896 [==============================] - 17s 6ms/step - loss: 0.0517 - accuracy: 0.9784 - val_loss: 0.0247 - val_accuracy: 0.9914\n",
            "Epoch 47/50\n",
            "2896/2896 [==============================] - 19s 7ms/step - loss: 0.0539 - accuracy: 0.9774 - val_loss: 0.0242 - val_accuracy: 0.9903\n",
            "Epoch 48/50\n",
            "2896/2896 [==============================] - 18s 6ms/step - loss: 0.0451 - accuracy: 0.9827 - val_loss: 0.0116 - val_accuracy: 0.9996\n",
            "Epoch 49/50\n",
            "2896/2896 [==============================] - 18s 6ms/step - loss: 0.0443 - accuracy: 0.9826 - val_loss: 0.0095 - val_accuracy: 0.9985\n",
            "Epoch 50/50\n",
            "2896/2896 [==============================] - 19s 7ms/step - loss: 0.0431 - accuracy: 0.9838 - val_loss: 0.0101 - val_accuracy: 0.9996\n"
          ]
        },
        {
          "data": {
            "image/png": "[encoded data removed]",
            "text/plain": [
              "<Figure size 640x480 with 1 Axes>"
            ]
          },
          "metadata": {},
          "output_type": "display_data"
        }
      ],
      "source": [
        "import matplotlib.pyplot as plt\n",
        "\n",
        "# Train the model\n",
        "history = model.fit(X_train_std, y_train, epochs=50, validation_split=0.3)\n",
        "\n",
        "# Get training and validation loss from history\n",
        "train_loss = history.history['loss']\n",
        "val_loss = history.history['val_loss']\n",
        "\n",
        "# Plot training and validation loss over epochs\n",
        "plt.plot(range(1, len(train_loss) + 1), train_loss, label='Training Loss')\n",
        "plt.plot(range(1, len(val_loss) + 1), val_loss, label='Validation Loss')\n",
        "plt.xlabel('Epochs')\n",
        "plt.ylabel('Loss')\n",
        "plt.title('Training and Validation Loss')\n",
        "plt.legend()\n",
        "plt.show()\n"
      ]
    },
    {
      "cell_type": "code",
      "execution_count": null,
      "id": "613e474e",
      "metadata": {
        "id": "613e474e"
      },
      "outputs": [],
      "source": [
        "plt.show()"
      ]
    },
    {
      "cell_type": "markdown",
      "id": "487d9653",
      "metadata": {
        "id": "487d9653"
      },
      "source": [
        "### Model Training"
      ]
    },
    {
      "cell_type": "code",
      "execution_count": null,
      "id": "79eefb79",
      "metadata": {
        "colab": {
          "base_uri": "https://localhost:8080/"
        },
        "id": "79eefb79",
        "outputId": "adfe32c8-f53e-447e-da71-a226b02da703"
      },
      "outputs": [
        {
          "name": "stderr",
          "output_type": "stream",
          "text": [
            " 10%|\u001b[34m█         \u001b[0m| 21/200 [00:02<00:20,  8.75it/s]"
          ]
        },
        {
          "name": "stdout",
          "output_type": "stream",
          "text": [
            "\n",
            "Model Stopped Learning\n",
            "Prec: 0.45 | Recall: 0.09 | F1: 0.15 | Supp: 30282.0\n",
            "Prec: 0.7 | Recall: 0.96 | F1: 0.81 | Supp: 91246.0\n",
            "Prec: 0.0 | Recall: 0.0 | F1: 0.0 | Supp: 6279.0\n",
            "Prec: 0.0 | Recall: 0.0 | F1: 0.0 | Supp: 4564.0\n",
            "\n"
          ]
        },
        {
          "name": "stderr",
          "output_type": "stream",
          "text": [
            "\n"
          ]
        }
      ],
      "source": [
        "lr = NumpySoftMaxRegression(n_classes=4, learning_rate=1e-5, epsilon=1e-3, epochs=200)\n",
        "lr.fit(X_train_std, y_train_onehot)"
      ]
    },
    {
      "cell_type": "markdown",
      "id": "4457d8cf",
      "metadata": {
        "id": "4457d8cf"
      },
      "source": [
        "####  Finding Best K for KNN Classifier!\n",
        "\n",
        "##### Its being fit on X_train_std = 1Lakh+ records, it generates a pairwise distance matrix of 1Lakh+  x 1Lakh+ = memory error"
      ]
    },
    {
      "cell_type": "code",
      "execution_count": null,
      "id": "7aa666fa",
      "metadata": {
        "id": "7aa666fa"
      },
      "outputs": [],
      "source": [
        "# scores = []\n",
        "# k_values = list(range(1, 5))\n",
        "\n",
        "# for k in k_values:\n",
        "#     print(f'k: {k}')\n",
        "#     knn = NumpyKNNClassifier(k)\n",
        "#     knn.fit(X_train_std, y_train)\n",
        "#     preds = knn.predict(X_test_std)\n",
        "#     scores.append(f1_score(y_test, preds, average='weighted'))"
      ]
    },
    {
      "cell_type": "code",
      "execution_count": null,
      "id": "37d31d42",
      "metadata": {
        "id": "37d31d42",
        "scrolled": true
      },
      "outputs": [],
      "source": [
        "# plt.figure(figsize=(5, 3))\n",
        "# sns.lineplot(x=k_values, y=scores)\n",
        "# plt.axhline(y=np.median(scores), linestyle='--', label=f'Median', color='blue')\n",
        "# plt.axhline(y=np.mean(scores), linestyle='-', label='Mean', color='red')\n",
        "# k_vals = np.array(k_values)\n",
        "# plt.title(f'Score vs K value: {k_vals[np.flip(np.argsort(scores))]}')\n",
        "# plt.xlabel(f'K values')\n",
        "# plt.ylabel(f'F1 Score')\n",
        "# plt.legend()\n",
        "# plt.tight_layout()\n",
        "# plt.show()"
      ]
    },
    {
      "cell_type": "code",
      "execution_count": null,
      "id": "0ba1d32d",
      "metadata": {
        "id": "0ba1d32d"
      },
      "outputs": [],
      "source": [
        "# knn = NumpyKNNClassifier(k=3)\n",
        "# knn.fit(X_train_std, y_train)\n",
        "# preds = knn.predict(X_test_std)"
      ]
    },
    {
      "cell_type": "code",
      "execution_count": null,
      "id": "7149b8f8",
      "metadata": {
        "id": "7149b8f8"
      },
      "outputs": [],
      "source": [
        "# print(classification_report(y_test, preds))"
      ]
    },
    {
      "cell_type": "code",
      "execution_count": null,
      "id": "17caa0e6",
      "metadata": {
        "id": "17caa0e6"
      },
      "outputs": [],
      "source": [
        "gnb = NumpyGuassianNaiveBayes()\n",
        "gnb.fit(X_train.values, y_train.values)\n",
        "y_preds = gnb.predict(X_test.values)"
      ]
    },
    {
      "cell_type": "code",
      "execution_count": null,
      "id": "c04f00d4",
      "metadata": {
        "colab": {
          "base_uri": "https://localhost:8080/"
        },
        "id": "c04f00d4",
        "outputId": "2d739b66-db2d-4767-a457-f31568c41daa"
      },
      "outputs": [
        {
          "name": "stdout",
          "output_type": "stream",
          "text": [
            "              precision    recall  f1-score   support\n",
            "\n",
            "           0       0.51      0.35      0.42      7570\n",
            "           1       0.73      0.79      0.76     22812\n",
            "           2       0.20      0.25      0.22      1570\n",
            "           3       0.24      0.24      0.24      1141\n",
            "\n",
            "    accuracy                           0.65     33093\n",
            "   macro avg       0.42      0.41      0.41     33093\n",
            "weighted avg       0.64      0.65      0.64     33093\n",
            "\n"
          ]
        }
      ],
      "source": [
        "print(classification_report(y_test, y_preds))"
      ]
    },
    {
      "cell_type": "markdown",
      "id": "51fbe791",
      "metadata": {
        "id": "51fbe791"
      },
      "source": [
        "### Model Evaluation:"
      ]
    },
    {
      "cell_type": "code",
      "execution_count": null,
      "id": "0f9acfa5",
      "metadata": {
        "id": "0f9acfa5"
      },
      "outputs": [],
      "source": [
        "@dataclass\n",
        "class ClassificationEvaluation:\n",
        "  y_true: np.array\n",
        "  y_pred: np.array\n",
        "  model_name: str\n",
        "\n",
        "  def _get_confusion_matrix(self, y_true: np.array, y_pred: np.array) -> np.array:\n",
        "\n",
        "    cm = np.zeros((len(self.unique_classes), len(self.unique_classes)))\n",
        "    for c in self.unique_classes:\n",
        "      indices = np.argwhere(y_true == c).reshape(1, -1)\n",
        "      true_sample = y_true[indices]\n",
        "      pred_sample = y_pred[indices]\n",
        "      uniq, cnts = np.unique(pred_sample, return_counts=True)\n",
        "      counts = {item : count for item, count in zip(uniq, cnts)}\n",
        "      for class_idx in counts:\n",
        "        cm[c][class_idx] = counts[class_idx]\n",
        "    return cm\n",
        "\n",
        "  def _compute_precision(self, confusion_matrix: np.array, class_label: int):\n",
        "    # TP / TP + FP\n",
        "    tp = confusion_matrix[class_label][class_label]\n",
        "    deno = np.sum(confusion_matrix[:, class_label])\n",
        "    if deno == 0:\n",
        "      return 0\n",
        "    return tp / deno\n",
        "\n",
        "  def _compute_recall(self, confusion_matrix: np.array, class_label: int):\n",
        "    # TP / TP + FN\n",
        "    tp = confusion_matrix[class_label][class_label]\n",
        "    deno = np.sum(confusion_matrix[class_label, :])\n",
        "    if deno == 0:\n",
        "      return 0\n",
        "    return tp / deno\n",
        "\n",
        "  def _get_precision_recall_f1(self, confusion_matrix: np.array):\n",
        "    matrix = []\n",
        "    for c in self.unique_classes:\n",
        "      p = self._compute_precision(confusion_matrix, c)\n",
        "      r = self._compute_recall(confusion_matrix, c)\n",
        "      f = 0 if p + r == 0 else 2 * ((p * r) / (p + r))\n",
        "      s = np.sum(confusion_matrix[c])\n",
        "      matrix.append([p, r, f, s])\n",
        "\n",
        "    return np.matrix.round(np.array(matrix), 2).astype(float)\n",
        "\n",
        "  def _compute_classification_summary(self) -> dict:\n",
        "    confusion_mat = self._get_confusion_matrix(self.y_true, self.y_pred)\n",
        "    p_r_f_mat = self._get_precision_recall_f1(confusion_mat)\n",
        "    return confusion_mat, p_r_f_mat\n",
        "\n",
        "  def _get_perclass_summary(self):\n",
        "    cm, prfs_mat = self._compute_classification_summary()\n",
        "    summary = ''\n",
        "    for c in self.unique_classes:\n",
        "     class_metrics = prfs_mat[c]\n",
        "     summary += f'''Prec: {class_metrics[0]} | Recall: {class_metrics[1]} | F1: {class_metrics[2]} | Supp: {class_metrics[3]}\\n'''\n",
        "    return summary\n",
        "\n",
        "  def results(self) -> str:\n",
        "    self.unique_classes = np.sort(np.unique(np.concatenate((self.y_true, self.y_pred))))\n",
        "    return self._get_perclass_summary()"
      ]
    },
    {
      "cell_type": "code",
      "execution_count": null,
      "id": "d72b21f0",
      "metadata": {
        "id": "d72b21f0"
      },
      "outputs": [],
      "source": [
        "y_preds = np.argmax(lr.predict(X_test_std, add_bias=True), axis=1)"
      ]
    },
    {
      "cell_type": "code",
      "execution_count": null,
      "id": "84d1b649",
      "metadata": {
        "id": "84d1b649"
      },
      "outputs": [],
      "source": [
        "print(classification_report(y_test, y_preds))"
      ]
    },
    {
      "cell_type": "code",
      "execution_count": null,
      "id": "6c03953b",
      "metadata": {
        "id": "6c03953b"
      },
      "outputs": [],
      "source": [
        "clf_eval = ClassificationEvaluation(y_true=y_test.values, y_pred=y_preds, model_name='Softmax Regression')"
      ]
    },
    {
      "cell_type": "code",
      "execution_count": null,
      "id": "a6d94102",
      "metadata": {
        "colab": {
          "base_uri": "https://localhost:8080/"
        },
        "id": "a6d94102",
        "outputId": "4d1a2e85-fcc9-49ee-8dec-7b6e2a230bd3"
      },
      "outputs": [
        {
          "name": "stdout",
          "output_type": "stream",
          "text": [
            "Prec: 0.48 | Recall: 0.09 | F1: 0.16 | Supp: 7570.0\n",
            "Prec: 0.7 | Recall: 0.97 | F1: 0.81 | Supp: 22812.0\n",
            "Prec: 0.0 | Recall: 0.0 | F1: 0.0 | Supp: 1570.0\n",
            "Prec: 0.0 | Recall: 0.0 | F1: 0.0 | Supp: 1141.0\n",
            "\n"
          ]
        }
      ],
      "source": [
        "print(clf_eval.results())"
      ]
    },
    {
      "cell_type": "code",
      "execution_count": null,
      "id": "8bde2e3d",
      "metadata": {
        "id": "8bde2e3d"
      },
      "outputs": [],
      "source": [
        "from sklearn.linear_model import LogisticRegression"
      ]
    },
    {
      "cell_type": "code",
      "execution_count": null,
      "id": "2eefe3a0",
      "metadata": {
        "id": "2eefe3a0"
      },
      "outputs": [],
      "source": [
        "sk_lr = LogisticRegression(multi_class='multinomial', random_state=0).fit(X_train_std, y_train)"
      ]
    },
    {
      "cell_type": "code",
      "execution_count": null,
      "id": "15211df5",
      "metadata": {
        "id": "15211df5"
      },
      "outputs": [],
      "source": [
        "y_hats = sk_lr.predict(X_test_std)\n",
        "print(classification_report(y_test, y_hats))"
      ]
    },
    {
      "cell_type": "code",
      "execution_count": null,
      "id": "5beb9c32",
      "metadata": {
        "colab": {
          "base_uri": "https://localhost:8080/",
          "height": 74
        },
        "id": "5beb9c32",
        "outputId": "c6af8ff6-d4d3-4226-a56e-04072191de6b"
      },
      "outputs": [
        {
          "data": {
            "text/html": [
              "<style>#sk-container-id-4 {\n",
              "  /* Definition of color scheme common for light and dark mode */\n",
              "  --sklearn-color-text: black;\n",
              "  --sklearn-color-line: gray;\n",
              "  /* Definition of color scheme for unfitted estimators */\n",
              "  --sklearn-color-unfitted-level-0: #fff5e6;\n",
              "  --sklearn-color-unfitted-level-1: #f6e4d2;\n",
              "  --sklearn-color-unfitted-level-2: #ffe0b3;\n",
              "  --sklearn-color-unfitted-level-3: chocolate;\n",
              "  /* Definition of color scheme for fitted estimators */\n",
              "  --sklearn-color-fitted-level-0: #f0f8ff;\n",
              "  --sklearn-color-fitted-level-1: #d4ebff;\n",
              "  --sklearn-color-fitted-level-2: #b3dbfd;\n",
              "  --sklearn-color-fitted-level-3: cornflowerblue;\n",
              "\n",
              "  /* Specific color for light theme */\n",
              "  --sklearn-color-text-on-default-background: var(--sg-text-color, var(--theme-code-foreground, var(--jp-content-font-color1, black)));\n",
              "  --sklearn-color-background: var(--sg-background-color, var(--theme-background, var(--jp-layout-color0, white)));\n",
              "  --sklearn-color-border-box: var(--sg-text-color, var(--theme-code-foreground, var(--jp-content-font-color1, black)));\n",
              "  --sklearn-color-icon: #696969;\n",
              "\n",
              "  @media (prefers-color-scheme: dark) {\n",
              "    /* Redefinition of color scheme for dark theme */\n",
              "    --sklearn-color-text-on-default-background: var(--sg-text-color, var(--theme-code-foreground, var(--jp-content-font-color1, white)));\n",
              "    --sklearn-color-background: var(--sg-background-color, var(--theme-background, var(--jp-layout-color0, #111)));\n",
              "    --sklearn-color-border-box: var(--sg-text-color, var(--theme-code-foreground, var(--jp-content-font-color1, white)));\n",
              "    --sklearn-color-icon: #878787;\n",
              "  }\n",
              "}\n",
              "\n",
              "#sk-container-id-4 {\n",
              "  color: var(--sklearn-color-text);\n",
              "}\n",
              "\n",
              "#sk-container-id-4 pre {\n",
              "  padding: 0;\n",
              "}\n",
              "\n",
              "#sk-container-id-4 input.sk-hidden--visually {\n",
              "  border: 0;\n",
              "  clip: rect(1px 1px 1px 1px);\n",
              "  clip: rect(1px, 1px, 1px, 1px);\n",
              "  height: 1px;\n",
              "  margin: -1px;\n",
              "  overflow: hidden;\n",
              "  padding: 0;\n",
              "  position: absolute;\n",
              "  width: 1px;\n",
              "}\n",
              "\n",
              "#sk-container-id-4 div.sk-dashed-wrapped {\n",
              "  border: 1px dashed var(--sklearn-color-line);\n",
              "  margin: 0 0.4em 0.5em 0.4em;\n",
              "  box-sizing: border-box;\n",
              "  padding-bottom: 0.4em;\n",
              "  background-color: var(--sklearn-color-background);\n",
              "}\n",
              "\n",
              "#sk-container-id-4 div.sk-container {\n",
              "  /* jupyter's `normalize.less` sets `[hidden] { display: none; }`\n",
              "     but bootstrap.min.css set `[hidden] { display: none !important; }`\n",
              "     so we also need the `!important` here to be able to override the\n",
              "     default hidden behavior on the sphinx rendered scikit-learn.org.\n",
              "     See: https://github.com/scikit-learn/scikit-learn/issues/21755 */\n",
              "  display: inline-block !important;\n",
              "  position: relative;\n",
              "}\n",
              "\n",
              "#sk-container-id-4 div.sk-text-repr-fallback {\n",
              "  display: none;\n",
              "}\n",
              "\n",
              "div.sk-parallel-item,\n",
              "div.sk-serial,\n",
              "div.sk-item {\n",
              "  /* draw centered vertical line to link estimators */\n",
              "  background-image: linear-gradient(var(--sklearn-color-text-on-default-background), var(--sklearn-color-text-on-default-background));\n",
              "  background-size: 2px 100%;\n",
              "  background-repeat: no-repeat;\n",
              "  background-position: center center;\n",
              "}\n",
              "\n",
              "/* Parallel-specific style estimator block */\n",
              "\n",
              "#sk-container-id-4 div.sk-parallel-item::after {\n",
              "  content: \"\";\n",
              "  width: 100%;\n",
              "  border-bottom: 2px solid var(--sklearn-color-text-on-default-background);\n",
              "  flex-grow: 1;\n",
              "}\n",
              "\n",
              "#sk-container-id-4 div.sk-parallel {\n",
              "  display: flex;\n",
              "  align-items: stretch;\n",
              "  justify-content: center;\n",
              "  background-color: var(--sklearn-color-background);\n",
              "  position: relative;\n",
              "}\n",
              "\n",
              "#sk-container-id-4 div.sk-parallel-item {\n",
              "  display: flex;\n",
              "  flex-direction: column;\n",
              "}\n",
              "\n",
              "#sk-container-id-4 div.sk-parallel-item:first-child::after {\n",
              "  align-self: flex-end;\n",
              "  width: 50%;\n",
              "}\n",
              "\n",
              "#sk-container-id-4 div.sk-parallel-item:last-child::after {\n",
              "  align-self: flex-start;\n",
              "  width: 50%;\n",
              "}\n",
              "\n",
              "#sk-container-id-4 div.sk-parallel-item:only-child::after {\n",
              "  width: 0;\n",
              "}\n",
              "\n",
              "/* Serial-specific style estimator block */\n",
              "\n",
              "#sk-container-id-4 div.sk-serial {\n",
              "  display: flex;\n",
              "  flex-direction: column;\n",
              "  align-items: center;\n",
              "  background-color: var(--sklearn-color-background);\n",
              "  padding-right: 1em;\n",
              "  padding-left: 1em;\n",
              "}\n",
              "\n",
              "\n",
              "/* Toggleable style: style used for estimator/Pipeline/ColumnTransformer box that is\n",
              "clickable and can be expanded/collapsed.\n",
              "- Pipeline and ColumnTransformer use this feature and define the default style\n",
              "- Estimators will overwrite some part of the style using the `sk-estimator` class\n",
              "*/\n",
              "\n",
              "/* Pipeline and ColumnTransformer style (default) */\n",
              "\n",
              "#sk-container-id-4 div.sk-toggleable {\n",
              "  /* Default theme specific background. It is overwritten whether we have a\n",
              "  specific estimator or a Pipeline/ColumnTransformer */\n",
              "  background-color: var(--sklearn-color-background);\n",
              "}\n",
              "\n",
              "/* Toggleable label */\n",
              "#sk-container-id-4 label.sk-toggleable__label {\n",
              "  cursor: pointer;\n",
              "  display: block;\n",
              "  width: 100%;\n",
              "  margin-bottom: 0;\n",
              "  padding: 0.5em;\n",
              "  box-sizing: border-box;\n",
              "  text-align: center;\n",
              "}\n",
              "\n",
              "#sk-container-id-4 label.sk-toggleable__label-arrow:before {\n",
              "  /* Arrow on the left of the label */\n",
              "  content: \"▸\";\n",
              "  float: left;\n",
              "  margin-right: 0.25em;\n",
              "  color: var(--sklearn-color-icon);\n",
              "}\n",
              "\n",
              "#sk-container-id-4 label.sk-toggleable__label-arrow:hover:before {\n",
              "  color: var(--sklearn-color-text);\n",
              "}\n",
              "\n",
              "/* Toggleable content - dropdown */\n",
              "\n",
              "#sk-container-id-4 div.sk-toggleable__content {\n",
              "  max-height: 0;\n",
              "  max-width: 0;\n",
              "  overflow: hidden;\n",
              "  text-align: left;\n",
              "  /* unfitted */\n",
              "  background-color: var(--sklearn-color-unfitted-level-0);\n",
              "}\n",
              "\n",
              "#sk-container-id-4 div.sk-toggleable__content.fitted {\n",
              "  /* fitted */\n",
              "  background-color: var(--sklearn-color-fitted-level-0);\n",
              "}\n",
              "\n",
              "#sk-container-id-4 div.sk-toggleable__content pre {\n",
              "  margin: 0.2em;\n",
              "  border-radius: 0.25em;\n",
              "  color: var(--sklearn-color-text);\n",
              "  /* unfitted */\n",
              "  background-color: var(--sklearn-color-unfitted-level-0);\n",
              "}\n",
              "\n",
              "#sk-container-id-4 div.sk-toggleable__content.fitted pre {\n",
              "  /* unfitted */\n",
              "  background-color: var(--sklearn-color-fitted-level-0);\n",
              "}\n",
              "\n",
              "#sk-container-id-4 input.sk-toggleable__control:checked~div.sk-toggleable__content {\n",
              "  /* Expand drop-down */\n",
              "  max-height: 200px;\n",
              "  max-width: 100%;\n",
              "  overflow: auto;\n",
              "}\n",
              "\n",
              "#sk-container-id-4 input.sk-toggleable__control:checked~label.sk-toggleable__label-arrow:before {\n",
              "  content: \"▾\";\n",
              "}\n",
              "\n",
              "/* Pipeline/ColumnTransformer-specific style */\n",
              "\n",
              "#sk-container-id-4 div.sk-label input.sk-toggleable__control:checked~label.sk-toggleable__label {\n",
              "  color: var(--sklearn-color-text);\n",
              "  background-color: var(--sklearn-color-unfitted-level-2);\n",
              "}\n",
              "\n",
              "#sk-container-id-4 div.sk-label.fitted input.sk-toggleable__control:checked~label.sk-toggleable__label {\n",
              "  background-color: var(--sklearn-color-fitted-level-2);\n",
              "}\n",
              "\n",
              "/* Estimator-specific style */\n",
              "\n",
              "/* Colorize estimator box */\n",
              "#sk-container-id-4 div.sk-estimator input.sk-toggleable__control:checked~label.sk-toggleable__label {\n",
              "  /* unfitted */\n",
              "  background-color: var(--sklearn-color-unfitted-level-2);\n",
              "}\n",
              "\n",
              "#sk-container-id-4 div.sk-estimator.fitted input.sk-toggleable__control:checked~label.sk-toggleable__label {\n",
              "  /* fitted */\n",
              "  background-color: var(--sklearn-color-fitted-level-2);\n",
              "}\n",
              "\n",
              "#sk-container-id-4 div.sk-label label.sk-toggleable__label,\n",
              "#sk-container-id-4 div.sk-label label {\n",
              "  /* The background is the default theme color */\n",
              "  color: var(--sklearn-color-text-on-default-background);\n",
              "}\n",
              "\n",
              "/* On hover, darken the color of the background */\n",
              "#sk-container-id-4 div.sk-label:hover label.sk-toggleable__label {\n",
              "  color: var(--sklearn-color-text);\n",
              "  background-color: var(--sklearn-color-unfitted-level-2);\n",
              "}\n",
              "\n",
              "/* Label box, darken color on hover, fitted */\n",
              "#sk-container-id-4 div.sk-label.fitted:hover label.sk-toggleable__label.fitted {\n",
              "  color: var(--sklearn-color-text);\n",
              "  background-color: var(--sklearn-color-fitted-level-2);\n",
              "}\n",
              "\n",
              "/* Estimator label */\n",
              "\n",
              "#sk-container-id-4 div.sk-label label {\n",
              "  font-family: monospace;\n",
              "  font-weight: bold;\n",
              "  display: inline-block;\n",
              "  line-height: 1.2em;\n",
              "}\n",
              "\n",
              "#sk-container-id-4 div.sk-label-container {\n",
              "  text-align: center;\n",
              "}\n",
              "\n",
              "/* Estimator-specific */\n",
              "#sk-container-id-4 div.sk-estimator {\n",
              "  font-family: monospace;\n",
              "  border: 1px dotted var(--sklearn-color-border-box);\n",
              "  border-radius: 0.25em;\n",
              "  box-sizing: border-box;\n",
              "  margin-bottom: 0.5em;\n",
              "  /* unfitted */\n",
              "  background-color: var(--sklearn-color-unfitted-level-0);\n",
              "}\n",
              "\n",
              "#sk-container-id-4 div.sk-estimator.fitted {\n",
              "  /* fitted */\n",
              "  background-color: var(--sklearn-color-fitted-level-0);\n",
              "}\n",
              "\n",
              "/* on hover */\n",
              "#sk-container-id-4 div.sk-estimator:hover {\n",
              "  /* unfitted */\n",
              "  background-color: var(--sklearn-color-unfitted-level-2);\n",
              "}\n",
              "\n",
              "#sk-container-id-4 div.sk-estimator.fitted:hover {\n",
              "  /* fitted */\n",
              "  background-color: var(--sklearn-color-fitted-level-2);\n",
              "}\n",
              "\n",
              "/* Specification for estimator info (e.g. \"i\" and \"?\") */\n",
              "\n",
              "/* Common style for \"i\" and \"?\" */\n",
              "\n",
              ".sk-estimator-doc-link,\n",
              "a:link.sk-estimator-doc-link,\n",
              "a:visited.sk-estimator-doc-link {\n",
              "  float: right;\n",
              "  font-size: smaller;\n",
              "  line-height: 1em;\n",
              "  font-family: monospace;\n",
              "  background-color: var(--sklearn-color-background);\n",
              "  border-radius: 1em;\n",
              "  height: 1em;\n",
              "  width: 1em;\n",
              "  text-decoration: none !important;\n",
              "  margin-left: 1ex;\n",
              "  /* unfitted */\n",
              "  border: var(--sklearn-color-unfitted-level-1) 1pt solid;\n",
              "  color: var(--sklearn-color-unfitted-level-1);\n",
              "}\n",
              "\n",
              ".sk-estimator-doc-link.fitted,\n",
              "a:link.sk-estimator-doc-link.fitted,\n",
              "a:visited.sk-estimator-doc-link.fitted {\n",
              "  /* fitted */\n",
              "  border: var(--sklearn-color-fitted-level-1) 1pt solid;\n",
              "  color: var(--sklearn-color-fitted-level-1);\n",
              "}\n",
              "\n",
              "/* On hover */\n",
              "div.sk-estimator:hover .sk-estimator-doc-link:hover,\n",
              ".sk-estimator-doc-link:hover,\n",
              "div.sk-label-container:hover .sk-estimator-doc-link:hover,\n",
              ".sk-estimator-doc-link:hover {\n",
              "  /* unfitted */\n",
              "  background-color: var(--sklearn-color-unfitted-level-3);\n",
              "  color: var(--sklearn-color-background);\n",
              "  text-decoration: none;\n",
              "}\n",
              "\n",
              "div.sk-estimator.fitted:hover .sk-estimator-doc-link.fitted:hover,\n",
              ".sk-estimator-doc-link.fitted:hover,\n",
              "div.sk-label-container:hover .sk-estimator-doc-link.fitted:hover,\n",
              ".sk-estimator-doc-link.fitted:hover {\n",
              "  /* fitted */\n",
              "  background-color: var(--sklearn-color-fitted-level-3);\n",
              "  color: var(--sklearn-color-background);\n",
              "  text-decoration: none;\n",
              "}\n",
              "\n",
              "/* Span, style for the box shown on hovering the info icon */\n",
              ".sk-estimator-doc-link span {\n",
              "  display: none;\n",
              "  z-index: 9999;\n",
              "  position: relative;\n",
              "  font-weight: normal;\n",
              "  right: .2ex;\n",
              "  padding: .5ex;\n",
              "  margin: .5ex;\n",
              "  width: min-content;\n",
              "  min-width: 20ex;\n",
              "  max-width: 50ex;\n",
              "  color: var(--sklearn-color-text);\n",
              "  box-shadow: 2pt 2pt 4pt #999;\n",
              "  /* unfitted */\n",
              "  background: var(--sklearn-color-unfitted-level-0);\n",
              "  border: .5pt solid var(--sklearn-color-unfitted-level-3);\n",
              "}\n",
              "\n",
              ".sk-estimator-doc-link.fitted span {\n",
              "  /* fitted */\n",
              "  background: var(--sklearn-color-fitted-level-0);\n",
              "  border: var(--sklearn-color-fitted-level-3);\n",
              "}\n",
              "\n",
              ".sk-estimator-doc-link:hover span {\n",
              "  display: block;\n",
              "}\n",
              "\n",
              "/* \"?\"-specific style due to the `<a>` HTML tag */\n",
              "\n",
              "#sk-container-id-4 a.estimator_doc_link {\n",
              "  float: right;\n",
              "  font-size: 1rem;\n",
              "  line-height: 1em;\n",
              "  font-family: monospace;\n",
              "  background-color: var(--sklearn-color-background);\n",
              "  border-radius: 1rem;\n",
              "  height: 1rem;\n",
              "  width: 1rem;\n",
              "  text-decoration: none;\n",
              "  /* unfitted */\n",
              "  color: var(--sklearn-color-unfitted-level-1);\n",
              "  border: var(--sklearn-color-unfitted-level-1) 1pt solid;\n",
              "}\n",
              "\n",
              "#sk-container-id-4 a.estimator_doc_link.fitted {\n",
              "  /* fitted */\n",
              "  border: var(--sklearn-color-fitted-level-1) 1pt solid;\n",
              "  color: var(--sklearn-color-fitted-level-1);\n",
              "}\n",
              "\n",
              "/* On hover */\n",
              "#sk-container-id-4 a.estimator_doc_link:hover {\n",
              "  /* unfitted */\n",
              "  background-color: var(--sklearn-color-unfitted-level-3);\n",
              "  color: var(--sklearn-color-background);\n",
              "  text-decoration: none;\n",
              "}\n",
              "\n",
              "#sk-container-id-4 a.estimator_doc_link.fitted:hover {\n",
              "  /* fitted */\n",
              "  background-color: var(--sklearn-color-fitted-level-3);\n",
              "}\n",
              "</style><div id=\"sk-container-id-4\" class=\"sk-top-container\"><div class=\"sk-text-repr-fallback\"><pre>KNeighborsClassifier(n_neighbors=3)</pre><b>In a Jupyter environment, please rerun this cell to show the HTML representation or trust the notebook. <br />On GitHub, the HTML representation is unable to render, please try loading this page with nbviewer.org.</b></div><div class=\"sk-container\" hidden><div class=\"sk-item\"><div class=\"sk-estimator fitted sk-toggleable\"><input class=\"sk-toggleable__control sk-hidden--visually\" id=\"sk-estimator-id-4\" type=\"checkbox\" checked><label for=\"sk-estimator-id-4\" class=\"sk-toggleable__label fitted sk-toggleable__label-arrow fitted\">&nbsp;&nbsp;KNeighborsClassifier<a class=\"sk-estimator-doc-link fitted\" rel=\"noreferrer\" target=\"_blank\" href=\"https://scikit-learn.org/1.4/modules/generated/sklearn.neighbors.KNeighborsClassifier.html\">?<span>Documentation for KNeighborsClassifier</span></a><span class=\"sk-estimator-doc-link fitted\">i<span>Fitted</span></span></label><div class=\"sk-toggleable__content fitted\"><pre>KNeighborsClassifier(n_neighbors=3)</pre></div> </div></div></div></div>"
            ],
            "text/plain": [
              "KNeighborsClassifier(n_neighbors=3)"
            ]
          },
          "execution_count": 317,
          "metadata": {},
          "output_type": "execute_result"
        }
      ],
      "source": [
        "neigh = KNeighborsClassifier(n_neighbors=3)\n",
        "neigh.fit(X_train_std, y_train)"
      ]
    },
    {
      "cell_type": "code",
      "execution_count": null,
      "id": "7380276a",
      "metadata": {
        "colab": {
          "base_uri": "https://localhost:8080/",
          "height": 35
        },
        "id": "7380276a",
        "outputId": "08c18d9a-3b7b-4dc2-a67a-2e0a10f47710"
      },
      "outputs": [
        {
          "data": {
            "text/plain": [
              "'auto'"
            ]
          },
          "execution_count": 318,
          "metadata": {},
          "output_type": "execute_result"
        }
      ],
      "source": [
        "neigh.algorithm"
      ]
    },
    {
      "cell_type": "code",
      "execution_count": null,
      "id": "7e0933a6",
      "metadata": {
        "id": "7e0933a6"
      },
      "outputs": [],
      "source": [
        "y_preds = neigh.predict(X_test_std)"
      ]
    },
    {
      "cell_type": "code",
      "execution_count": null,
      "id": "a3692acc",
      "metadata": {
        "colab": {
          "base_uri": "https://localhost:8080/"
        },
        "id": "a3692acc",
        "outputId": "e7f636b9-d5fd-4d9a-e61a-0700eff67eb5"
      },
      "outputs": [
        {
          "name": "stdout",
          "output_type": "stream",
          "text": [
            "              precision    recall  f1-score   support\n",
            "\n",
            "           0       1.00      1.00      1.00      7570\n",
            "           1       1.00      1.00      1.00     22812\n",
            "           2       1.00      1.00      1.00      1570\n",
            "           3       1.00      1.00      1.00      1141\n",
            "\n",
            "    accuracy                           1.00     33093\n",
            "   macro avg       1.00      1.00      1.00     33093\n",
            "weighted avg       1.00      1.00      1.00     33093\n",
            "\n"
          ]
        }
      ],
      "source": [
        "print(classification_report(y_test, y_preds))"
      ]
    },
    {
      "cell_type": "code",
      "execution_count": null,
      "id": "37ef3e25",
      "metadata": {
        "id": "37ef3e25"
      },
      "outputs": [],
      "source": [
        "from sklearn.naive_bayes import GaussianNB"
      ]
    },
    {
      "cell_type": "code",
      "execution_count": null,
      "id": "ac29deb2",
      "metadata": {
        "id": "ac29deb2"
      },
      "outputs": [],
      "source": [
        "clf = GaussianNB().fit(X_train, y_train)"
      ]
    },
    {
      "cell_type": "code",
      "execution_count": null,
      "id": "b936efeb",
      "metadata": {
        "id": "b936efeb"
      },
      "outputs": [],
      "source": [
        "y_pred = clf.predict(X_test)"
      ]
    },
    {
      "cell_type": "code",
      "execution_count": null,
      "id": "349208ff",
      "metadata": {
        "colab": {
          "base_uri": "https://localhost:8080/"
        },
        "id": "349208ff",
        "outputId": "c4a06f8a-7849-4a23-8296-77728dfd6a7b",
        "scrolled": true
      },
      "outputs": [
        {
          "name": "stdout",
          "output_type": "stream",
          "text": [
            "              precision    recall  f1-score   support\n",
            "\n",
            "           0       1.00      1.00      1.00      7570\n",
            "           1       1.00      1.00      1.00     22812\n",
            "           2       1.00      1.00      1.00      1570\n",
            "           3       1.00      1.00      1.00      1141\n",
            "\n",
            "    accuracy                           1.00     33093\n",
            "   macro avg       1.00      1.00      1.00     33093\n",
            "weighted avg       1.00      1.00      1.00     33093\n",
            "\n"
          ]
        }
      ],
      "source": [
        "print(classification_report(y_test, y_preds))"
      ]
    },
    {
      "cell_type": "markdown",
      "id": "8129988e",
      "metadata": {
        "id": "8129988e"
      },
      "source": [
        "# SVM"
      ]
    },
    {
      "cell_type": "code",
      "execution_count": null,
      "id": "6d585a93",
      "metadata": {
        "id": "6d585a93"
      },
      "outputs": [],
      "source": [
        "import numpy as np\n",
        "from scipy.optimize import minimize\n",
        "from scipy.optimize import Bounds\n",
        "\n",
        "class SoftMarginSVM:\n",
        "    def __init__(self, C):\n",
        "        self.C = C\n",
        "\n",
        "    def fit(self, X, y):\n",
        "        X = np.array(X)\n",
        "        y = np.array(y)\n",
        "        Xy = X * y[:, np.newaxis]\n",
        "        GramXY = np.matmul(Xy, Xy.T)\n",
        "\n",
        "        def ld0(G, alpha):\n",
        "            return alpha.sum() - 0.5 * alpha.dot(G.dot(alpha))\n",
        "\n",
        "        def derivative(G, alpha):\n",
        "            return np.ones_like(alpha) - G.dot(alpha)\n",
        "\n",
        "        alpha = np.ones(X.shape[0])\n",
        "        bounds_alpha = Bounds(np.zeros(X.shape[0]), np.full(X.shape[0], self.C))\n",
        "\n",
        "        constraints = ({'type': 'eq', 'fun': lambda a: np.dot(a, y),\n",
        "                        'jac': lambda a: y})\n",
        "\n",
        "        optimizer = minimize(fun=lambda a: -ld0(GramXY, a),\n",
        "                             x0=alpha,\n",
        "                             jac=lambda a: -derivative(GramXY, a),\n",
        "                             constraints=constraints,\n",
        "                             bounds=bounds_alpha)\n",
        "\n",
        "        self.alpha = optimizer.x\n",
        "        self.w = X.T.dot(self.alpha * y)\n",
        "        epsilon = 1e-4\n",
        "        self.support_vectors = X[self.alpha > epsilon]\n",
        "        self.support_labels = y[self.alpha > epsilon]\n",
        "\n",
        "        b = np.mean(self.support_labels - np.dot(self.support_vectors, self.w))\n",
        "        self.intercept = b\n",
        "\n",
        "    def predict(self, X):\n",
        "        return np.sign(np.dot(X, self.w) + self.intercept)\n"
      ]
    },
    {
      "cell_type": "code",
      "execution_count": null,
      "id": "KcqYhKUQ67PH",
      "metadata": {
        "id": "KcqYhKUQ67PH"
      },
      "outputs": [],
      "source": [
        "X_train_stds = X_train_std.values\n",
        "X_test_stds = X_test_std.values"
      ]
    },
    {
      "cell_type": "code",
      "execution_count": null,
      "id": "gu0ea8W93ssc",
      "metadata": {
        "id": "gu0ea8W93ssc"
      },
      "outputs": [],
      "source": [
        "# svmsoft = SoftMarginSVM(C=1.0)\n",
        "# svmsoft.fit(X_train_stds, y_train)\n",
        "# y_preds_soft = svmsoft.predict(X_test_stds)"
      ]
    },
    {
      "cell_type": "code",
      "execution_count": null,
      "id": "kA7_l1NAtrpi",
      "metadata": {
        "id": "kA7_l1NAtrpi"
      },
      "outputs": [],
      "source": [
        "from tqdm import tqdm\n",
        "@dataclass\n",
        "class HardMarginSVMSa:\n",
        "    learning_rate: float\n",
        "    lambda_: float\n",
        "    n_iter: int = 500\n",
        "\n",
        "    def fit(self, X, y):\n",
        "        if not isinstance(X, np.ndarray):\n",
        "            X = X.values\n",
        "\n",
        "        n_samples, n_features = X.shape\n",
        "        y = np.where(y <= 0, -1, 1)\n",
        "\n",
        "        self.w = np.zeros(n_features)\n",
        "        self.b = 0\n",
        "\n",
        "        for _ in tqdm(range(self.n_iter), desc=\"Training Progress\"):\n",
        "            for idx, x_i in enumerate(X):\n",
        "                condition = y[idx] * (np.dot(x_i, self.w) + self.b) >= 1\n",
        "\n",
        "                if condition:\n",
        "                    self.w -= self.learning_rate * (2 * self.lambda_ * self.w)\n",
        "                else:\n",
        "                    self.w -= self.learning_rate * (2 * self.lambda_ * self.w - np.dot(x_i, y[idx]))\n",
        "                    self.b -= self.learning_rate * (-y[idx])\n",
        "\n",
        "    def predict(self, X):\n",
        "        if not isinstance(X, np.ndarray):\n",
        "            X = X.values\n",
        "\n",
        "        linear_output = np.dot(X, self.w) + self.b\n",
        "        return np.sign(linear_output)\n"
      ]
    },
    {
      "cell_type": "code",
      "execution_count": null,
      "id": "o6kxFeCexPmG",
      "metadata": {
        "colab": {
          "base_uri": "https://localhost:8080/"
        },
        "id": "o6kxFeCexPmG",
        "outputId": "8040a324-70c4-4598-a1ac-b356e702ed81"
      },
      "outputs": [
        {
          "name": "stderr",
          "output_type": "stream",
          "text": [
            "Training Progress: 100%|██████████| 500/500 [23:45<00:00,  2.85s/it]\n"
          ]
        }
      ],
      "source": [
        "svm = HardMarginSVMSa(learning_rate=0.1, lambda_=0.01)\n",
        "svm.fit(X_train_std, y_train)\n",
        "y_preds_svm = svm.predict(X_test_std)"
      ]
    },
    {
      "cell_type": "code",
      "execution_count": null,
      "id": "H1N-S64ixQR3",
      "metadata": {
        "id": "H1N-S64ixQR3"
      },
      "outputs": [],
      "source": [
        "classification_report(y_test, y_preds_svm)"
      ]
    },
    {
      "cell_type": "code",
      "execution_count": null,
      "id": "P9m0-LLhzWnT",
      "metadata": {
        "id": "P9m0-LLhzWnT",
        "outputId": "3c35a57d-34bb-47f5-d14a-1bc0995180d5"
      },
      "outputs": [
        {
          "data": {
            "text/plain": [
              "['neural_network_classifier_model.joblib']"
            ]
          },
          "execution_count": 331,
          "metadata": {},
          "output_type": "execute_result"
        }
      ],
      "source": [
        "from joblib import dump\n",
        "# Assuming best_classifier is your trained regressor\n",
        "dump(model, 'neural_network_classifier_model.joblib')"
      ]
    },
    {
      "cell_type": "markdown",
      "id": "a5cc9930",
      "metadata": {
        "id": "a5cc9930"
      },
      "source": [
        "### Test Data Prepration"
      ]
    },
    {
      "cell_type": "code",
      "execution_count": null,
      "id": "e52f2071",
      "metadata": {
        "id": "e52f2071"
      },
      "outputs": [],
      "source": [
        "import os\n",
        "import pandas as pd\n",
        "import polars as pl\n",
        "import numpy as np\n",
        "from pathlib import Path"
      ]
    },
    {
      "cell_type": "code",
      "execution_count": null,
      "id": "b3cc7b94",
      "metadata": {
        "id": "b3cc7b94"
      },
      "outputs": [],
      "source": [
        "projectdir = Path(os.getcwd())\n",
        "datadir = projectdir.parent / 'Dataset'\n",
        "test_data = pd.read_csv('test_data.csv', delimiter=';')"
      ]
    },
    {
      "cell_type": "code",
      "execution_count": null,
      "id": "43f3f9a7",
      "metadata": {
        "id": "43f3f9a7",
        "outputId": "876926c0-29ff-416c-84e1-5d17a9e4bb7d"
      },
      "outputs": [
        {
          "data": {
            "text/html": [
              "<div>\n",
              "<style scoped>\n",
              "    .dataframe tbody tr th:only-of-type {\n",
              "        vertical-align: middle;\n",
              "    }\n",
              "\n",
              "    .dataframe tbody tr th {\n",
              "        vertical-align: top;\n",
              "    }\n",
              "\n",
              "    .dataframe thead th {\n",
              "        text-align: right;\n",
              "    }\n",
              "</style>\n",
              "<table border=\"1\" class=\"dataframe\">\n",
              "  <thead>\n",
              "    <tr style=\"text-align: right;\">\n",
              "      <th></th>\n",
              "      <th>year</th>\n",
              "      <th>month</th>\n",
              "      <th>day</th>\n",
              "      <th>order</th>\n",
              "      <th>country</th>\n",
              "      <th>session ID</th>\n",
              "      <th>page 1 (main category)</th>\n",
              "      <th>page 2 (clothing model)</th>\n",
              "      <th>colour</th>\n",
              "      <th>location</th>\n",
              "      <th>model photography</th>\n",
              "      <th>price</th>\n",
              "      <th>price 2</th>\n",
              "      <th>page</th>\n",
              "    </tr>\n",
              "  </thead>\n",
              "  <tbody>\n",
              "    <tr>\n",
              "      <th>0</th>\n",
              "      <td>2008</td>\n",
              "      <td>8</td>\n",
              "      <td>13</td>\n",
              "      <td>3</td>\n",
              "      <td>29</td>\n",
              "      <td>24023</td>\n",
              "      <td>1</td>\n",
              "      <td>A15</td>\n",
              "      <td>14</td>\n",
              "      <td>5</td>\n",
              "      <td>2</td>\n",
              "      <td>33</td>\n",
              "      <td>2</td>\n",
              "      <td>1</td>\n",
              "    </tr>\n",
              "    <tr>\n",
              "      <th>1</th>\n",
              "      <td>2008</td>\n",
              "      <td>8</td>\n",
              "      <td>13</td>\n",
              "      <td>4</td>\n",
              "      <td>29</td>\n",
              "      <td>24023</td>\n",
              "      <td>1</td>\n",
              "      <td>A16</td>\n",
              "      <td>1</td>\n",
              "      <td>6</td>\n",
              "      <td>1</td>\n",
              "      <td>33</td>\n",
              "      <td>2</td>\n",
              "      <td>1</td>\n",
              "    </tr>\n",
              "    <tr>\n",
              "      <th>2</th>\n",
              "      <td>2008</td>\n",
              "      <td>8</td>\n",
              "      <td>13</td>\n",
              "      <td>5</td>\n",
              "      <td>29</td>\n",
              "      <td>24023</td>\n",
              "      <td>4</td>\n",
              "      <td>P11</td>\n",
              "      <td>4</td>\n",
              "      <td>4</td>\n",
              "      <td>2</td>\n",
              "      <td>38</td>\n",
              "      <td>1</td>\n",
              "      <td>1</td>\n",
              "    </tr>\n",
              "  </tbody>\n",
              "</table>\n",
              "</div>"
            ],
            "text/plain": [
              "   year  month  day  order  country  session ID  page 1 (main category)  \\\n",
              "0  2008      8   13      3       29       24023                       1   \n",
              "1  2008      8   13      4       29       24023                       1   \n",
              "2  2008      8   13      5       29       24023                       4   \n",
              "\n",
              "  page 2 (clothing model)  colour  location  model photography  price  \\\n",
              "0                     A15      14         5                  2     33   \n",
              "1                     A16       1         6                  1     33   \n",
              "2                     P11       4         4                  2     38   \n",
              "\n",
              "   price 2  page  \n",
              "0        2     1  \n",
              "1        2     1  \n",
              "2        1     1  "
            ]
          },
          "execution_count": 340,
          "metadata": {},
          "output_type": "execute_result"
        }
      ],
      "source": [
        "test_data.head(3)"
      ]
    },
    {
      "cell_type": "code",
      "execution_count": null,
      "id": "b9bc92a2",
      "metadata": {
        "id": "b9bc92a2",
        "outputId": "109c4b1b-8bc4-48e6-dbe3-2e60588036e0"
      },
      "outputs": [
        {
          "name": "stdout",
          "output_type": "stream",
          "text": [
            "<class 'pandas.core.frame.DataFrame'>\n",
            "RangeIndex: 10 entries, 0 to 9\n",
            "Data columns (total 14 columns):\n",
            " #   Column                   Non-Null Count  Dtype \n",
            "---  ------                   --------------  ----- \n",
            " 0   year                     10 non-null     int64 \n",
            " 1   month                    10 non-null     int64 \n",
            " 2   day                      10 non-null     int64 \n",
            " 3   order                    10 non-null     int64 \n",
            " 4   country                  10 non-null     int64 \n",
            " 5   session ID               10 non-null     int64 \n",
            " 6   page 1 (main category)   10 non-null     int64 \n",
            " 7   page 2 (clothing model)  10 non-null     object\n",
            " 8   colour                   10 non-null     int64 \n",
            " 9   location                 10 non-null     int64 \n",
            " 10  model photography        10 non-null     int64 \n",
            " 11  price                    10 non-null     int64 \n",
            " 12  price 2                  10 non-null     int64 \n",
            " 13  page                     10 non-null     int64 \n",
            "dtypes: int64(13), object(1)\n",
            "memory usage: 1.2+ KB\n"
          ]
        }
      ],
      "source": [
        "test_data.info()"
      ]
    },
    {
      "cell_type": "code",
      "execution_count": null,
      "id": "1c29dfa0",
      "metadata": {
        "id": "1c29dfa0"
      },
      "outputs": [],
      "source": [
        "test_data.rename(columns={\n",
        "    'session ID': 'session-id',\n",
        "    'price 2': 'price-higher-than-category',\n",
        "    'page 1 (main category)': 'category',\n",
        "    'page 2 (clothing model)': 'product-code',\n",
        "    'model photography': 'model-photography',\n",
        "    'page': 'page-no'\n",
        "}, inplace=True)"
      ]
    },
    {
      "cell_type": "code",
      "execution_count": null,
      "id": "d78841d2",
      "metadata": {
        "id": "d78841d2"
      },
      "outputs": [],
      "source": [
        "test_data['price-higher-than-category'] = test_data['price-higher-than-category'].apply(lambda x: 1 if x == 1 else 0)"
      ]
    },
    {
      "cell_type": "code",
      "execution_count": null,
      "id": "4439a7dc",
      "metadata": {
        "id": "4439a7dc"
      },
      "outputs": [],
      "source": [
        "class LabelEncoder:\n",
        "    def __init__(self) -> None:\n",
        "        self.str2idx = {}\n",
        "        self.idx2str = {}\n",
        "\n",
        "    def __str__(self) -> str:\n",
        "        return f'Number of encoded strings: {len(self.str2idx)}'\n",
        "\n",
        "    def __repr__(self) -> str:\n",
        "        return self.__str__()\n",
        "\n",
        "    def fit(self, col: np.array) -> None:\n",
        "        c = 0\n",
        "        for strItem in col:\n",
        "            if strItem not in self.str2idx:\n",
        "                self.str2idx[strItem] = c\n",
        "                self.idx2str[c] = strItem\n",
        "                c += 1\n",
        "\n",
        "    def transform(self, col: np.array) -> np.array:\n",
        "        return np.array([self.str2idx[ele] for ele in col])\n",
        "\n",
        "    def inverse_transform(self, col: np.array) -> np.array:\n",
        "        return np.array([self.idx2str[ele] for ele in col])\n",
        "\n",
        "    def fit_transform(self, col: np.array) -> np.array:\n",
        "        self.fit(col)\n",
        "        return self.transform(col)"
      ]
    },
    {
      "cell_type": "code",
      "execution_count": null,
      "id": "2293bfb3",
      "metadata": {
        "id": "2293bfb3",
        "outputId": "f7ac24e0-eb2a-40b3-dd6c-d335ba6daf95"
      },
      "outputs": [
        {
          "data": {
            "text/html": [
              "<div>\n",
              "<style scoped>\n",
              "    .dataframe tbody tr th:only-of-type {\n",
              "        vertical-align: middle;\n",
              "    }\n",
              "\n",
              "    .dataframe tbody tr th {\n",
              "        vertical-align: top;\n",
              "    }\n",
              "\n",
              "    .dataframe thead th {\n",
              "        text-align: right;\n",
              "    }\n",
              "</style>\n",
              "<table border=\"1\" class=\"dataframe\">\n",
              "  <thead>\n",
              "    <tr style=\"text-align: right;\">\n",
              "      <th></th>\n",
              "      <th>year</th>\n",
              "      <th>month</th>\n",
              "      <th>day</th>\n",
              "      <th>order</th>\n",
              "      <th>country</th>\n",
              "      <th>session-id</th>\n",
              "      <th>category</th>\n",
              "      <th>product-code</th>\n",
              "      <th>colour</th>\n",
              "      <th>location</th>\n",
              "      <th>model-photography</th>\n",
              "      <th>price</th>\n",
              "      <th>price-higher-than-category</th>\n",
              "      <th>page-no</th>\n",
              "    </tr>\n",
              "  </thead>\n",
              "  <tbody>\n",
              "    <tr>\n",
              "      <th>0</th>\n",
              "      <td>2008</td>\n",
              "      <td>8</td>\n",
              "      <td>13</td>\n",
              "      <td>3</td>\n",
              "      <td>29</td>\n",
              "      <td>24023</td>\n",
              "      <td>1</td>\n",
              "      <td>A15</td>\n",
              "      <td>14</td>\n",
              "      <td>5</td>\n",
              "      <td>2</td>\n",
              "      <td>33</td>\n",
              "      <td>0</td>\n",
              "      <td>1</td>\n",
              "    </tr>\n",
              "    <tr>\n",
              "      <th>1</th>\n",
              "      <td>2008</td>\n",
              "      <td>8</td>\n",
              "      <td>13</td>\n",
              "      <td>4</td>\n",
              "      <td>29</td>\n",
              "      <td>24023</td>\n",
              "      <td>1</td>\n",
              "      <td>A16</td>\n",
              "      <td>1</td>\n",
              "      <td>6</td>\n",
              "      <td>1</td>\n",
              "      <td>33</td>\n",
              "      <td>0</td>\n",
              "      <td>1</td>\n",
              "    </tr>\n",
              "    <tr>\n",
              "      <th>2</th>\n",
              "      <td>2008</td>\n",
              "      <td>8</td>\n",
              "      <td>13</td>\n",
              "      <td>5</td>\n",
              "      <td>29</td>\n",
              "      <td>24023</td>\n",
              "      <td>4</td>\n",
              "      <td>P11</td>\n",
              "      <td>4</td>\n",
              "      <td>4</td>\n",
              "      <td>2</td>\n",
              "      <td>38</td>\n",
              "      <td>1</td>\n",
              "      <td>1</td>\n",
              "    </tr>\n",
              "    <tr>\n",
              "      <th>3</th>\n",
              "      <td>2008</td>\n",
              "      <td>8</td>\n",
              "      <td>13</td>\n",
              "      <td>6</td>\n",
              "      <td>29</td>\n",
              "      <td>24023</td>\n",
              "      <td>4</td>\n",
              "      <td>P18</td>\n",
              "      <td>2</td>\n",
              "      <td>6</td>\n",
              "      <td>1</td>\n",
              "      <td>28</td>\n",
              "      <td>0</td>\n",
              "      <td>1</td>\n",
              "    </tr>\n",
              "    <tr>\n",
              "      <th>4</th>\n",
              "      <td>2008</td>\n",
              "      <td>8</td>\n",
              "      <td>13</td>\n",
              "      <td>7</td>\n",
              "      <td>29</td>\n",
              "      <td>24023</td>\n",
              "      <td>4</td>\n",
              "      <td>P13</td>\n",
              "      <td>4</td>\n",
              "      <td>5</td>\n",
              "      <td>1</td>\n",
              "      <td>38</td>\n",
              "      <td>1</td>\n",
              "      <td>1</td>\n",
              "    </tr>\n",
              "    <tr>\n",
              "      <th>5</th>\n",
              "      <td>2008</td>\n",
              "      <td>8</td>\n",
              "      <td>13</td>\n",
              "      <td>1</td>\n",
              "      <td>29</td>\n",
              "      <td>24024</td>\n",
              "      <td>2</td>\n",
              "      <td>B10</td>\n",
              "      <td>2</td>\n",
              "      <td>4</td>\n",
              "      <td>1</td>\n",
              "      <td>67</td>\n",
              "      <td>1</td>\n",
              "      <td>1</td>\n",
              "    </tr>\n",
              "    <tr>\n",
              "      <th>6</th>\n",
              "      <td>2008</td>\n",
              "      <td>8</td>\n",
              "      <td>13</td>\n",
              "      <td>1</td>\n",
              "      <td>9</td>\n",
              "      <td>24025</td>\n",
              "      <td>1</td>\n",
              "      <td>A11</td>\n",
              "      <td>3</td>\n",
              "      <td>4</td>\n",
              "      <td>1</td>\n",
              "      <td>62</td>\n",
              "      <td>1</td>\n",
              "      <td>1</td>\n",
              "    </tr>\n",
              "    <tr>\n",
              "      <th>7</th>\n",
              "      <td>2008</td>\n",
              "      <td>8</td>\n",
              "      <td>13</td>\n",
              "      <td>1</td>\n",
              "      <td>34</td>\n",
              "      <td>24026</td>\n",
              "      <td>1</td>\n",
              "      <td>A2</td>\n",
              "      <td>3</td>\n",
              "      <td>1</td>\n",
              "      <td>1</td>\n",
              "      <td>43</td>\n",
              "      <td>0</td>\n",
              "      <td>1</td>\n",
              "    </tr>\n",
              "    <tr>\n",
              "      <th>8</th>\n",
              "      <td>2008</td>\n",
              "      <td>8</td>\n",
              "      <td>13</td>\n",
              "      <td>2</td>\n",
              "      <td>34</td>\n",
              "      <td>24026</td>\n",
              "      <td>3</td>\n",
              "      <td>C2</td>\n",
              "      <td>12</td>\n",
              "      <td>1</td>\n",
              "      <td>1</td>\n",
              "      <td>43</td>\n",
              "      <td>1</td>\n",
              "      <td>1</td>\n",
              "    </tr>\n",
              "    <tr>\n",
              "      <th>9</th>\n",
              "      <td>2008</td>\n",
              "      <td>8</td>\n",
              "      <td>13</td>\n",
              "      <td>3</td>\n",
              "      <td>34</td>\n",
              "      <td>24026</td>\n",
              "      <td>2</td>\n",
              "      <td>B2</td>\n",
              "      <td>3</td>\n",
              "      <td>1</td>\n",
              "      <td>2</td>\n",
              "      <td>57</td>\n",
              "      <td>1</td>\n",
              "      <td>1</td>\n",
              "    </tr>\n",
              "  </tbody>\n",
              "</table>\n",
              "</div>"
            ],
            "text/plain": [
              "   year  month  day  order  country  session-id  category product-code  \\\n",
              "0  2008      8   13      3       29       24023         1          A15   \n",
              "1  2008      8   13      4       29       24023         1          A16   \n",
              "2  2008      8   13      5       29       24023         4          P11   \n",
              "3  2008      8   13      6       29       24023         4          P18   \n",
              "4  2008      8   13      7       29       24023         4          P13   \n",
              "5  2008      8   13      1       29       24024         2          B10   \n",
              "6  2008      8   13      1        9       24025         1          A11   \n",
              "7  2008      8   13      1       34       24026         1           A2   \n",
              "8  2008      8   13      2       34       24026         3           C2   \n",
              "9  2008      8   13      3       34       24026         2           B2   \n",
              "\n",
              "   colour  location  model-photography  price  price-higher-than-category  \\\n",
              "0      14         5                  2     33                           0   \n",
              "1       1         6                  1     33                           0   \n",
              "2       4         4                  2     38                           1   \n",
              "3       2         6                  1     28                           0   \n",
              "4       4         5                  1     38                           1   \n",
              "5       2         4                  1     67                           1   \n",
              "6       3         4                  1     62                           1   \n",
              "7       3         1                  1     43                           0   \n",
              "8      12         1                  1     43                           1   \n",
              "9       3         1                  2     57                           1   \n",
              "\n",
              "   page-no  \n",
              "0        1  \n",
              "1        1  \n",
              "2        1  \n",
              "3        1  \n",
              "4        1  \n",
              "5        1  \n",
              "6        1  \n",
              "7        1  \n",
              "8        1  \n",
              "9        1  "
            ]
          },
          "execution_count": 345,
          "metadata": {},
          "output_type": "execute_result"
        }
      ],
      "source": [
        "test_data"
      ]
    },
    {
      "cell_type": "code",
      "execution_count": null,
      "id": "5bc14d76",
      "metadata": {
        "id": "5bc14d76"
      },
      "outputs": [],
      "source": [
        "product_encoder = LabelEncoder()\n",
        "test_data['product-code-en'] = product_encoder.fit_transform(test_data['product-code'])"
      ]
    },
    {
      "cell_type": "code",
      "execution_count": null,
      "id": "2958231e",
      "metadata": {
        "id": "2958231e"
      },
      "outputs": [],
      "source": [
        "def price_bucketing(price: int):\n",
        "    if price in range(0, 26):\n",
        "        return 'budget'\n",
        "    elif price in range(26, 36):\n",
        "        return 'value'\n",
        "    elif price in range(35, 66):\n",
        "        return 'average'\n",
        "    elif price in range(66, 101):\n",
        "        return 'premium'\n",
        "    else:\n",
        "        return None\n",
        "\n",
        "test_data['price-category'] = test_data['price'].apply(lambda price: price_bucketing(price))"
      ]
    },
    {
      "cell_type": "code",
      "execution_count": null,
      "id": "e4a7f8d6",
      "metadata": {
        "id": "e4a7f8d6"
      },
      "outputs": [],
      "source": [
        "# price_category_encoder = LabelEncoder()\n",
        "# test_data['price-category_en'] = price_category_encoder.fit_transform(test_data['price-category'])"
      ]
    },
    {
      "cell_type": "code",
      "execution_count": null,
      "id": "1e4b57c1",
      "metadata": {
        "id": "1e4b57c1",
        "outputId": "110e51a7-150e-46b4-eb57-abea8f031dcb"
      },
      "outputs": [
        {
          "data": {
            "text/html": [
              "<div>\n",
              "<style scoped>\n",
              "    .dataframe tbody tr th:only-of-type {\n",
              "        vertical-align: middle;\n",
              "    }\n",
              "\n",
              "    .dataframe tbody tr th {\n",
              "        vertical-align: top;\n",
              "    }\n",
              "\n",
              "    .dataframe thead th {\n",
              "        text-align: right;\n",
              "    }\n",
              "</style>\n",
              "<table border=\"1\" class=\"dataframe\">\n",
              "  <thead>\n",
              "    <tr style=\"text-align: right;\">\n",
              "      <th></th>\n",
              "      <th>year</th>\n",
              "      <th>month</th>\n",
              "      <th>day</th>\n",
              "      <th>order</th>\n",
              "      <th>country</th>\n",
              "      <th>session-id</th>\n",
              "      <th>category</th>\n",
              "      <th>product-code</th>\n",
              "      <th>colour</th>\n",
              "      <th>location</th>\n",
              "      <th>model-photography</th>\n",
              "      <th>price</th>\n",
              "      <th>price-higher-than-category</th>\n",
              "      <th>page-no</th>\n",
              "      <th>product-code-en</th>\n",
              "      <th>price-category</th>\n",
              "    </tr>\n",
              "  </thead>\n",
              "  <tbody>\n",
              "    <tr>\n",
              "      <th>0</th>\n",
              "      <td>2008</td>\n",
              "      <td>8</td>\n",
              "      <td>13</td>\n",
              "      <td>3</td>\n",
              "      <td>29</td>\n",
              "      <td>24023</td>\n",
              "      <td>1</td>\n",
              "      <td>A15</td>\n",
              "      <td>14</td>\n",
              "      <td>5</td>\n",
              "      <td>2</td>\n",
              "      <td>33</td>\n",
              "      <td>0</td>\n",
              "      <td>1</td>\n",
              "      <td>0</td>\n",
              "      <td>value</td>\n",
              "    </tr>\n",
              "    <tr>\n",
              "      <th>1</th>\n",
              "      <td>2008</td>\n",
              "      <td>8</td>\n",
              "      <td>13</td>\n",
              "      <td>4</td>\n",
              "      <td>29</td>\n",
              "      <td>24023</td>\n",
              "      <td>1</td>\n",
              "      <td>A16</td>\n",
              "      <td>1</td>\n",
              "      <td>6</td>\n",
              "      <td>1</td>\n",
              "      <td>33</td>\n",
              "      <td>0</td>\n",
              "      <td>1</td>\n",
              "      <td>1</td>\n",
              "      <td>value</td>\n",
              "    </tr>\n",
              "    <tr>\n",
              "      <th>2</th>\n",
              "      <td>2008</td>\n",
              "      <td>8</td>\n",
              "      <td>13</td>\n",
              "      <td>5</td>\n",
              "      <td>29</td>\n",
              "      <td>24023</td>\n",
              "      <td>4</td>\n",
              "      <td>P11</td>\n",
              "      <td>4</td>\n",
              "      <td>4</td>\n",
              "      <td>2</td>\n",
              "      <td>38</td>\n",
              "      <td>1</td>\n",
              "      <td>1</td>\n",
              "      <td>2</td>\n",
              "      <td>average</td>\n",
              "    </tr>\n",
              "    <tr>\n",
              "      <th>3</th>\n",
              "      <td>2008</td>\n",
              "      <td>8</td>\n",
              "      <td>13</td>\n",
              "      <td>6</td>\n",
              "      <td>29</td>\n",
              "      <td>24023</td>\n",
              "      <td>4</td>\n",
              "      <td>P18</td>\n",
              "      <td>2</td>\n",
              "      <td>6</td>\n",
              "      <td>1</td>\n",
              "      <td>28</td>\n",
              "      <td>0</td>\n",
              "      <td>1</td>\n",
              "      <td>3</td>\n",
              "      <td>value</td>\n",
              "    </tr>\n",
              "    <tr>\n",
              "      <th>4</th>\n",
              "      <td>2008</td>\n",
              "      <td>8</td>\n",
              "      <td>13</td>\n",
              "      <td>7</td>\n",
              "      <td>29</td>\n",
              "      <td>24023</td>\n",
              "      <td>4</td>\n",
              "      <td>P13</td>\n",
              "      <td>4</td>\n",
              "      <td>5</td>\n",
              "      <td>1</td>\n",
              "      <td>38</td>\n",
              "      <td>1</td>\n",
              "      <td>1</td>\n",
              "      <td>4</td>\n",
              "      <td>average</td>\n",
              "    </tr>\n",
              "    <tr>\n",
              "      <th>5</th>\n",
              "      <td>2008</td>\n",
              "      <td>8</td>\n",
              "      <td>13</td>\n",
              "      <td>1</td>\n",
              "      <td>29</td>\n",
              "      <td>24024</td>\n",
              "      <td>2</td>\n",
              "      <td>B10</td>\n",
              "      <td>2</td>\n",
              "      <td>4</td>\n",
              "      <td>1</td>\n",
              "      <td>67</td>\n",
              "      <td>1</td>\n",
              "      <td>1</td>\n",
              "      <td>5</td>\n",
              "      <td>premium</td>\n",
              "    </tr>\n",
              "    <tr>\n",
              "      <th>6</th>\n",
              "      <td>2008</td>\n",
              "      <td>8</td>\n",
              "      <td>13</td>\n",
              "      <td>1</td>\n",
              "      <td>9</td>\n",
              "      <td>24025</td>\n",
              "      <td>1</td>\n",
              "      <td>A11</td>\n",
              "      <td>3</td>\n",
              "      <td>4</td>\n",
              "      <td>1</td>\n",
              "      <td>62</td>\n",
              "      <td>1</td>\n",
              "      <td>1</td>\n",
              "      <td>6</td>\n",
              "      <td>average</td>\n",
              "    </tr>\n",
              "    <tr>\n",
              "      <th>7</th>\n",
              "      <td>2008</td>\n",
              "      <td>8</td>\n",
              "      <td>13</td>\n",
              "      <td>1</td>\n",
              "      <td>34</td>\n",
              "      <td>24026</td>\n",
              "      <td>1</td>\n",
              "      <td>A2</td>\n",
              "      <td>3</td>\n",
              "      <td>1</td>\n",
              "      <td>1</td>\n",
              "      <td>43</td>\n",
              "      <td>0</td>\n",
              "      <td>1</td>\n",
              "      <td>7</td>\n",
              "      <td>average</td>\n",
              "    </tr>\n",
              "    <tr>\n",
              "      <th>8</th>\n",
              "      <td>2008</td>\n",
              "      <td>8</td>\n",
              "      <td>13</td>\n",
              "      <td>2</td>\n",
              "      <td>34</td>\n",
              "      <td>24026</td>\n",
              "      <td>3</td>\n",
              "      <td>C2</td>\n",
              "      <td>12</td>\n",
              "      <td>1</td>\n",
              "      <td>1</td>\n",
              "      <td>43</td>\n",
              "      <td>1</td>\n",
              "      <td>1</td>\n",
              "      <td>8</td>\n",
              "      <td>average</td>\n",
              "    </tr>\n",
              "    <tr>\n",
              "      <th>9</th>\n",
              "      <td>2008</td>\n",
              "      <td>8</td>\n",
              "      <td>13</td>\n",
              "      <td>3</td>\n",
              "      <td>34</td>\n",
              "      <td>24026</td>\n",
              "      <td>2</td>\n",
              "      <td>B2</td>\n",
              "      <td>3</td>\n",
              "      <td>1</td>\n",
              "      <td>2</td>\n",
              "      <td>57</td>\n",
              "      <td>1</td>\n",
              "      <td>1</td>\n",
              "      <td>9</td>\n",
              "      <td>average</td>\n",
              "    </tr>\n",
              "  </tbody>\n",
              "</table>\n",
              "</div>"
            ],
            "text/plain": [
              "   year  month  day  order  country  session-id  category product-code  \\\n",
              "0  2008      8   13      3       29       24023         1          A15   \n",
              "1  2008      8   13      4       29       24023         1          A16   \n",
              "2  2008      8   13      5       29       24023         4          P11   \n",
              "3  2008      8   13      6       29       24023         4          P18   \n",
              "4  2008      8   13      7       29       24023         4          P13   \n",
              "5  2008      8   13      1       29       24024         2          B10   \n",
              "6  2008      8   13      1        9       24025         1          A11   \n",
              "7  2008      8   13      1       34       24026         1           A2   \n",
              "8  2008      8   13      2       34       24026         3           C2   \n",
              "9  2008      8   13      3       34       24026         2           B2   \n",
              "\n",
              "   colour  location  model-photography  price  price-higher-than-category  \\\n",
              "0      14         5                  2     33                           0   \n",
              "1       1         6                  1     33                           0   \n",
              "2       4         4                  2     38                           1   \n",
              "3       2         6                  1     28                           0   \n",
              "4       4         5                  1     38                           1   \n",
              "5       2         4                  1     67                           1   \n",
              "6       3         4                  1     62                           1   \n",
              "7       3         1                  1     43                           0   \n",
              "8      12         1                  1     43                           1   \n",
              "9       3         1                  2     57                           1   \n",
              "\n",
              "   page-no  product-code-en price-category  \n",
              "0        1                0          value  \n",
              "1        1                1          value  \n",
              "2        1                2        average  \n",
              "3        1                3          value  \n",
              "4        1                4        average  \n",
              "5        1                5        premium  \n",
              "6        1                6        average  \n",
              "7        1                7        average  \n",
              "8        1                8        average  \n",
              "9        1                9        average  "
            ]
          },
          "execution_count": 349,
          "metadata": {},
          "output_type": "execute_result"
        }
      ],
      "source": [
        "test_data"
      ]
    },
    {
      "cell_type": "code",
      "execution_count": null,
      "id": "24f51b7b",
      "metadata": {
        "id": "24f51b7b"
      },
      "outputs": [],
      "source": [
        "cleaned_test_data = test_data.drop(['year', 'product-code','price-higher-than-category','session-id', 'day', 'order', 'country', 'page-no'], axis=1)"
      ]
    },
    {
      "cell_type": "code",
      "execution_count": null,
      "id": "02255430",
      "metadata": {
        "id": "02255430",
        "outputId": "7263f081-4df1-404f-c64e-c01f13ab4df4"
      },
      "outputs": [
        {
          "name": "stdout",
          "output_type": "stream",
          "text": [
            "<class 'pandas.core.frame.DataFrame'>\n",
            "RangeIndex: 10 entries, 0 to 9\n",
            "Data columns (total 8 columns):\n",
            " #   Column             Non-Null Count  Dtype \n",
            "---  ------             --------------  ----- \n",
            " 0   month              10 non-null     int64 \n",
            " 1   category           10 non-null     int64 \n",
            " 2   colour             10 non-null     int64 \n",
            " 3   location           10 non-null     int64 \n",
            " 4   model-photography  10 non-null     int64 \n",
            " 5   price              10 non-null     int64 \n",
            " 6   product-code-en    10 non-null     int32 \n",
            " 7   price-category     10 non-null     object\n",
            "dtypes: int32(1), int64(6), object(1)\n",
            "memory usage: 732.0+ bytes\n"
          ]
        }
      ],
      "source": [
        "cleaned_test_data.info()"
      ]
    },
    {
      "cell_type": "code",
      "execution_count": null,
      "id": "7541e277",
      "metadata": {
        "id": "7541e277",
        "outputId": "59f0b7fb-d3dd-4840-de11-bf21dd63766e"
      },
      "outputs": [
        {
          "data": {
            "text/html": [
              "<div>\n",
              "<style scoped>\n",
              "    .dataframe tbody tr th:only-of-type {\n",
              "        vertical-align: middle;\n",
              "    }\n",
              "\n",
              "    .dataframe tbody tr th {\n",
              "        vertical-align: top;\n",
              "    }\n",
              "\n",
              "    .dataframe thead th {\n",
              "        text-align: right;\n",
              "    }\n",
              "</style>\n",
              "<table border=\"1\" class=\"dataframe\">\n",
              "  <thead>\n",
              "    <tr style=\"text-align: right;\">\n",
              "      <th></th>\n",
              "      <th>month</th>\n",
              "      <th>category</th>\n",
              "      <th>colour</th>\n",
              "      <th>location</th>\n",
              "      <th>model-photography</th>\n",
              "      <th>price</th>\n",
              "      <th>product-code-en</th>\n",
              "      <th>price-category</th>\n",
              "    </tr>\n",
              "  </thead>\n",
              "  <tbody>\n",
              "    <tr>\n",
              "      <th>0</th>\n",
              "      <td>8</td>\n",
              "      <td>1</td>\n",
              "      <td>14</td>\n",
              "      <td>5</td>\n",
              "      <td>2</td>\n",
              "      <td>33</td>\n",
              "      <td>0</td>\n",
              "      <td>value</td>\n",
              "    </tr>\n",
              "    <tr>\n",
              "      <th>1</th>\n",
              "      <td>8</td>\n",
              "      <td>1</td>\n",
              "      <td>1</td>\n",
              "      <td>6</td>\n",
              "      <td>1</td>\n",
              "      <td>33</td>\n",
              "      <td>1</td>\n",
              "      <td>value</td>\n",
              "    </tr>\n",
              "    <tr>\n",
              "      <th>2</th>\n",
              "      <td>8</td>\n",
              "      <td>4</td>\n",
              "      <td>4</td>\n",
              "      <td>4</td>\n",
              "      <td>2</td>\n",
              "      <td>38</td>\n",
              "      <td>2</td>\n",
              "      <td>average</td>\n",
              "    </tr>\n",
              "    <tr>\n",
              "      <th>3</th>\n",
              "      <td>8</td>\n",
              "      <td>4</td>\n",
              "      <td>2</td>\n",
              "      <td>6</td>\n",
              "      <td>1</td>\n",
              "      <td>28</td>\n",
              "      <td>3</td>\n",
              "      <td>value</td>\n",
              "    </tr>\n",
              "    <tr>\n",
              "      <th>4</th>\n",
              "      <td>8</td>\n",
              "      <td>4</td>\n",
              "      <td>4</td>\n",
              "      <td>5</td>\n",
              "      <td>1</td>\n",
              "      <td>38</td>\n",
              "      <td>4</td>\n",
              "      <td>average</td>\n",
              "    </tr>\n",
              "    <tr>\n",
              "      <th>5</th>\n",
              "      <td>8</td>\n",
              "      <td>2</td>\n",
              "      <td>2</td>\n",
              "      <td>4</td>\n",
              "      <td>1</td>\n",
              "      <td>67</td>\n",
              "      <td>5</td>\n",
              "      <td>premium</td>\n",
              "    </tr>\n",
              "    <tr>\n",
              "      <th>6</th>\n",
              "      <td>8</td>\n",
              "      <td>1</td>\n",
              "      <td>3</td>\n",
              "      <td>4</td>\n",
              "      <td>1</td>\n",
              "      <td>62</td>\n",
              "      <td>6</td>\n",
              "      <td>average</td>\n",
              "    </tr>\n",
              "    <tr>\n",
              "      <th>7</th>\n",
              "      <td>8</td>\n",
              "      <td>1</td>\n",
              "      <td>3</td>\n",
              "      <td>1</td>\n",
              "      <td>1</td>\n",
              "      <td>43</td>\n",
              "      <td>7</td>\n",
              "      <td>average</td>\n",
              "    </tr>\n",
              "    <tr>\n",
              "      <th>8</th>\n",
              "      <td>8</td>\n",
              "      <td>3</td>\n",
              "      <td>12</td>\n",
              "      <td>1</td>\n",
              "      <td>1</td>\n",
              "      <td>43</td>\n",
              "      <td>8</td>\n",
              "      <td>average</td>\n",
              "    </tr>\n",
              "    <tr>\n",
              "      <th>9</th>\n",
              "      <td>8</td>\n",
              "      <td>2</td>\n",
              "      <td>3</td>\n",
              "      <td>1</td>\n",
              "      <td>2</td>\n",
              "      <td>57</td>\n",
              "      <td>9</td>\n",
              "      <td>average</td>\n",
              "    </tr>\n",
              "  </tbody>\n",
              "</table>\n",
              "</div>"
            ],
            "text/plain": [
              "   month  category  colour  location  model-photography  price  \\\n",
              "0      8         1      14         5                  2     33   \n",
              "1      8         1       1         6                  1     33   \n",
              "2      8         4       4         4                  2     38   \n",
              "3      8         4       2         6                  1     28   \n",
              "4      8         4       4         5                  1     38   \n",
              "5      8         2       2         4                  1     67   \n",
              "6      8         1       3         4                  1     62   \n",
              "7      8         1       3         1                  1     43   \n",
              "8      8         3      12         1                  1     43   \n",
              "9      8         2       3         1                  2     57   \n",
              "\n",
              "   product-code-en price-category  \n",
              "0                0          value  \n",
              "1                1          value  \n",
              "2                2        average  \n",
              "3                3          value  \n",
              "4                4        average  \n",
              "5                5        premium  \n",
              "6                6        average  \n",
              "7                7        average  \n",
              "8                8        average  \n",
              "9                9        average  "
            ]
          },
          "execution_count": 352,
          "metadata": {},
          "output_type": "execute_result"
        }
      ],
      "source": [
        "cleaned_test_data"
      ]
    },
    {
      "cell_type": "code",
      "execution_count": null,
      "id": "543ac442",
      "metadata": {
        "id": "543ac442"
      },
      "outputs": [],
      "source": [
        "cleaned_test_data.to_csv(\"processed_test_data.csv\")"
      ]
    }
  ],
  "metadata": {
    "colab": {
      "provenance": []
    },
    "kernelspec": {
      "display_name": "Python 3 (ipykernel)",
      "language": "python",
      "name": "python3"
    },
    "language_info": {
      "codemirror_mode": {
        "name": "ipython",
        "version": 3
      },
      "file_extension": ".py",
      "mimetype": "text/x-python",
      "name": "python",
      "nbconvert_exporter": "python",
      "pygments_lexer": "ipython3",
      "version": "3.11.4"
    }
  },
  "nbformat": 4,
  "nbformat_minor": 5
}